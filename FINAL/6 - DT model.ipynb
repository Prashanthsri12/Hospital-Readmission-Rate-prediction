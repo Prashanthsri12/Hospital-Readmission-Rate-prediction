{
 "cells": [
  {
   "cell_type": "code",
   "execution_count": 8,
   "metadata": {},
   "outputs": [],
   "source": [
    "import numpy as np\n",
    "import pandas as pd\n",
    "import matplotlib.pyplot as plt\n",
    "import seaborn as sns\n",
    "from sklearn import metrics\n",
    "from sklearn.metrics import auc,accuracy_score,precision_score,recall_score,classification_report,confusion_matrix,roc_auc_score,roc_curve\n",
    "from sklearn.model_selection import train_test_split\n",
    "from imblearn.over_sampling import SMOTE\n",
    "from collections import Counter\n",
    "from sklearn import model_selection\n",
    "import warnings\n",
    "warnings.filterwarnings('ignore')\n",
    "from imblearn.under_sampling import RandomUnderSampler, ClusterCentroids,TomekLinks,NeighbourhoodCleaningRule,NearMiss\n",
    "\n",
    "def down_sampling(X,y,down_sampling_type,info):\n",
    "    '''refer : https://towardsdatascience.com/sampling-techniques-for-extremely-imbalanced-data-part-i-under-sampling-a8dbc3d8d6d8'''\n",
    "    \n",
    "    #random under sampling\n",
    "    if down_sampling_type == 'random':\n",
    "        sampler = RandomUnderSampler(sampling_strategy = 15/85,random_state=0)\n",
    "        X_ds, y_ds = sampler.fit_sample(X, y)\n",
    "        if info:\n",
    "            print('After random down sampling {}'.format(Counter(y_ds)))\n",
    "        return X_ds,y_ds\n",
    "    \n",
    "    #nearmiss under sampling\n",
    "    if down_sampling_type == 'nearmiss':\n",
    "        sampler = NearMiss(sampling_strategy = 15/85,random_state=0)\n",
    "        X_ds, y_ds = sampler.fit_sample(X, y)\n",
    "        if info:\n",
    "            print('After nearmiss down sampling {}'.format(Counter(y_ds)))        \n",
    "    return X_ds,y_ds\n",
    "\n",
    "#------------------------------------------------------------------------\n",
    "    \n",
    "def up_sampling(X,y,info):\n",
    "    \n",
    "    #up sampling\n",
    "    sm = SMOTE(sampling_strategy = 30/70,random_state=0 )\n",
    "    X_us, y_us = sm.fit_sample(X, y)\n",
    "    if info:\n",
    "        print('After SMOTE up sampling {}'.format(Counter(y_us)))\n",
    "    return X_us,y_us\n",
    "\n",
    "#------------------------------------------------------------------------\n",
    "    \n",
    "def re_sampling(X,y,info,sampling_type,down_sampling_type):\n",
    "    \n",
    "    if sampling_type=='none':\n",
    "        if info:\n",
    "            print('split as in original data {}'.format(Counter(y)))\n",
    "        return X,y\n",
    "\n",
    "    if sampling_type=='down_sampling':\n",
    "        X_ds,y_ds = down_sampling(X,y,down_sampling_type=down_sampling_type,info=info)\n",
    "        return X_ds,y_ds\n",
    "    \n",
    "    if sampling_type=='up_sampling':\n",
    "        X_us,y_us = up_sampling(X,y,info=info)\n",
    "        return X_us,y_us\n",
    "    \n",
    "    if sampling_type=='hybrid':\n",
    "        X_ds,y_ds = down_sampling(X,y,down_sampling_type=down_sampling_type,info=info)\n",
    "        X_hs,y_hs = up_sampling(X_ds,y_ds,info=info)\n",
    "        return X_hs,y_hs\n",
    "\n",
    "#----------------------------------------------------------------------------------\n",
    "\n",
    "def train_test_resampled_split(X,y,info,sampling_type,down_sampling_type,test_size):  \n",
    "    \n",
    "    if info:\n",
    "        print('Before sampling {}'.format(Counter(y)))\n",
    "    X_rs,y_rs = re_sampling(X,y,info=info,sampling_type=sampling_type,down_sampling_type=down_sampling_type)\n",
    "    \n",
    "    \n",
    "    \n",
    "    X_train,X_test,y_train,y_test = train_test_split(X_rs,y_rs,test_size=test_size,random_state=0,stratify=y_rs)\n",
    "    \n",
    "    print('-'*50)\n",
    "    \n",
    "    return X_train,X_test,y_train,y_test\n",
    "\n",
    "#----------------------------------------------------------------------------------\n",
    "\n",
    "def cutoff_point(model,X,y,info,test_size,sampling_type,down_sampling_type,cv_search):\n",
    "\n",
    "    X_train,X_test,y_train,y_test = train_test_resampled_split(X=X,y=y,info=info,test_size=test_size,sampling_type=sampling_type,down_sampling_type=down_sampling_type)\n",
    "    \n",
    "    if cv_search != True:\n",
    "        model[1].fit(X_train, y_train)\n",
    "\n",
    "    prd = model[1].predict(X_test)\n",
    "    proba = model[1].predict_proba(X_test)\n",
    "    \n",
    "    y_pred_df = pd.DataFrame(proba)\n",
    "    y_pred_1 = y_pred_df.iloc[:,1]\n",
    "    y_test_df = pd.DataFrame(y_test)\n",
    "\n",
    "    y_pred_1.reset_index(drop=True, inplace=True)\n",
    "    y_test_df.reset_index(drop=True, inplace=True)\n",
    "\n",
    "    y_pred_final = pd.concat([y_test_df,y_pred_1],axis=1)\n",
    "    y_pred_final= y_pred_final.rename(columns={ 0:'readmitted',1 : 'readmitted_probability'})\n",
    "    y_pred_final['predicted'] = y_pred_final.readmitted_probability.map( lambda x: 1 if x > 0.5 else 0)\n",
    "   \n",
    "\n",
    "    numbers = [float(x)/100 for x in range(100)]\n",
    "    for i in numbers:\n",
    "        y_pred_final[i]= y_pred_final.readmitted_probability.map( lambda x: 1 if x > i else 0)\n",
    "    y_pred_final.head()\n",
    "\n",
    "    cutoff_df = pd.DataFrame( columns = ['prob','accuracy','sensitivity','specificity','var_ssa','recall','precision','var_pra','Area Under Curve'])\n",
    "    from sklearn.metrics import confusion_matrix\n",
    "    \n",
    "    for i in numbers:\n",
    "        cm1 = confusion_matrix( y_pred_final.readmitted, y_pred_final[i] )\n",
    "        total1=sum(sum(cm1))\n",
    "        \n",
    "        tp = cm1[0,0]\n",
    "        tn = cm1[1,1]\n",
    "        fp = cm1[1,0]\n",
    "        fn = cm1[0,1]\n",
    "        \n",
    "        accuracy = (tp+tn)/total1\n",
    "        \n",
    "        sensi = tp/(tp+fn)\n",
    "        speci = tn/(tn+fp)\n",
    "        \n",
    "        recall = tp/(tp+fn)\n",
    "        precision = tp/(tp+fp)\n",
    "        \n",
    "        var_ssa = np.std([accuracy,sensi,speci])\n",
    "        var_pra = np.std([accuracy,recall,precision])\n",
    "        \n",
    "        fpr, tpr, thresholds = roc_curve(y_pred_final.readmitted, y_pred_final[i])\n",
    "        auc = metrics.auc(fpr, tpr)\n",
    "        \n",
    "        cutoff_df.loc[i] =[ i ,accuracy,sensi,speci,var_ssa,recall,precision,var_pra,auc]\n",
    "\n",
    "    print('-'*50)\n",
    "    print('Finding Optimal Cutoff Point based on accuracy, recall, precision')\n",
    "    cutoff_df.plot.line(x='prob', y=['accuracy','recall','precision'])\n",
    "    plt.show()\n",
    "    optimum_pra = cutoff_df.iloc[cutoff_df['var_pra'].argmin()]\n",
    "    print('Optimum cutoff probability is {0:.2f}'.format(optimum_pra[0]))\n",
    "    \n",
    "    optimum_accuracy = accuracy_score(y_pred_final.readmitted,y_pred_final[optimum_pra[0]])\n",
    "    optimum_precision = precision_score(y_pred_final.readmitted,y_pred_final[optimum_pra[0]])\n",
    "    optimum_recall = recall_score(y_pred_final.readmitted,y_pred_final[optimum_pra[0]])\n",
    "    optimum_roc_auc = roc_auc_score(y_pred_final.readmitted,y_pred_final[optimum_pra[0]])\n",
    "    \n",
    "    print(\"Accuracy is {0:.2f}\".format(optimum_accuracy))\n",
    "    print(\"Precision is {0:.2f}\".format(optimum_precision))\n",
    "    print(\"Recall is {0:.2f}\".format(optimum_recall))\n",
    "    print(\"ROC_AUC Score is {0:.2f}\".format(optimum_roc_auc))\n",
    "    \n",
    "    result_for_optimized.loc[model[0]+'_OC'] = [optimum_accuracy,optimum_precision,optimum_recall,optimum_roc_auc]\n",
    "    \n",
    "    print(\"\\nClassification report\\n\",classification_report(y_pred_final.readmitted,y_pred_final[optimum_pra[0]]))\n",
    "    print(\"confusion matrix \\n\\n\", confusion_matrix(y_pred_final.readmitted,y_pred_final[optimum_pra[0]]))\n",
    "    \n",
    "    return cutoff_df\n",
    "\n",
    "#----------------------------------------------------------------------------------\n",
    "\n",
    "def plot_roc_curve(y_true,proba):\n",
    "    fpr, tpr, threshold = roc_curve(y_true, proba)\n",
    "    roc_auc = auc(fpr, tpr)\n",
    "\n",
    "    plt.title('Receiver Operating Characteristic')\n",
    "    plt.plot(fpr, tpr, 'b', label = 'AUC = %0.2f' % roc_auc)\n",
    "    plt.legend(loc = 'lower right')\n",
    "    plt.plot([0, 1], [0, 1],'r--')\n",
    "    plt.xlim([0, 1])\n",
    "    plt.ylim([0, 1])\n",
    "    plt.ylabel('True Positive Rate')\n",
    "    plt.xlabel('False Positive Rate')\n",
    "    plt.show()\n",
    "\n",
    "#----------------------------------------------------------------------------------\n",
    "    \n",
    "def model_check(model,X,y,sampling_type,down_sampling_type,test_size=0.15,cv_search=False,info=False):\n",
    "    \n",
    "    print(model[0])\n",
    "    print('-'*50)\n",
    "    \n",
    "    if cv_search :\n",
    "        \n",
    "        print('Data set Before resampling {}'.format(Counter(y)) if info else '')\n",
    "        \n",
    "        X_train,X_test,y_train,y_test, = train_test_resampled_split(X,y,test_size=test_size,sampling_type=sampling_type,down_sampling_type=down_sampling_type,info=info)\n",
    "        \n",
    "        print('Train set After resampling {}'.format(Counter(y_train)))\n",
    "        print('Test set After resampling {}'.format(Counter(y_test)))\n",
    "            \n",
    "        model[1].fit(X_train, y_train)\n",
    "        prd = model[1].predict(X_test)\n",
    "        proba = model[1].predict_proba(X_test)[:,1]\n",
    "\n",
    "        accuracy = accuracy_score(y_test, prd)\n",
    "        precision = precision_score(y_test, prd)\n",
    "        recall = recall_score(y_test, prd)\n",
    "        roc_auc = roc_auc_score(y_test,proba)\n",
    "\n",
    "        print(\"Accuracy is {0:.2f}\".format(accuracy))\n",
    "        print(\"Precision is {0:.2f}\".format(precision))\n",
    "        print(\"Recall is {0:.2f}\".format(recall))\n",
    "        print(\"ROC_AUC Score is {0:.2f}\".format(roc_auc))\n",
    "        plot_roc_curve(y_test,proba)\n",
    "        print(\"\\nClassification report\\n\",classification_report(y_test, prd))\n",
    "        print(\"confusion matrix \\n\\n\", confusion_matrix(y_test,prd)) \n",
    "        print('-'*50)\n",
    "        print('best_parameters')\n",
    "        print(model[1].best_params_)\n",
    "        \n",
    "        result.loc[model[0]] = [accuracy,precision,recall,roc_auc]\n",
    "\n",
    "        \n",
    "    else : \n",
    "    \n",
    "        kf = model_selection.StratifiedKFold(n_splits=10,shuffle=True,random_state=1)\n",
    "        i=1\n",
    "        cv_results=[]\n",
    "        cv_df = pd.DataFrame( columns = ['kfold','accuracy','recall','precision','ROC_AUC'])\n",
    "        for train_index,test_index in kf.split(X,y):\n",
    "            print('{} of KFold {}'.format(i,kf.n_splits))\n",
    "\n",
    "            xtr,xte = X.loc[train_index],X.loc[test_index]\n",
    "            ytr,yte = y.loc[train_index],y.loc[test_index]\n",
    "\n",
    "            X_tr_rs,y_tr_rs = re_sampling(xtr,ytr,info=info,sampling_type=sampling_type,down_sampling_type=down_sampling_type)\n",
    "\n",
    "            X_te_rs,y_te_rs = re_sampling(xte,yte,info=info,sampling_type=sampling_type,down_sampling_type=down_sampling_type)\n",
    "\n",
    "            model[1].fit(X_tr_rs, y_tr_rs)\n",
    "            y_pred = model[1].predict(X_te_rs)\n",
    "            y_proba = model[1].predict_proba(X_te_rs)[:,1]\n",
    "\n",
    "            accuracy = accuracy_score(y_te_rs, y_pred)\n",
    "            precision = precision_score(y_te_rs, y_pred)\n",
    "            recall = recall_score(y_te_rs, y_pred)\n",
    "            roc_auc = roc_auc_score(y_te_rs,y_proba)\n",
    "            \n",
    "            cv_df.loc[i] =[ i ,accuracy,recall,precision,roc_auc]\n",
    "            '''print(\"\\nAccuracy is {0:.2f}\".format(accuracy))\n",
    "            print(\"Precision is {0:.2f}\".format(precision))\n",
    "            print(\"Recall is {0:.2f}\".format(recall))\n",
    "            print(\"ROC_AUC Score is {0:.2f}\".format(roc_auc))\n",
    "\n",
    "            plot_roc_curve(y_te_rs,y_proba)\n",
    "\n",
    "            print(\"\\nClassification report\\n\",classification_report(y_te_rs, y_pred))\n",
    "            print(\"confusion matrix \\n\\n\", confusion_matrix(y_te_rs,y_pred))\n",
    "            print('-'*50)'''\n",
    "\n",
    "            i+=1    \n",
    "\n",
    "        print('\\n\\n',cv_df)\n",
    "        print('\\nAverage accuracy after k-fold = {}'.format(np.mean(cv_df['accuracy'])))\n",
    "        print('Average recall after k-fold = {}'.format(np.mean(cv_df['recall'])))\n",
    "        print('Average precision after k-fold = {}'.format(np.mean(cv_df['precision'])))\n",
    "        print('Average ROC_AUC after k-fold = {}'.format(np.mean(cv_df['ROC_AUC'])))\n",
    "    \n",
    "        result.loc[model[0]] = [np.mean(cv_df['accuracy']),np.mean(cv_df['precision']),np.mean(cv_df['recall']),np.mean(cv_df['ROC_AUC'])]\n",
    "    \n",
    "    print('-'*50)\n",
    "    print('\\n')\n",
    "    cutoff_df = cutoff_point(model,X,y,cv_search=cv_search,info=info,test_size=test_size,sampling_type=sampling_type,down_sampling_type=down_sampling_type)\n",
    "\n",
    "    return \n",
    "\n",
    "result = pd.DataFrame(columns=['Accuracy','Precision','Recall','AUC_ROC'])\n",
    "result_for_optimized = pd.DataFrame(columns=['Accuracy','Precision','Recall','AUC_ROC'])"
   ]
  },
  {
   "cell_type": "code",
   "execution_count": 9,
   "metadata": {},
   "outputs": [],
   "source": [
    "data = pd.read_csv('final_data.csv')\n",
    "X = data.drop('readmitted',axis=1)\n",
    "y = data['readmitted']"
   ]
  },
  {
   "cell_type": "code",
   "execution_count": null,
   "metadata": {},
   "outputs": [],
   "source": []
  },
  {
   "cell_type": "code",
   "execution_count": 10,
   "metadata": {
    "scrolled": false
   },
   "outputs": [
    {
     "name": "stdout",
     "output_type": "stream",
     "text": [
      "Decision Tree Classifier\n",
      "--------------------------------------------------\n",
      "1 of KFold 10\n",
      "2 of KFold 10\n",
      "3 of KFold 10\n",
      "4 of KFold 10\n",
      "5 of KFold 10\n",
      "6 of KFold 10\n",
      "7 of KFold 10\n",
      "8 of KFold 10\n",
      "9 of KFold 10\n",
      "10 of KFold 10\n",
      "\n",
      "\n",
      "     kfold  accuracy    recall  precision   ROC_AUC\n",
      "1     1.0  0.734630  0.554682   0.557971  0.683205\n",
      "2     2.0  0.759969  0.613621   0.597196  0.718146\n",
      "3     3.0  0.754610  0.625245   0.585067  0.717586\n",
      "4     4.0  0.768144  0.619359   0.612153  0.725622\n",
      "5     5.0  0.749117  0.588620   0.580645  0.703248\n",
      "6     6.0  0.752112  0.584152   0.587228  0.704113\n",
      "7     7.0  0.747397  0.573019   0.579854  0.697564\n",
      "8     8.0  0.751915  0.584152   0.586842  0.703856\n",
      "9     9.0  0.752308  0.580878   0.588196  0.703259\n",
      "10   10.0  0.743665  0.567780   0.573413  0.693402\n",
      "\n",
      "Average accuracy after k-fold = 0.7513867000735689\n",
      "Average recall after k-fold = 0.5891508547046984\n",
      "Average precision after k-fold = 0.5848565452598693\n",
      "Average ROC_AUC after k-fold = 0.705000174664055\n",
      "--------------------------------------------------\n",
      "\n",
      "\n",
      "--------------------------------------------------\n",
      "--------------------------------------------------\n",
      "Finding Optimal Cutoff Point based on accuracy, recall, precision\n"
     ]
    },
    {
     "data": {
      "image/png": "[encoded data removed]",
      "text/plain": [
       "<Figure size 432x288 with 1 Axes>"
      ]
     },
     "metadata": {
      "needs_background": "light"
     },
     "output_type": "display_data"
    },
    {
     "name": "stdout",
     "output_type": "stream",
     "text": [
      "Optimum cutoff probability is 0.50\n",
      "Accuracy is 0.77\n",
      "Precision is 0.60\n",
      "Recall is 0.66\n",
      "ROC_AUC Score is 0.74\n",
      "\n",
      "Classification report\n",
      "               precision    recall  f1-score   support\n",
      "\n",
      "           0       0.85      0.81      0.83      5349\n",
      "           1       0.60      0.66      0.63      2293\n",
      "\n",
      "    accuracy                           0.77      7642\n",
      "   macro avg       0.73      0.74      0.73      7642\n",
      "weighted avg       0.78      0.77      0.77      7642\n",
      "\n",
      "confusion matrix \n",
      "\n",
      " [[4344 1005]\n",
      " [ 769 1524]]\n"
     ]
    }
   ],
   "source": [
    "from sklearn.tree import DecisionTreeClassifier\n",
    "dtc = DecisionTreeClassifier()\n",
    "model = ['Decision Tree Classifier',dtc]\n",
    "model_check(model,X,y,sampling_type='hybrid',down_sampling_type='nearmiss',cv_search=False,info=False)"
   ]
  },
  {
   "cell_type": "code",
   "execution_count": null,
   "metadata": {},
   "outputs": [],
   "source": []
  },
  {
   "cell_type": "code",
   "execution_count": 11,
   "metadata": {
    "scrolled": false
   },
   "outputs": [
    {
     "name": "stdout",
     "output_type": "stream",
     "text": [
      "Decision Tree Classifier with Randomsearch CV\n",
      "--------------------------------------------------\n",
      "\n",
      "--------------------------------------------------\n",
      "Train set After resampling Counter({0: 28528, 1: 12225})\n",
      "Test set After resampling Counter({0: 7132, 1: 3057})\n",
      "Fitting 10 folds for each of 1000 candidates, totalling 10000 fits\n"
     ]
    },
    {
     "name": "stderr",
     "output_type": "stream",
     "text": [
      "[Parallel(n_jobs=-1)]: Using backend LokyBackend with 8 concurrent workers.\n",
      "[Parallel(n_jobs=-1)]: Done  34 tasks      | elapsed:    4.9s\n",
      "[Parallel(n_jobs=-1)]: Done 184 tasks      | elapsed:   18.6s\n",
      "[Parallel(n_jobs=-1)]: Done 434 tasks      | elapsed:   44.2s\n",
      "[Parallel(n_jobs=-1)]: Done 784 tasks      | elapsed:  1.3min\n",
      "[Parallel(n_jobs=-1)]: Done 1234 tasks      | elapsed:  2.0min\n",
      "[Parallel(n_jobs=-1)]: Done 1784 tasks      | elapsed:  2.7min\n",
      "[Parallel(n_jobs=-1)]: Done 2434 tasks      | elapsed:  3.8min\n",
      "[Parallel(n_jobs=-1)]: Done 3184 tasks      | elapsed:  5.0min\n",
      "[Parallel(n_jobs=-1)]: Done 4034 tasks      | elapsed:  6.4min\n",
      "[Parallel(n_jobs=-1)]: Done 4984 tasks      | elapsed:  7.9min\n",
      "[Parallel(n_jobs=-1)]: Done 6034 tasks      | elapsed:  9.5min\n",
      "[Parallel(n_jobs=-1)]: Done 7184 tasks      | elapsed: 11.2min\n",
      "[Parallel(n_jobs=-1)]: Done 8434 tasks      | elapsed: 13.3min\n",
      "[Parallel(n_jobs=-1)]: Done 9784 tasks      | elapsed: 15.3min\n",
      "[Parallel(n_jobs=-1)]: Done 10000 out of 10000 | elapsed: 15.7min finished\n"
     ]
    },
    {
     "name": "stdout",
     "output_type": "stream",
     "text": [
      "Accuracy is 0.78\n",
      "Precision is 0.63\n",
      "Recall is 0.66\n",
      "ROC_AUC Score is 0.74\n"
     ]
    },
    {
     "data": {
      "image/png": "[encoded data removed]",
      "text/plain": [
       "<Figure size 432x288 with 1 Axes>"
      ]
     },
     "metadata": {
      "needs_background": "light"
     },
     "output_type": "display_data"
    },
    {
     "name": "stdout",
     "output_type": "stream",
     "text": [
      "\n",
      "Classification report\n",
      "               precision    recall  f1-score   support\n",
      "\n",
      "           0       0.85      0.83      0.84      7132\n",
      "           1       0.63      0.66      0.65      3057\n",
      "\n",
      "    accuracy                           0.78     10189\n",
      "   macro avg       0.74      0.75      0.74     10189\n",
      "weighted avg       0.79      0.78      0.78     10189\n",
      "\n",
      "confusion matrix \n",
      "\n",
      " [[5948 1184]\n",
      " [1030 2027]]\n",
      "--------------------------------------------------\n",
      "best_parameters\n",
      "{'min_samples_split': 3, 'min_samples_leaf': 1, 'max_depth': 35, 'criterion': 'entropy'}\n",
      "--------------------------------------------------\n",
      "\n",
      "\n",
      "--------------------------------------------------\n",
      "--------------------------------------------------\n",
      "Finding Optimal Cutoff Point based on accuracy, recall, precision\n"
     ]
    },
    {
     "data": {
      "image/png": "[encoded data removed]",
      "text/plain": [
       "<Figure size 432x288 with 1 Axes>"
      ]
     },
     "metadata": {
      "needs_background": "light"
     },
     "output_type": "display_data"
    },
    {
     "name": "stdout",
     "output_type": "stream",
     "text": [
      "Optimum cutoff probability is 0.00\n",
      "Accuracy is 0.83\n",
      "Precision is 0.73\n",
      "Recall is 0.68\n",
      "ROC_AUC Score is 0.79\n",
      "\n",
      "Classification report\n",
      "               precision    recall  f1-score   support\n",
      "\n",
      "           0       0.87      0.89      0.88      7132\n",
      "           1       0.73      0.68      0.71      3057\n",
      "\n",
      "    accuracy                           0.83     10189\n",
      "   macro avg       0.80      0.79      0.79     10189\n",
      "weighted avg       0.83      0.83      0.83     10189\n",
      "\n",
      "confusion matrix \n",
      "\n",
      " [[6372  760]\n",
      " [ 967 2090]]\n"
     ]
    }
   ],
   "source": [
    "from scipy.stats import uniform\n",
    "from sklearn.model_selection import RandomizedSearchCV\n",
    "\n",
    "params = {'max_depth':range(1,40),\n",
    "             'min_samples_leaf':range(1,20),\n",
    "             'min_samples_split':range(1,40),\n",
    "             'criterion':['entropy','gini']}\n",
    "\n",
    "#hyperparameters = dict(max_depth=max_depth, min_samples_leaf=min_samples_leaf, min_samples_split=min_samples_split, criterion=criterion)\n",
    "\n",
    "dtc_rcv = ['Decision Tree Classifier with Randomsearch CV',RandomizedSearchCV(dtc, params, random_state=1, n_iter=1000, cv=10, verbose=1, n_jobs=-1,scoring = \"recall\")]\n",
    "model_check(dtc_rcv,X,y,test_size=0.20,sampling_type='hybrid',down_sampling_type='nearmiss',cv_search=True,info=False)"
   ]
  },
  {
   "cell_type": "code",
   "execution_count": null,
   "metadata": {},
   "outputs": [],
   "source": []
  },
  {
   "cell_type": "code",
   "execution_count": null,
   "metadata": {},
   "outputs": [],
   "source": []
  },
  {
   "cell_type": "code",
   "execution_count": null,
   "metadata": {},
   "outputs": [],
   "source": []
  },
  {
   "cell_type": "code",
   "execution_count": 12,
   "metadata": {},
   "outputs": [],
   "source": [
    "X_rs,y_rs = re_sampling(X,y,sampling_type='hybrid',down_sampling_type='nearmiss',info=False)"
   ]
  },
  {
   "cell_type": "code",
   "execution_count": 13,
   "metadata": {},
   "outputs": [],
   "source": [
    "dtc = DecisionTreeClassifier(criterion='entropy', max_depth=35, min_samples_leaf=1, min_samples_split=3, random_state=0)"
   ]
  },
  {
   "cell_type": "code",
   "execution_count": 14,
   "metadata": {},
   "outputs": [
    {
     "data": {
      "image/png": "[encoded data removed]",
      "text/plain": [
       "<Figure size 432x288 with 1 Axes>"
      ]
     },
     "metadata": {
      "needs_background": "light"
     },
     "output_type": "display_data"
    },
    {
     "name": "stdout",
     "output_type": "stream",
     "text": [
      "best n_estimator based on bias error =  44\n"
     ]
    },
    {
     "data": {
      "image/png": "[encoded data removed]",
      "text/plain": [
       "<Figure size 432x288 with 1 Axes>"
      ]
     },
     "metadata": {
      "needs_background": "light"
     },
     "output_type": "display_data"
    },
    {
     "name": "stdout",
     "output_type": "stream",
     "text": [
      "best n_estimator based on variance error =  6\n"
     ]
    }
   ],
   "source": [
    "from sklearn.ensemble import AdaBoostClassifier\n",
    "\n",
    "Ada_dtc_bias=[]\n",
    "Ada_dtc_var =[]\n",
    "for val in np.arange(1,50):\n",
    "    Ada_dtc=AdaBoostClassifier(base_estimator=dtc,n_estimators=val,random_state=0)\n",
    "    kfold = model_selection.KFold(shuffle=True,n_splits=10,random_state=0)\n",
    "    cv_results = model_selection.cross_val_score(Ada_dtc, X_rs, y_rs,cv=kfold, scoring='roc_auc')\n",
    "    Ada_dtc_bias.append(1-np.mean(cv_results))\n",
    "    Ada_dtc_var.append(np.var(cv_results,ddof=1))\n",
    "\n",
    "x_axis=np.arange(1,50)\n",
    "plt.plot(x_axis,Ada_dtc_bias)\n",
    "plt.title('Bias Error')\n",
    "plt.show()\n",
    "print('best n_estimator based on bias error = ',(np.argmin(Ada_dtc_bias)+1))\n",
    "plt.plot(x_axis,Ada_dtc_var)\n",
    "plt.title('Varience Error')\n",
    "plt.show()\n",
    "print('best n_estimator based on variance error = ',(np.argmin(Ada_dtc_var)+1))"
   ]
  },
  {
   "cell_type": "code",
   "execution_count": 15,
   "metadata": {},
   "outputs": [
    {
     "data": {
      "text/html": [
       "<div>\n",
       "<style scoped>\n",
       "    .dataframe tbody tr th:only-of-type {\n",
       "        vertical-align: middle;\n",
       "    }\n",
       "\n",
       "    .dataframe tbody tr th {\n",
       "        vertical-align: top;\n",
       "    }\n",
       "\n",
       "    .dataframe thead th {\n",
       "        text-align: right;\n",
       "    }\n",
       "</style>\n",
       "<table border=\"1\" class=\"dataframe\">\n",
       "  <thead>\n",
       "    <tr style=\"text-align: right;\">\n",
       "      <th></th>\n",
       "      <th>N-Estimators</th>\n",
       "      <th>Variance Error</th>\n",
       "      <th>Bias Error</th>\n",
       "    </tr>\n",
       "  </thead>\n",
       "  <tbody>\n",
       "    <tr>\n",
       "      <th>43</th>\n",
       "      <td>44</td>\n",
       "      <td>0.000146</td>\n",
       "      <td>0.115222</td>\n",
       "    </tr>\n",
       "    <tr>\n",
       "      <th>45</th>\n",
       "      <td>46</td>\n",
       "      <td>0.000147</td>\n",
       "      <td>0.115241</td>\n",
       "    </tr>\n",
       "    <tr>\n",
       "      <th>42</th>\n",
       "      <td>43</td>\n",
       "      <td>0.000139</td>\n",
       "      <td>0.115244</td>\n",
       "    </tr>\n",
       "    <tr>\n",
       "      <th>46</th>\n",
       "      <td>47</td>\n",
       "      <td>0.000147</td>\n",
       "      <td>0.115262</td>\n",
       "    </tr>\n",
       "    <tr>\n",
       "      <th>41</th>\n",
       "      <td>42</td>\n",
       "      <td>0.000135</td>\n",
       "      <td>0.115292</td>\n",
       "    </tr>\n",
       "  </tbody>\n",
       "</table>\n",
       "</div>"
      ],
      "text/plain": [
       "    N-Estimators  Variance Error  Bias Error\n",
       "43            44        0.000146    0.115222\n",
       "45            46        0.000147    0.115241\n",
       "42            43        0.000139    0.115244\n",
       "46            47        0.000147    0.115262\n",
       "41            42        0.000135    0.115292"
      ]
     },
     "execution_count": 15,
     "metadata": {},
     "output_type": "execute_result"
    }
   ],
   "source": [
    "Ada_dtc_result = pd.DataFrame()\n",
    "Ada_dtc_result['N-Estimators'] = np.arange(1,50)\n",
    "Ada_dtc_result['Variance Error'] = Ada_dtc_var\n",
    "Ada_dtc_result['Bias Error'] = Ada_dtc_bias\n",
    "Ada_dtc_result.sort_values('Bias Error').head()"
   ]
  },
  {
   "cell_type": "code",
   "execution_count": null,
   "metadata": {},
   "outputs": [],
   "source": []
  },
  {
   "cell_type": "code",
   "execution_count": 16,
   "metadata": {},
   "outputs": [
    {
     "data": {
      "text/plain": [
       "44"
      ]
     },
     "execution_count": 16,
     "metadata": {},
     "output_type": "execute_result"
    }
   ],
   "source": [
    "best_boost_est = int(Ada_dtc_result.sort_values('Bias Error').head(1)['N-Estimators'].values)\n",
    "best_boost_est"
   ]
  },
  {
   "cell_type": "code",
   "execution_count": 20,
   "metadata": {},
   "outputs": [],
   "source": [
    "boosted_DT=['boosted_DT',AdaBoostClassifier(base_estimator=dtc,n_estimators=best_boost_est,random_state=0)]"
   ]
  },
  {
   "cell_type": "code",
   "execution_count": 21,
   "metadata": {},
   "outputs": [
    {
     "name": "stdout",
     "output_type": "stream",
     "text": [
      "boosted_DT\n",
      "--------------------------------------------------\n",
      "1 of KFold 10\n",
      "2 of KFold 10\n",
      "3 of KFold 10\n",
      "4 of KFold 10\n",
      "5 of KFold 10\n",
      "6 of KFold 10\n",
      "7 of KFold 10\n",
      "8 of KFold 10\n",
      "9 of KFold 10\n",
      "10 of KFold 10\n",
      "\n",
      "\n",
      "     kfold  accuracy    recall  precision   ROC_AUC\n",
      "1     1.0  0.810450  0.549443   0.751792  0.825088\n",
      "2     2.0  0.817128  0.556647   0.769928  0.837975\n",
      "3     3.0  0.815614  0.576848   0.750638  0.830626\n",
      "4     4.0  0.819341  0.586658   0.756324  0.852122\n",
      "5     5.0  0.814437  0.547417   0.767186  0.837197\n",
      "6     6.0  0.806325  0.538965   0.744796  0.815397\n",
      "7     7.0  0.812218  0.550753   0.756976  0.824371\n",
      "8     8.0  0.824592  0.580223   0.778559  0.852599\n",
      "9     9.0  0.819289  0.564506   0.771710  0.836384\n",
      "10   10.0  0.823610  0.566470   0.785649  0.841538\n",
      "\n",
      "Average accuracy after k-fold = 0.8163004175323355\n",
      "Average recall after k-fold = 0.5617929375021147\n",
      "Average precision after k-fold = 0.7633558093869971\n",
      "Average ROC_AUC after k-fold = 0.8353295993754093\n",
      "--------------------------------------------------\n",
      "\n",
      "\n",
      "--------------------------------------------------\n",
      "--------------------------------------------------\n",
      "Finding Optimal Cutoff Point based on accuracy, recall, precision\n"
     ]
    },
    {
     "data": {
      "image/png": "[encoded data removed]",
      "text/plain": [
       "<Figure size 432x288 with 1 Axes>"
      ]
     },
     "metadata": {
      "needs_background": "light"
     },
     "output_type": "display_data"
    },
    {
     "name": "stdout",
     "output_type": "stream",
     "text": [
      "Optimum cutoff probability is 0.34\n",
      "Accuracy is 0.86\n",
      "Precision is 0.76\n",
      "Recall is 0.76\n",
      "ROC_AUC Score is 0.83\n",
      "\n",
      "Classification report\n",
      "               precision    recall  f1-score   support\n",
      "\n",
      "           0       0.90      0.90      0.90      5349\n",
      "           1       0.76      0.76      0.76      2293\n",
      "\n",
      "    accuracy                           0.86      7642\n",
      "   macro avg       0.83      0.83      0.83      7642\n",
      "weighted avg       0.86      0.86      0.86      7642\n",
      "\n",
      "confusion matrix \n",
      "\n",
      " [[4792  557]\n",
      " [ 550 1743]]\n"
     ]
    }
   ],
   "source": [
    "model_check(boosted_DT,X,y,sampling_type='hybrid',down_sampling_type='nearmiss',test_size=0.15,cv_search=False,info=False)"
   ]
  },
  {
   "cell_type": "code",
   "execution_count": null,
   "metadata": {},
   "outputs": [],
   "source": []
  }
 ],
 "metadata": {
  "kernelspec": {
   "display_name": "Python 3",
   "language": "python",
   "name": "python3"
  },
  "language_info": {
   "codemirror_mode": {
    "name": "ipython",
    "version": 3
   },
   "file_extension": ".py",
   "mimetype": "text/x-python",
   "name": "python",
   "nbconvert_exporter": "python",
   "pygments_lexer": "ipython3",
   "version": "3.8.3"
  }
 },
 "nbformat": 4,
 "nbformat_minor": 4
}
