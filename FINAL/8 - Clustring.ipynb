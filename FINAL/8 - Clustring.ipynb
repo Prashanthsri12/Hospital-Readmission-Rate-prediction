{
 "cells": [
  {
   "cell_type": "code",
   "execution_count": 2,
   "metadata": {},
   "outputs": [],
   "source": [
    "import pandas as pd\n",
    "import numpy as np\n",
    "from sklearn.cluster import KMeans\n",
    "from scipy.stats import zscore\n",
    "import matplotlib.pyplot as plot\n",
    "import seaborn as sns\n",
    "import warnings\n",
    "warnings.filterwarnings('ignore')\n",
    "pd.set_option('display.max_columns', None)"
   ]
  },
  {
   "cell_type": "code",
   "execution_count": 3,
   "metadata": {},
   "outputs": [],
   "source": [
    "data = pd.read_csv(\"cleaned_data.csv\")"
   ]
  },
  {
   "cell_type": "code",
   "execution_count": 4,
   "metadata": {},
   "outputs": [
    {
     "data": {
      "text/plain": [
       "(71515, 101)"
      ]
     },
     "execution_count": 4,
     "metadata": {},
     "output_type": "execute_result"
    }
   ],
   "source": [
    "data.shape"
   ]
  },
  {
   "cell_type": "code",
   "execution_count": 5,
   "metadata": {},
   "outputs": [
    {
     "data": {
      "text/plain": [
       "(71515, 101)"
      ]
     },
     "execution_count": 5,
     "metadata": {},
     "output_type": "execute_result"
    }
   ],
   "source": [
    "data.shape"
   ]
  },
  {
   "cell_type": "code",
   "execution_count": 6,
   "metadata": {},
   "outputs": [
    {
     "data": {
      "text/html": [
       "<div>\n",
       "<style scoped>\n",
       "    .dataframe tbody tr th:only-of-type {\n",
       "        vertical-align: middle;\n",
       "    }\n",
       "\n",
       "    .dataframe tbody tr th {\n",
       "        vertical-align: top;\n",
       "    }\n",
       "\n",
       "    .dataframe thead th {\n",
       "        text-align: right;\n",
       "    }\n",
       "</style>\n",
       "<table border=\"1\" class=\"dataframe\">\n",
       "  <thead>\n",
       "    <tr style=\"text-align: right;\">\n",
       "      <th></th>\n",
       "      <th>0</th>\n",
       "      <th>1</th>\n",
       "      <th>2</th>\n",
       "      <th>3</th>\n",
       "      <th>4</th>\n",
       "    </tr>\n",
       "  </thead>\n",
       "  <tbody>\n",
       "    <tr>\n",
       "      <th>gender</th>\n",
       "      <td>1</td>\n",
       "      <td>1</td>\n",
       "      <td>1</td>\n",
       "      <td>0</td>\n",
       "      <td>0</td>\n",
       "    </tr>\n",
       "    <tr>\n",
       "      <th>age</th>\n",
       "      <td>0</td>\n",
       "      <td>0</td>\n",
       "      <td>0</td>\n",
       "      <td>1</td>\n",
       "      <td>1</td>\n",
       "    </tr>\n",
       "    <tr>\n",
       "      <th>time_in_hospital</th>\n",
       "      <td>0</td>\n",
       "      <td>0</td>\n",
       "      <td>0</td>\n",
       "      <td>0</td>\n",
       "      <td>0</td>\n",
       "    </tr>\n",
       "    <tr>\n",
       "      <th>num_lab_procedures</th>\n",
       "      <td>41</td>\n",
       "      <td>59</td>\n",
       "      <td>11</td>\n",
       "      <td>44</td>\n",
       "      <td>51</td>\n",
       "    </tr>\n",
       "    <tr>\n",
       "      <th>num_procedures</th>\n",
       "      <td>0</td>\n",
       "      <td>0</td>\n",
       "      <td>5</td>\n",
       "      <td>1</td>\n",
       "      <td>0</td>\n",
       "    </tr>\n",
       "    <tr>\n",
       "      <th>...</th>\n",
       "      <td>...</td>\n",
       "      <td>...</td>\n",
       "      <td>...</td>\n",
       "      <td>...</td>\n",
       "      <td>...</td>\n",
       "    </tr>\n",
       "    <tr>\n",
       "      <th>discharge_disposition_id_28</th>\n",
       "      <td>0</td>\n",
       "      <td>0</td>\n",
       "      <td>0</td>\n",
       "      <td>0</td>\n",
       "      <td>0</td>\n",
       "    </tr>\n",
       "    <tr>\n",
       "      <th>race_Asian</th>\n",
       "      <td>0</td>\n",
       "      <td>0</td>\n",
       "      <td>0</td>\n",
       "      <td>0</td>\n",
       "      <td>0</td>\n",
       "    </tr>\n",
       "    <tr>\n",
       "      <th>race_Caucasian</th>\n",
       "      <td>1</td>\n",
       "      <td>1</td>\n",
       "      <td>0</td>\n",
       "      <td>1</td>\n",
       "      <td>1</td>\n",
       "    </tr>\n",
       "    <tr>\n",
       "      <th>race_Hispanic</th>\n",
       "      <td>0</td>\n",
       "      <td>0</td>\n",
       "      <td>0</td>\n",
       "      <td>0</td>\n",
       "      <td>0</td>\n",
       "    </tr>\n",
       "    <tr>\n",
       "      <th>race_Other</th>\n",
       "      <td>0</td>\n",
       "      <td>0</td>\n",
       "      <td>0</td>\n",
       "      <td>0</td>\n",
       "      <td>0</td>\n",
       "    </tr>\n",
       "  </tbody>\n",
       "</table>\n",
       "<p>101 rows × 5 columns</p>\n",
       "</div>"
      ],
      "text/plain": [
       "                              0   1   2   3   4\n",
       "gender                        1   1   1   0   0\n",
       "age                           0   0   0   1   1\n",
       "time_in_hospital              0   0   0   0   0\n",
       "num_lab_procedures           41  59  11  44  51\n",
       "num_procedures                0   0   5   1   0\n",
       "...                          ..  ..  ..  ..  ..\n",
       "discharge_disposition_id_28   0   0   0   0   0\n",
       "race_Asian                    0   0   0   0   0\n",
       "race_Caucasian                1   1   0   1   1\n",
       "race_Hispanic                 0   0   0   0   0\n",
       "race_Other                    0   0   0   0   0\n",
       "\n",
       "[101 rows x 5 columns]"
      ]
     },
     "execution_count": 6,
     "metadata": {},
     "output_type": "execute_result"
    }
   ],
   "source": [
    "data.head(5).T"
   ]
  },
  {
   "cell_type": "code",
   "execution_count": 7,
   "metadata": {},
   "outputs": [
    {
     "data": {
      "text/plain": [
       "(71515, 101)"
      ]
     },
     "execution_count": 7,
     "metadata": {},
     "output_type": "execute_result"
    }
   ],
   "source": [
    "data.shape"
   ]
  },
  {
   "cell_type": "code",
   "execution_count": 8,
   "metadata": {},
   "outputs": [
    {
     "data": {
      "text/plain": [
       "Index(['gender', 'age', 'time_in_hospital', 'num_lab_procedures',\n",
       "       'num_procedures', 'num_medications', 'number_diagnoses',\n",
       "       'max_glu_serum', 'A1Cresult', 'metformin',\n",
       "       ...\n",
       "       'discharge_disposition_id_7', 'discharge_disposition_id_9',\n",
       "       'discharge_disposition_id_10', 'discharge_disposition_id_13',\n",
       "       'discharge_disposition_id_18', 'discharge_disposition_id_28',\n",
       "       'race_Asian', 'race_Caucasian', 'race_Hispanic', 'race_Other'],\n",
       "      dtype='object', length=101)"
      ]
     },
     "execution_count": 8,
     "metadata": {},
     "output_type": "execute_result"
    }
   ],
   "source": [
    "data.columns"
   ]
  },
  {
   "cell_type": "code",
   "execution_count": 9,
   "metadata": {},
   "outputs": [
    {
     "data": {
      "text/plain": [
       "(71515, 101)"
      ]
     },
     "execution_count": 9,
     "metadata": {},
     "output_type": "execute_result"
    }
   ],
   "source": [
    "data.shape"
   ]
  },
  {
   "cell_type": "code",
   "execution_count": 10,
   "metadata": {},
   "outputs": [],
   "source": [
    "df = data.copy()"
   ]
  },
  {
   "cell_type": "code",
   "execution_count": 11,
   "metadata": {},
   "outputs": [
    {
     "data": {
      "text/plain": [
       "Index(['gender', 'age', 'time_in_hospital', 'num_lab_procedures',\n",
       "       'num_procedures', 'num_medications', 'number_diagnoses',\n",
       "       'max_glu_serum', 'A1Cresult', 'metformin',\n",
       "       ...\n",
       "       'discharge_disposition_id_7', 'discharge_disposition_id_9',\n",
       "       'discharge_disposition_id_10', 'discharge_disposition_id_13',\n",
       "       'discharge_disposition_id_18', 'discharge_disposition_id_28',\n",
       "       'race_Asian', 'race_Caucasian', 'race_Hispanic', 'race_Other'],\n",
       "      dtype='object', length=101)"
      ]
     },
     "execution_count": 11,
     "metadata": {},
     "output_type": "execute_result"
    }
   ],
   "source": [
    "df.columns"
   ]
  },
  {
   "cell_type": "code",
   "execution_count": 12,
   "metadata": {},
   "outputs": [
    {
     "name": "stdout",
     "output_type": "stream",
     "text": [
      "Covariance Matrix \n",
      " [[ 1.00001398  0.06195913  0.01999272 ... -0.05657268  0.00105039\n",
      "  -0.01241269]\n",
      " [ 0.06195913  1.00001398  0.11611181 ...  0.15901972 -0.06051085\n",
      "  -0.01449508]\n",
      " [ 0.01999272  0.11611181  1.00001398 ...  0.00225365 -0.01697801\n",
      "  -0.00513556]\n",
      " ...\n",
      " [-0.05657268  0.15901972  0.00225365 ...  1.00001398 -0.25361259\n",
      "  -0.36813252]\n",
      " [ 0.00105039 -0.06051085 -0.01697801 ... -0.25361259  1.00001398\n",
      "  -0.0314586 ]\n",
      " [-0.01241269 -0.01449508 -0.00513556 ... -0.36813252 -0.0314586\n",
      "   1.00001398]]\n"
     ]
    }
   ],
   "source": [
    "from sklearn.preprocessing import StandardScaler\n",
    "X = df.drop([\"readmitted\"],axis = 1)\n",
    "Y = df[\"readmitted\"]\n",
    "\n",
    "X_std = StandardScaler().fit_transform(X)\n",
    "\n",
    "Cov_matrix = np.cov(X_std.T)\n",
    "print(\"Covariance Matrix \\n\",Cov_matrix)"
   ]
  },
  {
   "cell_type": "code",
   "execution_count": 13,
   "metadata": {},
   "outputs": [
    {
     "data": {
      "text/html": [
       "<div>\n",
       "<style scoped>\n",
       "    .dataframe tbody tr th:only-of-type {\n",
       "        vertical-align: middle;\n",
       "    }\n",
       "\n",
       "    .dataframe tbody tr th {\n",
       "        vertical-align: top;\n",
       "    }\n",
       "\n",
       "    .dataframe thead th {\n",
       "        text-align: right;\n",
       "    }\n",
       "</style>\n",
       "<table border=\"1\" class=\"dataframe\">\n",
       "  <thead>\n",
       "    <tr style=\"text-align: right;\">\n",
       "      <th></th>\n",
       "      <th>0</th>\n",
       "      <th>1</th>\n",
       "      <th>2</th>\n",
       "      <th>3</th>\n",
       "      <th>4</th>\n",
       "    </tr>\n",
       "  </thead>\n",
       "  <tbody>\n",
       "    <tr>\n",
       "      <th>gender</th>\n",
       "      <td>0.938476</td>\n",
       "      <td>0.938476</td>\n",
       "      <td>0.938476</td>\n",
       "      <td>-1.065558</td>\n",
       "      <td>-1.065558</td>\n",
       "    </tr>\n",
       "    <tr>\n",
       "      <th>age</th>\n",
       "      <td>-2.424677</td>\n",
       "      <td>-2.424677</td>\n",
       "      <td>-2.424677</td>\n",
       "      <td>-1.099429</td>\n",
       "      <td>-1.099429</td>\n",
       "    </tr>\n",
       "    <tr>\n",
       "      <th>time_in_hospital</th>\n",
       "      <td>-0.827997</td>\n",
       "      <td>-0.827997</td>\n",
       "      <td>-0.827997</td>\n",
       "      <td>-0.827997</td>\n",
       "      <td>-0.827997</td>\n",
       "    </tr>\n",
       "    <tr>\n",
       "      <th>num_lab_procedures</th>\n",
       "      <td>-0.104043</td>\n",
       "      <td>0.798122</td>\n",
       "      <td>-1.607650</td>\n",
       "      <td>0.046318</td>\n",
       "      <td>0.397160</td>\n",
       "    </tr>\n",
       "    <tr>\n",
       "      <th>num_procedures</th>\n",
       "      <td>-0.812874</td>\n",
       "      <td>-0.812874</td>\n",
       "      <td>2.028300</td>\n",
       "      <td>-0.244639</td>\n",
       "      <td>-0.812874</td>\n",
       "    </tr>\n",
       "    <tr>\n",
       "      <th>...</th>\n",
       "      <td>...</td>\n",
       "      <td>...</td>\n",
       "      <td>...</td>\n",
       "      <td>...</td>\n",
       "      <td>...</td>\n",
       "    </tr>\n",
       "    <tr>\n",
       "      <th>discharge_disposition_id_28</th>\n",
       "      <td>-0.035497</td>\n",
       "      <td>-0.035497</td>\n",
       "      <td>-0.035497</td>\n",
       "      <td>-0.035497</td>\n",
       "      <td>-0.035497</td>\n",
       "    </tr>\n",
       "    <tr>\n",
       "      <th>race_Asian</th>\n",
       "      <td>-0.083655</td>\n",
       "      <td>-0.083655</td>\n",
       "      <td>-0.083655</td>\n",
       "      <td>-0.083655</td>\n",
       "      <td>-0.083655</td>\n",
       "    </tr>\n",
       "    <tr>\n",
       "      <th>race_Caucasian</th>\n",
       "      <td>0.580477</td>\n",
       "      <td>0.580477</td>\n",
       "      <td>-1.722720</td>\n",
       "      <td>0.580477</td>\n",
       "      <td>0.580477</td>\n",
       "    </tr>\n",
       "    <tr>\n",
       "      <th>race_Hispanic</th>\n",
       "      <td>-0.147214</td>\n",
       "      <td>-0.147214</td>\n",
       "      <td>-0.147214</td>\n",
       "      <td>-0.147214</td>\n",
       "      <td>-0.147214</td>\n",
       "    </tr>\n",
       "    <tr>\n",
       "      <th>race_Other</th>\n",
       "      <td>-0.213690</td>\n",
       "      <td>-0.213690</td>\n",
       "      <td>-0.213690</td>\n",
       "      <td>-0.213690</td>\n",
       "      <td>-0.213690</td>\n",
       "    </tr>\n",
       "  </tbody>\n",
       "</table>\n",
       "<p>100 rows × 5 columns</p>\n",
       "</div>"
      ],
      "text/plain": [
       "                                    0         1         2         3         4\n",
       "gender                       0.938476  0.938476  0.938476 -1.065558 -1.065558\n",
       "age                         -2.424677 -2.424677 -2.424677 -1.099429 -1.099429\n",
       "time_in_hospital            -0.827997 -0.827997 -0.827997 -0.827997 -0.827997\n",
       "num_lab_procedures          -0.104043  0.798122 -1.607650  0.046318  0.397160\n",
       "num_procedures              -0.812874 -0.812874  2.028300 -0.244639 -0.812874\n",
       "...                               ...       ...       ...       ...       ...\n",
       "discharge_disposition_id_28 -0.035497 -0.035497 -0.035497 -0.035497 -0.035497\n",
       "race_Asian                  -0.083655 -0.083655 -0.083655 -0.083655 -0.083655\n",
       "race_Caucasian               0.580477  0.580477 -1.722720  0.580477  0.580477\n",
       "race_Hispanic               -0.147214 -0.147214 -0.147214 -0.147214 -0.147214\n",
       "race_Other                  -0.213690 -0.213690 -0.213690 -0.213690 -0.213690\n",
       "\n",
       "[100 rows x 5 columns]"
      ]
     },
     "execution_count": 13,
     "metadata": {},
     "output_type": "execute_result"
    }
   ],
   "source": [
    "X_std_df = pd.DataFrame(X_std,columns = X.columns)\n",
    "X_std_df.head().T"
   ]
  },
  {
   "cell_type": "code",
   "execution_count": 14,
   "metadata": {},
   "outputs": [],
   "source": [
    "eig_vals,eig_vecs = np.linalg.eig(Cov_matrix)"
   ]
  },
  {
   "cell_type": "code",
   "execution_count": 15,
   "metadata": {},
   "outputs": [
    {
     "name": "stdout",
     "output_type": "stream",
     "text": [
      "Eigen values \n",
      "%s [3.38518198 2.5772883  2.45788382 2.16631593 2.0630671  0.01410117\n",
      " 1.90286551 0.03320623 0.03623059 0.07594421 0.17213582 1.67582314\n",
      " 0.26959459 1.61286945 0.33261568 0.35746999 0.39156618 1.50621753\n",
      " 1.47589411 0.45818489 0.46412521 1.42816373 0.52121981 1.42359991\n",
      " 0.54588667 0.55874534 0.59482284 1.3779424  1.31989581 1.30717646\n",
      " 0.64491562 0.68793801 1.24102365 0.69790602 1.2197496  0.73122156\n",
      " 0.73604152 0.74873594 1.18592083 1.17036056 0.75405073 0.7701945\n",
      " 0.79975013 0.81302517 0.81885165 0.8306661  1.13287426 1.12687903\n",
      " 0.8488816  1.1196117  0.85984803 0.86350359 1.09905914 0.88017723\n",
      " 0.88335468 1.09014911 0.89804207 1.07685202 1.07298725 1.06571245\n",
      " 0.91105131 0.9171917  0.92504632 0.93340981 1.05412294 0.94433936\n",
      " 1.04414357 0.94933317 0.95308709 1.04214809 1.03113818 1.03284742\n",
      " 1.03351104 0.96166776 0.96315128 1.0269225  0.96989996 1.02204223\n",
      " 1.01792085 0.97717648 0.96832666 0.96865271 0.98066331 0.98387771\n",
      " 0.98745386 1.01332818 1.01081233 1.00893255 0.99328377 1.00507218\n",
      " 0.99467099 1.0041374  1.00223039 1.00318897 0.99677093 0.99760371\n",
      " 0.99823659 1.00070259 0.99897031 0.        ]\n",
      "Eigen_vectors \n",
      "%s [[-0.02665616  0.04383226  0.01666035 ...  0.03549378 -0.00147317\n",
      "   0.        ]\n",
      " [ 0.01507789 -0.29570108 -0.02841289 ...  0.01168612 -0.00827984\n",
      "   0.        ]\n",
      " [ 0.14056681 -0.22712521  0.03241498 ...  0.01269525 -0.00167785\n",
      "   0.        ]\n",
      " ...\n",
      " [ 0.01510332 -0.14333851  0.05223851 ...  0.00490263  0.0134341\n",
      "   0.        ]\n",
      " [-0.0113411   0.09316671 -0.01930267 ...  0.05122418 -0.04514175\n",
      "   0.        ]\n",
      " [ 0.01096916  0.04600663 -0.0067588  ... -0.02099294  0.00918891\n",
      "   0.        ]]\n"
     ]
    }
   ],
   "source": [
    "print(\"Eigen values \\n%s\",eig_vals)\n",
    "print(\"Eigen_vectors \\n%s\",eig_vecs)"
   ]
  },
  {
   "cell_type": "code",
   "execution_count": 16,
   "metadata": {},
   "outputs": [],
   "source": [
    "eigen_pairs = [(np.abs(eig_vals[i]), eig_vecs[:,i]) for i in range(len(eig_vals))]"
   ]
  },
  {
   "cell_type": "code",
   "execution_count": 17,
   "metadata": {},
   "outputs": [
    {
     "name": "stdout",
     "output_type": "stream",
     "text": [
      "Cumulative Variance Explained [  3.41932792   6.02261304   8.50528925  10.69345656  12.77733358\n",
      "  14.69939308  16.39212006  18.02125834  19.54266891  21.0334502\n",
      "  22.47601966  23.91397926  25.3058208   26.63903025  27.95939205\n",
      "  29.21293377  30.44498684  31.64286991  32.82503577  33.9693372\n",
      "  35.10758294  36.23848804  37.34863326  38.44977858  39.53749269\n",
      "  40.62130304  41.69776521  42.76252096  43.81719669  44.86985681\n",
      "  45.91379275  46.95705839  47.99859754  49.03587848  50.06822993\n",
      "  51.09641844  52.11996795  53.14097623  54.16008577  55.17529599\n",
      "  56.18956202  57.20287004  58.21520981  59.22600637  60.23505318\n",
      "  61.24335886  62.25102529  63.25785054  64.26255466  65.26585757\n",
      "  66.26327177  67.25707375  68.2476289   69.23466205  70.21434527\n",
      "  71.19276867  72.17086273  73.1437292   74.11509719  75.07779796\n",
      "  76.03670695  76.99057175  77.93339675  78.86777391  79.79421721\n",
      "  80.71445819  81.62155871  82.51382369  83.40287917  84.27509282\n",
      "  85.14361404  86.00105821  86.84010315  87.66721446  88.48844052\n",
      "  89.29625764  90.07422101  90.83587776  91.59216612  92.335632\n",
      "  93.07422931  93.77917503  94.47405219  95.125473    95.72629575\n",
      "  96.2906771   96.84207006  97.36854735  97.83735414  98.30016069\n",
      "  98.69567655  99.0567523   99.39272304  99.665037    99.83890913\n",
      "  99.91561938  99.95221542  99.9857566  100.         100.        ]\n"
     ]
    }
   ],
   "source": [
    "tot = sum(eig_vals)\n",
    "var_exp = [(i/tot) * 100 for i in sorted(eig_vals, reverse = True)]\n",
    "cum_var_exp = np.cumsum(var_exp)\n",
    "print(\"Cumulative Variance Explained\",cum_var_exp)"
   ]
  },
  {
   "cell_type": "code",
   "execution_count": 18,
   "metadata": {},
   "outputs": [
    {
     "data": {
      "image/png": "[encoded data removed]",
      "text/plain": [
       "<Figure size 432x288 with 1 Axes>"
      ]
     },
     "metadata": {
      "needs_background": "light"
     },
     "output_type": "display_data"
    }
   ],
   "source": [
    "# TO find best K value\n",
    "wcss = []\n",
    "\n",
    "for i in range (1,6):\n",
    "    kmeans = KMeans(n_clusters = i)\n",
    "    kmeans.fit(X_std_df)\n",
    "    wcss.append(kmeans.inertia_)\n",
    "    \n",
    "#visualization of K values\n",
    "\n",
    "plot.plot(range(1,6),wcss, color = \"red\")\n",
    "plot.title = (\"Graph of K values and wcss\")\n",
    "plot.xlabel(\"K values\")\n",
    "plot.ylabel(\"wcss values\")\n",
    "plot.show()"
   ]
  },
  {
   "cell_type": "code",
   "execution_count": 19,
   "metadata": {},
   "outputs": [
    {
     "data": {
      "text/plain": [
       "0    42982\n",
       "1    22240\n",
       "2     6293\n",
       "Name: readmitted, dtype: int64"
      ]
     },
     "execution_count": 19,
     "metadata": {},
     "output_type": "execute_result"
    }
   ],
   "source": [
    "df.readmitted.value_counts()"
   ]
  },
  {
   "cell_type": "code",
   "execution_count": 20,
   "metadata": {},
   "outputs": [],
   "source": [
    "# KMeans clustering\n",
    "kmeans = KMeans(n_clusters = 3,random_state = 1)\n",
    "\n",
    "# Training the model\n",
    "clusters = kmeans.fit_predict(X_std_df)\n",
    "\n",
    "# Adding a label feature with predicted class values:\n",
    "X_std_df_k = X_std_df.copy(deep = True)\n",
    "X_std_df_k[\"target\"] = clusters"
   ]
  },
  {
   "cell_type": "code",
   "execution_count": 21,
   "metadata": {},
   "outputs": [
    {
     "data": {
      "text/plain": [
       "<matplotlib.axes._subplots.AxesSubplot at 0x1770a604eb0>"
      ]
     },
     "execution_count": 21,
     "metadata": {},
     "output_type": "execute_result"
    },
    {
     "data": {
      "image/png": "[encoded data removed]",
      "text/plain": [
       "<Figure size 432x288 with 2 Axes>"
      ]
     },
     "metadata": {
      "needs_background": "light"
     },
     "output_type": "display_data"
    }
   ],
   "source": [
    "# Comparing original classes and Kmeans algo Classes\n",
    "fig, (ax1 ,ax2) = plot.subplots(1,2)\n",
    "\n",
    "ax1 = plot.subplot(1,2,1)\n",
    "plot.title = (\"Original Classes\")\n",
    "sns.scatterplot(x=\"gender\", y = \"age\" , hue = \"readmitted\", style = \"readmitted\",data = df , ax = ax1)\n",
    "\n",
    "ax2 = plot.subplot(1,2,2)\n",
    "plot.title = (\"Predicted Classes\")\n",
    "sns.scatterplot(x=\"gender\", y = \"age\" ,hue = \"target\", style = \"target\",data = X_std_df_k , ax = ax2)"
   ]
  },
  {
   "cell_type": "code",
   "execution_count": 22,
   "metadata": {},
   "outputs": [
    {
     "name": "stdout",
     "output_type": "stream",
     "text": [
      "original data classes:\n",
      "0    42982\n",
      "1    22240\n",
      "2     6293\n",
      "Name: readmitted, dtype: int64\n",
      "----------------------------------------\n",
      "predicted classes:\n",
      "2    50747\n",
      "0    16308\n",
      "1     4460\n",
      "Name: target, dtype: int64\n"
     ]
    }
   ],
   "source": [
    "print(\"original data classes:\")\n",
    "print(df.readmitted.value_counts())\n",
    "print(\"-\"*40)\n",
    "print(\"predicted classes:\")\n",
    "print(X_std_df_k.target.value_counts())"
   ]
  },
  {
   "cell_type": "code",
   "execution_count": 23,
   "metadata": {},
   "outputs": [],
   "source": [
    "from sklearn.metrics import confusion_matrix"
   ]
  },
  {
   "cell_type": "code",
   "execution_count": 24,
   "metadata": {},
   "outputs": [
    {
     "data": {
      "text/plain": [
       "array([[10661,  2923, 29398],\n",
       "       [ 4454,  1108, 16678],\n",
       "       [ 1193,   429,  4671]], dtype=int64)"
      ]
     },
     "execution_count": 24,
     "metadata": {},
     "output_type": "execute_result"
    }
   ],
   "source": [
    "confusion_matrix(df.readmitted,X_std_df_k.target)"
   ]
  },
  {
   "cell_type": "code",
   "execution_count": null,
   "metadata": {},
   "outputs": [],
   "source": []
  },
  {
   "cell_type": "code",
   "execution_count": 20,
   "metadata": {},
   "outputs": [],
   "source": [
    "#### K Means SUCKS"
   ]
  },
  {
   "cell_type": "code",
   "execution_count": 113,
   "metadata": {},
   "outputs": [
    {
     "data": {
      "text/plain": [
       "(71515, 60)"
      ]
     },
     "execution_count": 113,
     "metadata": {},
     "output_type": "execute_result"
    }
   ],
   "source": [
    "pca_df = X_std_df.iloc[:,:-40]\n",
    "pca_df.shape"
   ]
  },
  {
   "cell_type": "code",
   "execution_count": 114,
   "metadata": {},
   "outputs": [
    {
     "data": {
      "text/plain": [
       "Index(['gender', 'age', 'time_in_hospital', 'num_lab_procedures',\n",
       "       'num_procedures', 'num_medications', 'number_diagnoses',\n",
       "       'max_glu_serum', 'A1Cresult', 'metformin', 'repaglinide', 'nateglinide',\n",
       "       'chlorpropamide', 'glimepiride', 'acetohexamide', 'glipizide',\n",
       "       'glyburide', 'tolbutamide', 'pioglitazone', 'rosiglitazone', 'acarbose',\n",
       "       'miglitol', 'troglitazone', 'tolazamide', 'insulin',\n",
       "       'glyburide-metformin', 'glipizide-metformin',\n",
       "       'glimepiride-pioglitazone', 'metformin-rosiglitazone',\n",
       "       'metformin-pioglitazone', 'change', 'diabetesMed', 'number_of_revisit',\n",
       "       'critical_visits', 'num_med_change', 'admission_source_id_4',\n",
       "       'admission_source_id_7', 'admission_source_id_9',\n",
       "       'admission_source_id_17', 'admission_type_id_3', 'admission_type_id_5',\n",
       "       'diag_1_1.0', 'diag_1_2.0', 'diag_1_3.0', 'diag_1_4.0', 'diag_1_5.0',\n",
       "       'diag_1_6.0', 'diag_1_7.0', 'diag_1_8.0', 'diag_1_9.0', 'diag_1_10.0',\n",
       "       'diag_1_11.0', 'diag_1_12.0', 'diag_1_13.0', 'diag_1_14.0',\n",
       "       'diag_1_16.0', 'diag_1_17.0', 'diag_2_1.0', 'diag_2_2.0', 'diag_2_3.0'],\n",
       "      dtype='object')"
      ]
     },
     "execution_count": 114,
     "metadata": {},
     "output_type": "execute_result"
    }
   ],
   "source": [
    "pca_df.columns"
   ]
  },
  {
   "cell_type": "code",
   "execution_count": 115,
   "metadata": {},
   "outputs": [],
   "source": [
    "# KMeans clustering\n",
    "kmeans = KMeans(n_clusters = 3,random_state = 1)\n",
    "\n",
    "# Training the model\n",
    "clusters = kmeans.fit_predict(pca_df)\n",
    "\n",
    "# Adding a label feature with predicted class values:\n",
    "pca_df_k = pca_df.copy(deep = True)\n",
    "pca_df_k[\"target\"] = clusters"
   ]
  },
  {
   "cell_type": "code",
   "execution_count": 116,
   "metadata": {},
   "outputs": [
    {
     "data": {
      "text/plain": [
       "<AxesSubplot:xlabel='gender', ylabel='age'>"
      ]
     },
     "execution_count": 116,
     "metadata": {},
     "output_type": "execute_result"
    },
    {
     "data": {
      "image/png": "[encoded data removed]",
      "text/plain": [
       "<Figure size 432x288 with 2 Axes>"
      ]
     },
     "metadata": {
      "needs_background": "light"
     },
     "output_type": "display_data"
    }
   ],
   "source": [
    "# Comparing original classes and Kmeans algo Classes\n",
    "fig, (ax1 ,ax2) = plot.subplots(1,2)\n",
    "\n",
    "ax1 = plot.subplot(1,2,1)\n",
    "plot.title = (\"Original Classes\")\n",
    "sns.scatterplot(x=\"gender\", y = \"age\" , hue = \"readmitted\", style = \"readmitted\",data = df , ax = ax1)\n",
    "\n",
    "ax2 = plot.subplot(1,2,2)\n",
    "plot.title = (\"Predicted Classes\")\n",
    "sns.scatterplot(x=\"gender\", y = \"age\" ,hue = \"target\", style = \"target\",data = pca_df_k , ax = ax2)"
   ]
  },
  {
   "cell_type": "code",
   "execution_count": 117,
   "metadata": {},
   "outputs": [
    {
     "name": "stdout",
     "output_type": "stream",
     "text": [
      "original data classes:\n",
      "0    42982\n",
      "1    22240\n",
      "2     6293\n",
      "Name: readmitted, dtype: int64\n",
      "----------------------------------------\n",
      "predicted classes:\n",
      "2    38376\n",
      "1    27481\n",
      "0     5658\n",
      "Name: target, dtype: int64\n"
     ]
    }
   ],
   "source": [
    "print(\"original data classes:\")\n",
    "print(df.readmitted.value_counts())\n",
    "print(\"-\"*40)\n",
    "print(\"predicted classes:\")\n",
    "print(pca_df_k.target.value_counts())"
   ]
  },
  {
   "cell_type": "code",
   "execution_count": 138,
   "metadata": {},
   "outputs": [
    {
     "data": {
      "text/plain": [
       "0.2122351954135496"
      ]
     },
     "execution_count": 138,
     "metadata": {},
     "output_type": "execute_result"
    }
   ],
   "source": [
    "import sklearn\n",
    "sklearn.metrics.accuracy_score(df.readmitted,pca_df_k.target)"
   ]
  },
  {
   "cell_type": "code",
   "execution_count": 128,
   "metadata": {},
   "outputs": [
    {
     "data": {
      "text/plain": [
       "<AxesSubplot:xlabel='target', ylabel='count'>"
      ]
     },
     "execution_count": 128,
     "metadata": {},
     "output_type": "execute_result"
    },
    {
     "data": {
      "image/png": "[encoded data removed]",
      "text/plain": [
       "<Figure size 432x288 with 1 Axes>"
      ]
     },
     "metadata": {
      "needs_background": "light"
     },
     "output_type": "display_data"
    }
   ],
   "source": [
    "sns.countplot(pca_df_k.target,hue = pca_df_k.gender)"
   ]
  },
  {
   "cell_type": "code",
   "execution_count": 130,
   "metadata": {},
   "outputs": [
    {
     "data": {
      "text/plain": [
       "<AxesSubplot:xlabel='readmitted', ylabel='count'>"
      ]
     },
     "execution_count": 130,
     "metadata": {},
     "output_type": "execute_result"
    },
    {
     "data": {
      "image/png": "[encoded data removed]",
      "text/plain": [
       "<Figure size 432x288 with 1 Axes>"
      ]
     },
     "metadata": {
      "needs_background": "light"
     },
     "output_type": "display_data"
    }
   ],
   "source": [
    "sns.countplot(df.readmitted,hue = df.gender)"
   ]
  },
  {
   "cell_type": "code",
   "execution_count": 139,
   "metadata": {},
   "outputs": [],
   "source": [
    "# Check the target column\n",
    "# the cluster notation for 0 and 2 is differnet\n",
    "# Actually interchange them and then check the score"
   ]
  },
  {
   "cell_type": "code",
   "execution_count": null,
   "metadata": {},
   "outputs": [],
   "source": []
  }
 ],
 "metadata": {
  "kernelspec": {
   "display_name": "Python 3",
   "language": "python",
   "name": "python3"
  },
  "language_info": {
   "codemirror_mode": {
    "name": "ipython",
    "version": 3
   },
   "file_extension": ".py",
   "mimetype": "text/x-python",
   "name": "python",
   "nbconvert_exporter": "python",
   "pygments_lexer": "ipython3",
   "version": "3.8.3"
  }
 },
 "nbformat": 4,
 "nbformat_minor": 2
}
