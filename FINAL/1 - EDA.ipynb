{
 "cells": [
  {
   "cell_type": "code",
   "execution_count": 1,
   "metadata": {
    "colab": {
     "base_uri": "https://localhost:8080/",
     "height": 72
    },
    "colab_type": "code",
    "id": "NNO1147aWp5Q",
    "outputId": "14b4d7f2-3413-4f57-93cf-a2d498d49d10"
   },
   "outputs": [],
   "source": [
    "import numpy as np\n",
    "import pandas as pd\n",
    "import matplotlib.pyplot as plt\n",
    "import seaborn as sns\n",
    "import warnings\n",
    "warnings.filterwarnings('ignore')\n",
    "pd.set_option('display.max_columns', None)"
   ]
  },
  {
   "cell_type": "code",
   "execution_count": 2,
   "metadata": {
    "colab": {},
    "colab_type": "code",
    "id": "eSWmYR8NW5YB"
   },
   "outputs": [],
   "source": [
    "df = pd.read_csv('raw_data.csv')"
   ]
  },
  {
   "cell_type": "code",
   "execution_count": 3,
   "metadata": {
    "colab": {
     "base_uri": "https://localhost:8080/",
     "height": 322
    },
    "colab_type": "code",
    "id": "4CRs0Qr6ZiRr",
    "outputId": "a12129c9-018f-485d-c019-002ad45a13d8"
   },
   "outputs": [
    {
     "data": {
      "text/html": [
       "<div>\n",
       "<style scoped>\n",
       "    .dataframe tbody tr th:only-of-type {\n",
       "        vertical-align: middle;\n",
       "    }\n",
       "\n",
       "    .dataframe tbody tr th {\n",
       "        vertical-align: top;\n",
       "    }\n",
       "\n",
       "    .dataframe thead th {\n",
       "        text-align: right;\n",
       "    }\n",
       "</style>\n",
       "<table border=\"1\" class=\"dataframe\">\n",
       "  <thead>\n",
       "    <tr style=\"text-align: right;\">\n",
       "      <th></th>\n",
       "      <th>encounter_id</th>\n",
       "      <th>patient_nbr</th>\n",
       "      <th>race</th>\n",
       "      <th>gender</th>\n",
       "      <th>age</th>\n",
       "      <th>weight</th>\n",
       "      <th>admission_type_id</th>\n",
       "      <th>discharge_disposition_id</th>\n",
       "      <th>admission_source_id</th>\n",
       "      <th>time_in_hospital</th>\n",
       "      <th>payer_code</th>\n",
       "      <th>medical_specialty</th>\n",
       "      <th>num_lab_procedures</th>\n",
       "      <th>num_procedures</th>\n",
       "      <th>num_medications</th>\n",
       "      <th>number_outpatient</th>\n",
       "      <th>number_emergency</th>\n",
       "      <th>number_inpatient</th>\n",
       "      <th>diag_1</th>\n",
       "      <th>diag_2</th>\n",
       "      <th>diag_3</th>\n",
       "      <th>number_diagnoses</th>\n",
       "      <th>max_glu_serum</th>\n",
       "      <th>A1Cresult</th>\n",
       "      <th>metformin</th>\n",
       "      <th>repaglinide</th>\n",
       "      <th>nateglinide</th>\n",
       "      <th>chlorpropamide</th>\n",
       "      <th>glimepiride</th>\n",
       "      <th>acetohexamide</th>\n",
       "      <th>glipizide</th>\n",
       "      <th>glyburide</th>\n",
       "      <th>tolbutamide</th>\n",
       "      <th>pioglitazone</th>\n",
       "      <th>rosiglitazone</th>\n",
       "      <th>acarbose</th>\n",
       "      <th>miglitol</th>\n",
       "      <th>troglitazone</th>\n",
       "      <th>tolazamide</th>\n",
       "      <th>examide</th>\n",
       "      <th>citoglipton</th>\n",
       "      <th>insulin</th>\n",
       "      <th>glyburide-metformin</th>\n",
       "      <th>glipizide-metformin</th>\n",
       "      <th>glimepiride-pioglitazone</th>\n",
       "      <th>metformin-rosiglitazone</th>\n",
       "      <th>metformin-pioglitazone</th>\n",
       "      <th>change</th>\n",
       "      <th>diabetesMed</th>\n",
       "      <th>readmitted</th>\n",
       "    </tr>\n",
       "  </thead>\n",
       "  <tbody>\n",
       "    <tr>\n",
       "      <th>0</th>\n",
       "      <td>2278392</td>\n",
       "      <td>8222157</td>\n",
       "      <td>Caucasian</td>\n",
       "      <td>Female</td>\n",
       "      <td>[0-10)</td>\n",
       "      <td>?</td>\n",
       "      <td>6</td>\n",
       "      <td>25</td>\n",
       "      <td>1</td>\n",
       "      <td>1</td>\n",
       "      <td>?</td>\n",
       "      <td>Pediatrics-Endocrinology</td>\n",
       "      <td>41</td>\n",
       "      <td>0</td>\n",
       "      <td>1</td>\n",
       "      <td>0</td>\n",
       "      <td>0</td>\n",
       "      <td>0</td>\n",
       "      <td>250.83</td>\n",
       "      <td>?</td>\n",
       "      <td>?</td>\n",
       "      <td>1</td>\n",
       "      <td>None</td>\n",
       "      <td>None</td>\n",
       "      <td>No</td>\n",
       "      <td>No</td>\n",
       "      <td>No</td>\n",
       "      <td>No</td>\n",
       "      <td>No</td>\n",
       "      <td>No</td>\n",
       "      <td>No</td>\n",
       "      <td>No</td>\n",
       "      <td>No</td>\n",
       "      <td>No</td>\n",
       "      <td>No</td>\n",
       "      <td>No</td>\n",
       "      <td>No</td>\n",
       "      <td>No</td>\n",
       "      <td>No</td>\n",
       "      <td>No</td>\n",
       "      <td>No</td>\n",
       "      <td>No</td>\n",
       "      <td>No</td>\n",
       "      <td>No</td>\n",
       "      <td>No</td>\n",
       "      <td>No</td>\n",
       "      <td>No</td>\n",
       "      <td>No</td>\n",
       "      <td>No</td>\n",
       "      <td>NO</td>\n",
       "    </tr>\n",
       "    <tr>\n",
       "      <th>1</th>\n",
       "      <td>149190</td>\n",
       "      <td>55629189</td>\n",
       "      <td>Caucasian</td>\n",
       "      <td>Female</td>\n",
       "      <td>[10-20)</td>\n",
       "      <td>?</td>\n",
       "      <td>1</td>\n",
       "      <td>1</td>\n",
       "      <td>7</td>\n",
       "      <td>3</td>\n",
       "      <td>?</td>\n",
       "      <td>?</td>\n",
       "      <td>59</td>\n",
       "      <td>0</td>\n",
       "      <td>18</td>\n",
       "      <td>0</td>\n",
       "      <td>0</td>\n",
       "      <td>0</td>\n",
       "      <td>276</td>\n",
       "      <td>250.01</td>\n",
       "      <td>255</td>\n",
       "      <td>9</td>\n",
       "      <td>None</td>\n",
       "      <td>None</td>\n",
       "      <td>No</td>\n",
       "      <td>No</td>\n",
       "      <td>No</td>\n",
       "      <td>No</td>\n",
       "      <td>No</td>\n",
       "      <td>No</td>\n",
       "      <td>No</td>\n",
       "      <td>No</td>\n",
       "      <td>No</td>\n",
       "      <td>No</td>\n",
       "      <td>No</td>\n",
       "      <td>No</td>\n",
       "      <td>No</td>\n",
       "      <td>No</td>\n",
       "      <td>No</td>\n",
       "      <td>No</td>\n",
       "      <td>No</td>\n",
       "      <td>Up</td>\n",
       "      <td>No</td>\n",
       "      <td>No</td>\n",
       "      <td>No</td>\n",
       "      <td>No</td>\n",
       "      <td>No</td>\n",
       "      <td>Ch</td>\n",
       "      <td>Yes</td>\n",
       "      <td>&gt;30</td>\n",
       "    </tr>\n",
       "    <tr>\n",
       "      <th>2</th>\n",
       "      <td>64410</td>\n",
       "      <td>86047875</td>\n",
       "      <td>AfricanAmerican</td>\n",
       "      <td>Female</td>\n",
       "      <td>[20-30)</td>\n",
       "      <td>?</td>\n",
       "      <td>1</td>\n",
       "      <td>1</td>\n",
       "      <td>7</td>\n",
       "      <td>2</td>\n",
       "      <td>?</td>\n",
       "      <td>?</td>\n",
       "      <td>11</td>\n",
       "      <td>5</td>\n",
       "      <td>13</td>\n",
       "      <td>2</td>\n",
       "      <td>0</td>\n",
       "      <td>1</td>\n",
       "      <td>648</td>\n",
       "      <td>250</td>\n",
       "      <td>V27</td>\n",
       "      <td>6</td>\n",
       "      <td>None</td>\n",
       "      <td>None</td>\n",
       "      <td>No</td>\n",
       "      <td>No</td>\n",
       "      <td>No</td>\n",
       "      <td>No</td>\n",
       "      <td>No</td>\n",
       "      <td>No</td>\n",
       "      <td>Steady</td>\n",
       "      <td>No</td>\n",
       "      <td>No</td>\n",
       "      <td>No</td>\n",
       "      <td>No</td>\n",
       "      <td>No</td>\n",
       "      <td>No</td>\n",
       "      <td>No</td>\n",
       "      <td>No</td>\n",
       "      <td>No</td>\n",
       "      <td>No</td>\n",
       "      <td>No</td>\n",
       "      <td>No</td>\n",
       "      <td>No</td>\n",
       "      <td>No</td>\n",
       "      <td>No</td>\n",
       "      <td>No</td>\n",
       "      <td>No</td>\n",
       "      <td>Yes</td>\n",
       "      <td>NO</td>\n",
       "    </tr>\n",
       "    <tr>\n",
       "      <th>3</th>\n",
       "      <td>500364</td>\n",
       "      <td>82442376</td>\n",
       "      <td>Caucasian</td>\n",
       "      <td>Male</td>\n",
       "      <td>[30-40)</td>\n",
       "      <td>?</td>\n",
       "      <td>1</td>\n",
       "      <td>1</td>\n",
       "      <td>7</td>\n",
       "      <td>2</td>\n",
       "      <td>?</td>\n",
       "      <td>?</td>\n",
       "      <td>44</td>\n",
       "      <td>1</td>\n",
       "      <td>16</td>\n",
       "      <td>0</td>\n",
       "      <td>0</td>\n",
       "      <td>0</td>\n",
       "      <td>8</td>\n",
       "      <td>250.43</td>\n",
       "      <td>403</td>\n",
       "      <td>7</td>\n",
       "      <td>None</td>\n",
       "      <td>None</td>\n",
       "      <td>No</td>\n",
       "      <td>No</td>\n",
       "      <td>No</td>\n",
       "      <td>No</td>\n",
       "      <td>No</td>\n",
       "      <td>No</td>\n",
       "      <td>No</td>\n",
       "      <td>No</td>\n",
       "      <td>No</td>\n",
       "      <td>No</td>\n",
       "      <td>No</td>\n",
       "      <td>No</td>\n",
       "      <td>No</td>\n",
       "      <td>No</td>\n",
       "      <td>No</td>\n",
       "      <td>No</td>\n",
       "      <td>No</td>\n",
       "      <td>Up</td>\n",
       "      <td>No</td>\n",
       "      <td>No</td>\n",
       "      <td>No</td>\n",
       "      <td>No</td>\n",
       "      <td>No</td>\n",
       "      <td>Ch</td>\n",
       "      <td>Yes</td>\n",
       "      <td>NO</td>\n",
       "    </tr>\n",
       "    <tr>\n",
       "      <th>4</th>\n",
       "      <td>16680</td>\n",
       "      <td>42519267</td>\n",
       "      <td>Caucasian</td>\n",
       "      <td>Male</td>\n",
       "      <td>[40-50)</td>\n",
       "      <td>?</td>\n",
       "      <td>1</td>\n",
       "      <td>1</td>\n",
       "      <td>7</td>\n",
       "      <td>1</td>\n",
       "      <td>?</td>\n",
       "      <td>?</td>\n",
       "      <td>51</td>\n",
       "      <td>0</td>\n",
       "      <td>8</td>\n",
       "      <td>0</td>\n",
       "      <td>0</td>\n",
       "      <td>0</td>\n",
       "      <td>197</td>\n",
       "      <td>157</td>\n",
       "      <td>250</td>\n",
       "      <td>5</td>\n",
       "      <td>None</td>\n",
       "      <td>None</td>\n",
       "      <td>No</td>\n",
       "      <td>No</td>\n",
       "      <td>No</td>\n",
       "      <td>No</td>\n",
       "      <td>No</td>\n",
       "      <td>No</td>\n",
       "      <td>Steady</td>\n",
       "      <td>No</td>\n",
       "      <td>No</td>\n",
       "      <td>No</td>\n",
       "      <td>No</td>\n",
       "      <td>No</td>\n",
       "      <td>No</td>\n",
       "      <td>No</td>\n",
       "      <td>No</td>\n",
       "      <td>No</td>\n",
       "      <td>No</td>\n",
       "      <td>Steady</td>\n",
       "      <td>No</td>\n",
       "      <td>No</td>\n",
       "      <td>No</td>\n",
       "      <td>No</td>\n",
       "      <td>No</td>\n",
       "      <td>Ch</td>\n",
       "      <td>Yes</td>\n",
       "      <td>NO</td>\n",
       "    </tr>\n",
       "  </tbody>\n",
       "</table>\n",
       "</div>"
      ],
      "text/plain": [
       "   encounter_id  patient_nbr             race  gender      age weight  \\\n",
       "0       2278392      8222157        Caucasian  Female   [0-10)      ?   \n",
       "1        149190     55629189        Caucasian  Female  [10-20)      ?   \n",
       "2         64410     86047875  AfricanAmerican  Female  [20-30)      ?   \n",
       "3        500364     82442376        Caucasian    Male  [30-40)      ?   \n",
       "4         16680     42519267        Caucasian    Male  [40-50)      ?   \n",
       "\n",
       "   admission_type_id  discharge_disposition_id  admission_source_id  \\\n",
       "0                  6                        25                    1   \n",
       "1                  1                         1                    7   \n",
       "2                  1                         1                    7   \n",
       "3                  1                         1                    7   \n",
       "4                  1                         1                    7   \n",
       "\n",
       "   time_in_hospital payer_code         medical_specialty  num_lab_procedures  \\\n",
       "0                 1          ?  Pediatrics-Endocrinology                  41   \n",
       "1                 3          ?                         ?                  59   \n",
       "2                 2          ?                         ?                  11   \n",
       "3                 2          ?                         ?                  44   \n",
       "4                 1          ?                         ?                  51   \n",
       "\n",
       "   num_procedures  num_medications  number_outpatient  number_emergency  \\\n",
       "0               0                1                  0                 0   \n",
       "1               0               18                  0                 0   \n",
       "2               5               13                  2                 0   \n",
       "3               1               16                  0                 0   \n",
       "4               0                8                  0                 0   \n",
       "\n",
       "   number_inpatient  diag_1  diag_2 diag_3  number_diagnoses max_glu_serum  \\\n",
       "0                 0  250.83       ?      ?                 1          None   \n",
       "1                 0     276  250.01    255                 9          None   \n",
       "2                 1     648     250    V27                 6          None   \n",
       "3                 0       8  250.43    403                 7          None   \n",
       "4                 0     197     157    250                 5          None   \n",
       "\n",
       "  A1Cresult metformin repaglinide nateglinide chlorpropamide glimepiride  \\\n",
       "0      None        No          No          No             No          No   \n",
       "1      None        No          No          No             No          No   \n",
       "2      None        No          No          No             No          No   \n",
       "3      None        No          No          No             No          No   \n",
       "4      None        No          No          No             No          No   \n",
       "\n",
       "  acetohexamide glipizide glyburide tolbutamide pioglitazone rosiglitazone  \\\n",
       "0            No        No        No          No           No            No   \n",
       "1            No        No        No          No           No            No   \n",
       "2            No    Steady        No          No           No            No   \n",
       "3            No        No        No          No           No            No   \n",
       "4            No    Steady        No          No           No            No   \n",
       "\n",
       "  acarbose miglitol troglitazone tolazamide examide citoglipton insulin  \\\n",
       "0       No       No           No         No      No          No      No   \n",
       "1       No       No           No         No      No          No      Up   \n",
       "2       No       No           No         No      No          No      No   \n",
       "3       No       No           No         No      No          No      Up   \n",
       "4       No       No           No         No      No          No  Steady   \n",
       "\n",
       "  glyburide-metformin glipizide-metformin glimepiride-pioglitazone  \\\n",
       "0                  No                  No                       No   \n",
       "1                  No                  No                       No   \n",
       "2                  No                  No                       No   \n",
       "3                  No                  No                       No   \n",
       "4                  No                  No                       No   \n",
       "\n",
       "  metformin-rosiglitazone metformin-pioglitazone change diabetesMed readmitted  \n",
       "0                      No                     No     No          No         NO  \n",
       "1                      No                     No     Ch         Yes        >30  \n",
       "2                      No                     No     No         Yes         NO  \n",
       "3                      No                     No     Ch         Yes         NO  \n",
       "4                      No                     No     Ch         Yes         NO  "
      ]
     },
     "execution_count": 3,
     "metadata": {},
     "output_type": "execute_result"
    }
   ],
   "source": [
    "df.head()"
   ]
  },
  {
   "cell_type": "code",
   "execution_count": 4,
   "metadata": {
    "colab": {
     "base_uri": "https://localhost:8080/",
     "height": 242
    },
    "colab_type": "code",
    "id": "eGhKEHZFZjy4",
    "outputId": "ce02ba23-f3b0-4b13-8c1a-82812cccb1f2"
   },
   "outputs": [],
   "source": [
    "# checking of multiple encounters.\n",
    "number_of_revisits = pd.DataFrame(df.groupby('patient_nbr').count()['encounter_id']).rename(columns={'encounter_id':'number_of_revisit'})"
   ]
  },
  {
   "cell_type": "code",
   "execution_count": 5,
   "metadata": {},
   "outputs": [
    {
     "data": {
      "text/html": [
       "<div>\n",
       "<style scoped>\n",
       "    .dataframe tbody tr th:only-of-type {\n",
       "        vertical-align: middle;\n",
       "    }\n",
       "\n",
       "    .dataframe tbody tr th {\n",
       "        vertical-align: top;\n",
       "    }\n",
       "\n",
       "    .dataframe thead th {\n",
       "        text-align: right;\n",
       "    }\n",
       "</style>\n",
       "<table border=\"1\" class=\"dataframe\">\n",
       "  <thead>\n",
       "    <tr style=\"text-align: right;\">\n",
       "      <th></th>\n",
       "      <th>number_of_revisit</th>\n",
       "    </tr>\n",
       "    <tr>\n",
       "      <th>patient_nbr</th>\n",
       "      <th></th>\n",
       "    </tr>\n",
       "  </thead>\n",
       "  <tbody>\n",
       "    <tr>\n",
       "      <th>135</th>\n",
       "      <td>2</td>\n",
       "    </tr>\n",
       "    <tr>\n",
       "      <th>378</th>\n",
       "      <td>1</td>\n",
       "    </tr>\n",
       "    <tr>\n",
       "      <th>729</th>\n",
       "      <td>1</td>\n",
       "    </tr>\n",
       "    <tr>\n",
       "      <th>774</th>\n",
       "      <td>1</td>\n",
       "    </tr>\n",
       "    <tr>\n",
       "      <th>927</th>\n",
       "      <td>1</td>\n",
       "    </tr>\n",
       "    <tr>\n",
       "      <th>...</th>\n",
       "      <td>...</td>\n",
       "    </tr>\n",
       "    <tr>\n",
       "      <th>189351095</th>\n",
       "      <td>1</td>\n",
       "    </tr>\n",
       "    <tr>\n",
       "      <th>189365864</th>\n",
       "      <td>1</td>\n",
       "    </tr>\n",
       "    <tr>\n",
       "      <th>189445127</th>\n",
       "      <td>1</td>\n",
       "    </tr>\n",
       "    <tr>\n",
       "      <th>189481478</th>\n",
       "      <td>1</td>\n",
       "    </tr>\n",
       "    <tr>\n",
       "      <th>189502619</th>\n",
       "      <td>1</td>\n",
       "    </tr>\n",
       "  </tbody>\n",
       "</table>\n",
       "<p>71518 rows × 1 columns</p>\n",
       "</div>"
      ],
      "text/plain": [
       "             number_of_revisit\n",
       "patient_nbr                   \n",
       "135                          2\n",
       "378                          1\n",
       "729                          1\n",
       "774                          1\n",
       "927                          1\n",
       "...                        ...\n",
       "189351095                    1\n",
       "189365864                    1\n",
       "189445127                    1\n",
       "189481478                    1\n",
       "189502619                    1\n",
       "\n",
       "[71518 rows x 1 columns]"
      ]
     },
     "execution_count": 5,
     "metadata": {},
     "output_type": "execute_result"
    }
   ],
   "source": [
    "number_of_revisits"
   ]
  },
  {
   "cell_type": "code",
   "execution_count": 6,
   "metadata": {
    "colab": {},
    "colab_type": "code",
    "id": "SA0X8CWskZv-"
   },
   "outputs": [],
   "source": [
    "data = df.copy()"
   ]
  },
  {
   "cell_type": "code",
   "execution_count": 7,
   "metadata": {
    "colab": {
     "base_uri": "https://localhost:8080/",
     "height": 52
    },
    "colab_type": "code",
    "id": "Z72AWgueZvbg",
    "outputId": "c525f4d5-17b1-4b4e-9456-22084651b738"
   },
   "outputs": [
    {
     "name": "stdout",
     "output_type": "stream",
     "text": [
      "number of entries removed is 30248\n"
     ]
    }
   ],
   "source": [
    "# removing multiple encounters.\n",
    "data = df.drop_duplicates(keep='first',subset='patient_nbr')\n",
    "print(f'number of entries removed is {len(df)-len(data)}')"
   ]
  },
  {
   "cell_type": "code",
   "execution_count": 8,
   "metadata": {},
   "outputs": [],
   "source": [
    "data = data.merge(number_of_revisits,how='left',on='patient_nbr')"
   ]
  },
  {
   "cell_type": "code",
   "execution_count": 9,
   "metadata": {
    "colab": {
     "base_uri": "https://localhost:8080/",
     "height": 34
    },
    "colab_type": "code",
    "id": "xdDoFF3UkkPW",
    "outputId": "f5f3e406-ccf4-4314-ef24-936100117e81",
    "scrolled": true
   },
   "outputs": [
    {
     "data": {
      "text/plain": [
       "(71518, 51)"
      ]
     },
     "execution_count": 9,
     "metadata": {},
     "output_type": "execute_result"
    }
   ],
   "source": [
    "data.shape"
   ]
  },
  {
   "cell_type": "code",
   "execution_count": 10,
   "metadata": {
    "colab": {
     "base_uri": "https://localhost:8080/",
     "height": 1000
    },
    "colab_type": "code",
    "id": "kSi9GEMNmK86",
    "outputId": "50ee5962-c4c9-4f69-f5ca-e879a01bca06",
    "scrolled": true
   },
   "outputs": [
    {
     "name": "stdout",
     "output_type": "stream",
     "text": [
      "<class 'pandas.core.frame.DataFrame'>\n",
      "Int64Index: 71518 entries, 0 to 71517\n",
      "Data columns (total 51 columns):\n",
      " #   Column                    Non-Null Count  Dtype \n",
      "---  ------                    --------------  ----- \n",
      " 0   encounter_id              71518 non-null  int64 \n",
      " 1   patient_nbr               71518 non-null  int64 \n",
      " 2   race                      71518 non-null  object\n",
      " 3   gender                    71518 non-null  object\n",
      " 4   age                       71518 non-null  object\n",
      " 5   weight                    71518 non-null  object\n",
      " 6   admission_type_id         71518 non-null  int64 \n",
      " 7   discharge_disposition_id  71518 non-null  int64 \n",
      " 8   admission_source_id       71518 non-null  int64 \n",
      " 9   time_in_hospital          71518 non-null  int64 \n",
      " 10  payer_code                71518 non-null  object\n",
      " 11  medical_specialty         71518 non-null  object\n",
      " 12  num_lab_procedures        71518 non-null  int64 \n",
      " 13  num_procedures            71518 non-null  int64 \n",
      " 14  num_medications           71518 non-null  int64 \n",
      " 15  number_outpatient         71518 non-null  int64 \n",
      " 16  number_emergency          71518 non-null  int64 \n",
      " 17  number_inpatient          71518 non-null  int64 \n",
      " 18  diag_1                    71518 non-null  object\n",
      " 19  diag_2                    71518 non-null  object\n",
      " 20  diag_3                    71518 non-null  object\n",
      " 21  number_diagnoses          71518 non-null  int64 \n",
      " 22  max_glu_serum             71518 non-null  object\n",
      " 23  A1Cresult                 71518 non-null  object\n",
      " 24  metformin                 71518 non-null  object\n",
      " 25  repaglinide               71518 non-null  object\n",
      " 26  nateglinide               71518 non-null  object\n",
      " 27  chlorpropamide            71518 non-null  object\n",
      " 28  glimepiride               71518 non-null  object\n",
      " 29  acetohexamide             71518 non-null  object\n",
      " 30  glipizide                 71518 non-null  object\n",
      " 31  glyburide                 71518 non-null  object\n",
      " 32  tolbutamide               71518 non-null  object\n",
      " 33  pioglitazone              71518 non-null  object\n",
      " 34  rosiglitazone             71518 non-null  object\n",
      " 35  acarbose                  71518 non-null  object\n",
      " 36  miglitol                  71518 non-null  object\n",
      " 37  troglitazone              71518 non-null  object\n",
      " 38  tolazamide                71518 non-null  object\n",
      " 39  examide                   71518 non-null  object\n",
      " 40  citoglipton               71518 non-null  object\n",
      " 41  insulin                   71518 non-null  object\n",
      " 42  glyburide-metformin       71518 non-null  object\n",
      " 43  glipizide-metformin       71518 non-null  object\n",
      " 44  glimepiride-pioglitazone  71518 non-null  object\n",
      " 45  metformin-rosiglitazone   71518 non-null  object\n",
      " 46  metformin-pioglitazone    71518 non-null  object\n",
      " 47  change                    71518 non-null  object\n",
      " 48  diabetesMed               71518 non-null  object\n",
      " 49  readmitted                71518 non-null  object\n",
      " 50  number_of_revisit         71518 non-null  int64 \n",
      "dtypes: int64(14), object(37)\n",
      "memory usage: 28.4+ MB\n"
     ]
    }
   ],
   "source": [
    "data.info()"
   ]
  },
  {
   "cell_type": "code",
   "execution_count": 11,
   "metadata": {
    "colab": {
     "base_uri": "https://localhost:8080/",
     "height": 439
    },
    "colab_type": "code",
    "id": "ps-pkc3eo3Q1",
    "outputId": "28fd917e-0556-47a7-b9f1-18f0119b26f7"
   },
   "outputs": [
    {
     "data": {
      "text/html": [
       "<div>\n",
       "<style scoped>\n",
       "    .dataframe tbody tr th:only-of-type {\n",
       "        vertical-align: middle;\n",
       "    }\n",
       "\n",
       "    .dataframe tbody tr th {\n",
       "        vertical-align: top;\n",
       "    }\n",
       "\n",
       "    .dataframe thead th {\n",
       "        text-align: right;\n",
       "    }\n",
       "</style>\n",
       "<table border=\"1\" class=\"dataframe\">\n",
       "  <thead>\n",
       "    <tr style=\"text-align: right;\">\n",
       "      <th></th>\n",
       "      <th>count</th>\n",
       "      <th>mean</th>\n",
       "      <th>std</th>\n",
       "      <th>min</th>\n",
       "      <th>25%</th>\n",
       "      <th>50%</th>\n",
       "      <th>75%</th>\n",
       "      <th>max</th>\n",
       "    </tr>\n",
       "  </thead>\n",
       "  <tbody>\n",
       "    <tr>\n",
       "      <th>encounter_id</th>\n",
       "      <td>71518.0</td>\n",
       "      <td>1.568156e+08</td>\n",
       "      <td>1.003769e+08</td>\n",
       "      <td>12522.0</td>\n",
       "      <td>81458068.5</td>\n",
       "      <td>144057399.0</td>\n",
       "      <td>2.155513e+08</td>\n",
       "      <td>443867222.0</td>\n",
       "    </tr>\n",
       "    <tr>\n",
       "      <th>patient_nbr</th>\n",
       "      <td>71518.0</td>\n",
       "      <td>5.505160e+07</td>\n",
       "      <td>3.947573e+07</td>\n",
       "      <td>135.0</td>\n",
       "      <td>23375767.5</td>\n",
       "      <td>48166798.5</td>\n",
       "      <td>8.752222e+07</td>\n",
       "      <td>189502619.0</td>\n",
       "    </tr>\n",
       "    <tr>\n",
       "      <th>admission_type_id</th>\n",
       "      <td>71518.0</td>\n",
       "      <td>2.100254e+00</td>\n",
       "      <td>1.508301e+00</td>\n",
       "      <td>1.0</td>\n",
       "      <td>1.0</td>\n",
       "      <td>1.0</td>\n",
       "      <td>3.000000e+00</td>\n",
       "      <td>8.0</td>\n",
       "    </tr>\n",
       "    <tr>\n",
       "      <th>discharge_disposition_id</th>\n",
       "      <td>71518.0</td>\n",
       "      <td>3.593235e+00</td>\n",
       "      <td>5.269771e+00</td>\n",
       "      <td>1.0</td>\n",
       "      <td>1.0</td>\n",
       "      <td>1.0</td>\n",
       "      <td>3.000000e+00</td>\n",
       "      <td>28.0</td>\n",
       "    </tr>\n",
       "    <tr>\n",
       "      <th>admission_source_id</th>\n",
       "      <td>71518.0</td>\n",
       "      <td>5.657457e+00</td>\n",
       "      <td>4.162580e+00</td>\n",
       "      <td>1.0</td>\n",
       "      <td>1.0</td>\n",
       "      <td>7.0</td>\n",
       "      <td>7.000000e+00</td>\n",
       "      <td>25.0</td>\n",
       "    </tr>\n",
       "    <tr>\n",
       "      <th>time_in_hospital</th>\n",
       "      <td>71518.0</td>\n",
       "      <td>4.289130e+00</td>\n",
       "      <td>2.949210e+00</td>\n",
       "      <td>1.0</td>\n",
       "      <td>2.0</td>\n",
       "      <td>3.0</td>\n",
       "      <td>6.000000e+00</td>\n",
       "      <td>14.0</td>\n",
       "    </tr>\n",
       "    <tr>\n",
       "      <th>num_lab_procedures</th>\n",
       "      <td>71518.0</td>\n",
       "      <td>4.307548e+01</td>\n",
       "      <td>1.995234e+01</td>\n",
       "      <td>1.0</td>\n",
       "      <td>31.0</td>\n",
       "      <td>44.0</td>\n",
       "      <td>5.700000e+01</td>\n",
       "      <td>132.0</td>\n",
       "    </tr>\n",
       "    <tr>\n",
       "      <th>num_procedures</th>\n",
       "      <td>71518.0</td>\n",
       "      <td>1.430577e+00</td>\n",
       "      <td>1.759864e+00</td>\n",
       "      <td>0.0</td>\n",
       "      <td>0.0</td>\n",
       "      <td>1.0</td>\n",
       "      <td>2.000000e+00</td>\n",
       "      <td>6.0</td>\n",
       "    </tr>\n",
       "    <tr>\n",
       "      <th>num_medications</th>\n",
       "      <td>71518.0</td>\n",
       "      <td>1.570503e+01</td>\n",
       "      <td>8.311163e+00</td>\n",
       "      <td>1.0</td>\n",
       "      <td>10.0</td>\n",
       "      <td>14.0</td>\n",
       "      <td>2.000000e+01</td>\n",
       "      <td>81.0</td>\n",
       "    </tr>\n",
       "    <tr>\n",
       "      <th>number_outpatient</th>\n",
       "      <td>71518.0</td>\n",
       "      <td>2.800694e-01</td>\n",
       "      <td>1.068957e+00</td>\n",
       "      <td>0.0</td>\n",
       "      <td>0.0</td>\n",
       "      <td>0.0</td>\n",
       "      <td>0.000000e+00</td>\n",
       "      <td>42.0</td>\n",
       "    </tr>\n",
       "    <tr>\n",
       "      <th>number_emergency</th>\n",
       "      <td>71518.0</td>\n",
       "      <td>1.035404e-01</td>\n",
       "      <td>5.091866e-01</td>\n",
       "      <td>0.0</td>\n",
       "      <td>0.0</td>\n",
       "      <td>0.0</td>\n",
       "      <td>0.000000e+00</td>\n",
       "      <td>42.0</td>\n",
       "    </tr>\n",
       "    <tr>\n",
       "      <th>number_inpatient</th>\n",
       "      <td>71518.0</td>\n",
       "      <td>1.778294e-01</td>\n",
       "      <td>6.037895e-01</td>\n",
       "      <td>0.0</td>\n",
       "      <td>0.0</td>\n",
       "      <td>0.0</td>\n",
       "      <td>0.000000e+00</td>\n",
       "      <td>12.0</td>\n",
       "    </tr>\n",
       "    <tr>\n",
       "      <th>number_diagnoses</th>\n",
       "      <td>71518.0</td>\n",
       "      <td>7.245700e+00</td>\n",
       "      <td>1.994674e+00</td>\n",
       "      <td>1.0</td>\n",
       "      <td>6.0</td>\n",
       "      <td>8.0</td>\n",
       "      <td>9.000000e+00</td>\n",
       "      <td>16.0</td>\n",
       "    </tr>\n",
       "    <tr>\n",
       "      <th>number_of_revisit</th>\n",
       "      <td>71518.0</td>\n",
       "      <td>1.422942e+00</td>\n",
       "      <td>1.090740e+00</td>\n",
       "      <td>1.0</td>\n",
       "      <td>1.0</td>\n",
       "      <td>1.0</td>\n",
       "      <td>1.000000e+00</td>\n",
       "      <td>40.0</td>\n",
       "    </tr>\n",
       "  </tbody>\n",
       "</table>\n",
       "</div>"
      ],
      "text/plain": [
       "                            count          mean           std      min  \\\n",
       "encounter_id              71518.0  1.568156e+08  1.003769e+08  12522.0   \n",
       "patient_nbr               71518.0  5.505160e+07  3.947573e+07    135.0   \n",
       "admission_type_id         71518.0  2.100254e+00  1.508301e+00      1.0   \n",
       "discharge_disposition_id  71518.0  3.593235e+00  5.269771e+00      1.0   \n",
       "admission_source_id       71518.0  5.657457e+00  4.162580e+00      1.0   \n",
       "time_in_hospital          71518.0  4.289130e+00  2.949210e+00      1.0   \n",
       "num_lab_procedures        71518.0  4.307548e+01  1.995234e+01      1.0   \n",
       "num_procedures            71518.0  1.430577e+00  1.759864e+00      0.0   \n",
       "num_medications           71518.0  1.570503e+01  8.311163e+00      1.0   \n",
       "number_outpatient         71518.0  2.800694e-01  1.068957e+00      0.0   \n",
       "number_emergency          71518.0  1.035404e-01  5.091866e-01      0.0   \n",
       "number_inpatient          71518.0  1.778294e-01  6.037895e-01      0.0   \n",
       "number_diagnoses          71518.0  7.245700e+00  1.994674e+00      1.0   \n",
       "number_of_revisit         71518.0  1.422942e+00  1.090740e+00      1.0   \n",
       "\n",
       "                                 25%          50%           75%          max  \n",
       "encounter_id              81458068.5  144057399.0  2.155513e+08  443867222.0  \n",
       "patient_nbr               23375767.5   48166798.5  8.752222e+07  189502619.0  \n",
       "admission_type_id                1.0          1.0  3.000000e+00          8.0  \n",
       "discharge_disposition_id         1.0          1.0  3.000000e+00         28.0  \n",
       "admission_source_id              1.0          7.0  7.000000e+00         25.0  \n",
       "time_in_hospital                 2.0          3.0  6.000000e+00         14.0  \n",
       "num_lab_procedures              31.0         44.0  5.700000e+01        132.0  \n",
       "num_procedures                   0.0          1.0  2.000000e+00          6.0  \n",
       "num_medications                 10.0         14.0  2.000000e+01         81.0  \n",
       "number_outpatient                0.0          0.0  0.000000e+00         42.0  \n",
       "number_emergency                 0.0          0.0  0.000000e+00         42.0  \n",
       "number_inpatient                 0.0          0.0  0.000000e+00         12.0  \n",
       "number_diagnoses                 6.0          8.0  9.000000e+00         16.0  \n",
       "number_of_revisit                1.0          1.0  1.000000e+00         40.0  "
      ]
     },
     "execution_count": 11,
     "metadata": {},
     "output_type": "execute_result"
    }
   ],
   "source": [
    "data.describe().T"
   ]
  },
  {
   "cell_type": "code",
   "execution_count": 12,
   "metadata": {
    "colab": {
     "base_uri": "https://localhost:8080/",
     "height": 52
    },
    "colab_type": "code",
    "id": "Mlh2Y_C-o6De",
    "outputId": "01bf90f9-862b-4d82-c42d-49bc1a3b8956"
   },
   "outputs": [
    {
     "name": "stdout",
     "output_type": "stream",
     "text": [
      "Number of columns with nan value = 7\n",
      "they are : ['race', 'weight', 'payer_code', 'medical_specialty', 'diag_1', 'diag_2', 'diag_3']\n"
     ]
    }
   ],
   "source": [
    "cols_with_na = [col for col in data.columns if (data[col]=='?').sum()>0]\n",
    "print(f'Number of columns with nan value = {len(cols_with_na)}\\nthey are : {cols_with_na}')"
   ]
  },
  {
   "cell_type": "code",
   "execution_count": 13,
   "metadata": {
    "colab": {
     "base_uri": "https://localhost:8080/",
     "height": 138
    },
    "colab_type": "code",
    "id": "I9FqvP83qG-H",
    "outputId": "e971e1e8-ae3b-4906-c6a9-e51177bb7a48"
   },
   "outputs": [
    {
     "name": "stdout",
     "output_type": "stream",
     "text": [
      "race 2.7199999999999998 % missing data\n",
      "weight 96.00999999999999 % missing data\n",
      "payer_code 43.41 % missing data\n",
      "medical_specialty 48.209999999999994 % missing data\n",
      "diag_1 0.02 % missing data\n",
      "diag_2 0.41000000000000003 % missing data\n",
      "diag_3 1.71 % missing data\n"
     ]
    }
   ],
   "source": [
    "for col in cols_with_na:\n",
    "    print(col,np.round(((data[col]=='?').sum())/len(data[col]),4)*100, '% missing data')"
   ]
  },
  {
   "cell_type": "markdown",
   "metadata": {
    "colab_type": "text",
    "id": "5gTJ_JDXrUOL"
   },
   "source": [
    "- features like (race, diag_1, diag_2, diag_3) can be imputed with suitable null value imputation method. \n",
    "\n",
    "- weight has nearly 96% of null values. so it is better to remove the feature.\n",
    "\n",
    "- for feature payer_code and medical_speciality we can check it's importance with the target variable and decide whether to drop or impute the feature."
   ]
  },
  {
   "cell_type": "code",
   "execution_count": null,
   "metadata": {
    "colab": {},
    "colab_type": "code",
    "id": "fmwAKbaeRLRW"
   },
   "outputs": [],
   "source": []
  },
  {
   "cell_type": "code",
   "execution_count": null,
   "metadata": {
    "colab": {},
    "colab_type": "code",
    "id": "pdXgRD2rRLF-"
   },
   "outputs": [],
   "source": []
  },
  {
   "cell_type": "markdown",
   "metadata": {
    "colab_type": "text",
    "id": "dJ5F5iOxNuBG"
   },
   "source": [
    "* This project focuses on whether the readmisson has taken place less than 30 days from discharge.\n",
    "* we can group \"NO\" and \">30\" together as \"0\" and  \"<30\" as \"1\""
   ]
  },
  {
   "cell_type": "code",
   "execution_count": 14,
   "metadata": {
    "colab": {},
    "colab_type": "code",
    "id": "XbX3smttNnmz"
   },
   "outputs": [],
   "source": [
    "data['readmitted'] = data['readmitted'].replace({'NO':0,'>30':0,'<30':1})"
   ]
  },
  {
   "cell_type": "code",
   "execution_count": 15,
   "metadata": {
    "colab": {
     "base_uri": "https://localhost:8080/",
     "height": 69
    },
    "colab_type": "code",
    "id": "Yyh_Qx8pOXIM",
    "outputId": "d6b20b23-75dc-479d-fcce-83e344946097"
   },
   "outputs": [
    {
     "data": {
      "text/plain": [
       "0    65225\n",
       "1     6293\n",
       "Name: readmitted, dtype: int64"
      ]
     },
     "execution_count": 15,
     "metadata": {},
     "output_type": "execute_result"
    }
   ],
   "source": [
    "data['readmitted'].value_counts()"
   ]
  },
  {
   "cell_type": "code",
   "execution_count": 16,
   "metadata": {
    "colab": {
     "base_uri": "https://localhost:8080/",
     "height": 279
    },
    "colab_type": "code",
    "id": "vpPkP-AtRMZE",
    "outputId": "46e4ea6a-af79-40f1-ccd4-ede222f5236f"
   },
   "outputs": [
    {
     "data": {
      "image/png": "[encoded data removed]",
      "text/plain": [
       "<Figure size 432x288 with 1 Axes>"
      ]
     },
     "metadata": {
      "needs_background": "light"
     },
     "output_type": "display_data"
    }
   ],
   "source": [
    "sns.countplot(data['readmitted'])\n",
    "plt.show()"
   ]
  },
  {
   "cell_type": "code",
   "execution_count": null,
   "metadata": {
    "colab": {},
    "colab_type": "code",
    "id": "vebiGe9NRTOl"
   },
   "outputs": [],
   "source": []
  },
  {
   "cell_type": "code",
   "execution_count": 17,
   "metadata": {
    "colab": {},
    "colab_type": "code",
    "id": "8vHJlDI2BoJN"
   },
   "outputs": [],
   "source": [
    "def data_check(i):\n",
    "    print(f'feature : {i}\\nnunique = {data[i].nunique()}\\nunique values = {data[i].unique()}')\n",
    "    category = data[i].unique()\n",
    "    if len(category) < 50:\n",
    "        for j in range(0,len(category)):\n",
    "            print(f'{category[j]:18}:{len(data[data[i]==category[j]]):3}    :{round(len(data[data[i]==category[j]])*100/len(data),2):7}%')\n",
    "        sns.countplot(data[i],hue=data['readmitted'])\n",
    "        plt.xticks(rotation=90)\n",
    "        plt.show()\n",
    "    else :\n",
    "        print(f'****unique values greater than 50****')\n",
    "    if '?' in category:\n",
    "        print('****Null values present****',round(len(data[data[i]=='?'])*100/len(data),2),'%')\n",
    "    print('-'*50,'\\n','-'*50)"
   ]
  },
  {
   "cell_type": "code",
   "execution_count": 18,
   "metadata": {
    "colab": {
     "base_uri": "https://localhost:8080/",
     "height": 224
    },
    "colab_type": "code",
    "id": "v7xEpIKKCIwM",
    "outputId": "29ac4deb-4db0-4615-c9dc-394c6d2def1d"
   },
   "outputs": [
    {
     "name": "stdout",
     "output_type": "stream",
     "text": [
      "['encounter_id' 'patient_nbr' 'race' 'gender' 'age' 'weight'\n",
      " 'admission_type_id' 'discharge_disposition_id' 'admission_source_id'\n",
      " 'time_in_hospital' 'payer_code' 'medical_specialty' 'num_lab_procedures'\n",
      " 'num_procedures' 'num_medications' 'number_outpatient' 'number_emergency'\n",
      " 'number_inpatient' 'diag_1' 'diag_2' 'diag_3' 'number_diagnoses'\n",
      " 'max_glu_serum' 'A1Cresult' 'metformin' 'repaglinide' 'nateglinide'\n",
      " 'chlorpropamide' 'glimepiride' 'acetohexamide' 'glipizide' 'glyburide'\n",
      " 'tolbutamide' 'pioglitazone' 'rosiglitazone' 'acarbose' 'miglitol'\n",
      " 'troglitazone' 'tolazamide' 'examide' 'citoglipton' 'insulin'\n",
      " 'glyburide-metformin' 'glipizide-metformin' 'glimepiride-pioglitazone'\n",
      " 'metformin-rosiglitazone' 'metformin-pioglitazone' 'change' 'diabetesMed'\n",
      " 'readmitted' 'number_of_revisit']\n"
     ]
    }
   ],
   "source": [
    "print(data.columns.values)"
   ]
  },
  {
   "cell_type": "code",
   "execution_count": 19,
   "metadata": {
    "colab": {},
    "colab_type": "code",
    "id": "hPYNq-opCZBA"
   },
   "outputs": [],
   "source": [
    "data.drop(['encounter_id','patient_nbr'],axis=1,inplace=True)"
   ]
  },
  {
   "cell_type": "code",
   "execution_count": 20,
   "metadata": {
    "colab": {},
    "colab_type": "code",
    "id": "9biSwwHGsSTJ"
   },
   "outputs": [],
   "source": [
    "all_cols = data.columns\n",
    "dummy_encode = set()\n",
    "label_encode = set()\n",
    "to_drop = set()"
   ]
  },
  {
   "cell_type": "code",
   "execution_count": 21,
   "metadata": {
    "colab": {
     "base_uri": "https://localhost:8080/",
     "height": 34
    },
    "colab_type": "code",
    "id": "z0brWJ2Q08wL",
    "outputId": "ae54f13c-acb3-4ea7-acdd-2e97a5fbb6b5"
   },
   "outputs": [
    {
     "data": {
      "text/plain": [
       "49"
      ]
     },
     "execution_count": 21,
     "metadata": {},
     "output_type": "execute_result"
    }
   ],
   "source": [
    "len(all_cols)"
   ]
  },
  {
   "cell_type": "code",
   "execution_count": null,
   "metadata": {
    "colab": {},
    "colab_type": "code",
    "id": "TwA3O3h5OXEe"
   },
   "outputs": [],
   "source": []
  },
  {
   "cell_type": "code",
   "execution_count": 22,
   "metadata": {
    "colab": {
     "base_uri": "https://localhost:8080/",
     "height": 559
    },
    "colab_type": "code",
    "id": "jmQerzH-C53a",
    "outputId": "b21d7bb5-9c57-4380-a62e-e8b764508465"
   },
   "outputs": [
    {
     "name": "stdout",
     "output_type": "stream",
     "text": [
      "feature : race\n",
      "nunique = 6\n",
      "unique values = ['Caucasian' 'AfricanAmerican' '?' 'Other' 'Asian' 'Hispanic']\n",
      "Caucasian         :53491    :  74.79%\n",
      "AfricanAmerican   :12887    :  18.02%\n",
      "?                 :1948    :   2.72%\n",
      "Other             :1178    :   1.65%\n",
      "Asian             :497    :   0.69%\n",
      "Hispanic          :1517    :   2.12%\n"
     ]
    },
    {
     "data": {
      "image/png": "[encoded data removed]",
      "text/plain": [
       "<Figure size 432x288 with 1 Axes>"
      ]
     },
     "metadata": {
      "needs_background": "light"
     },
     "output_type": "display_data"
    },
    {
     "name": "stdout",
     "output_type": "stream",
     "text": [
      "****Null values present**** 2.72 %\n",
      "-------------------------------------------------- \n",
      " --------------------------------------------------\n"
     ]
    }
   ],
   "source": [
    "data_check(all_cols[0])"
   ]
  },
  {
   "cell_type": "markdown",
   "metadata": {
    "colab_type": "text",
    "id": "PZt128p7rrvK"
   },
   "source": [
    "\n",
    "\n",
    "* missing values can be added to others category\n",
    "* this is nominal data so we can apply one hot encoding\n",
    "\n",
    "\n",
    "\n",
    "\n",
    "\n"
   ]
  },
  {
   "cell_type": "code",
   "execution_count": 23,
   "metadata": {
    "colab": {},
    "colab_type": "code",
    "id": "dyULik1rvmKi"
   },
   "outputs": [],
   "source": [
    "data['race'] = data['race'].replace({'?':'Other'})"
   ]
  },
  {
   "cell_type": "code",
   "execution_count": 24,
   "metadata": {
    "colab": {
     "base_uri": "https://localhost:8080/",
     "height": 121
    },
    "colab_type": "code",
    "id": "0m4hAwS4FZdr",
    "outputId": "7b796d9a-d95b-41fd-8ac9-4c37b80fcc71"
   },
   "outputs": [
    {
     "data": {
      "text/plain": [
       "Caucasian          53491\n",
       "AfricanAmerican    12887\n",
       "Other               3126\n",
       "Hispanic            1517\n",
       "Asian                497\n",
       "Name: race, dtype: int64"
      ]
     },
     "execution_count": 24,
     "metadata": {},
     "output_type": "execute_result"
    }
   ],
   "source": [
    "data['race'].value_counts()"
   ]
  },
  {
   "cell_type": "code",
   "execution_count": 25,
   "metadata": {
    "colab": {},
    "colab_type": "code",
    "id": "--k9IdRfAZDD"
   },
   "outputs": [],
   "source": [
    "dummy_encode.add('race')"
   ]
  },
  {
   "cell_type": "code",
   "execution_count": null,
   "metadata": {
    "colab": {},
    "colab_type": "code",
    "id": "XEA8guLeUV8N"
   },
   "outputs": [],
   "source": []
  },
  {
   "cell_type": "code",
   "execution_count": null,
   "metadata": {
    "colab": {},
    "colab_type": "code",
    "id": "63zBCA_hUWDh"
   },
   "outputs": [],
   "source": []
  },
  {
   "cell_type": "code",
   "execution_count": 26,
   "metadata": {
    "colab": {
     "base_uri": "https://localhost:8080/",
     "height": 490
    },
    "colab_type": "code",
    "id": "hw1addywEG0n",
    "outputId": "a96f015d-9b98-41ee-8720-bb9bcdd562f5"
   },
   "outputs": [
    {
     "name": "stdout",
     "output_type": "stream",
     "text": [
      "feature : gender\n",
      "nunique = 3\n",
      "unique values = ['Female' 'Male' 'Unknown/Invalid']\n",
      "Female            :38025    :  53.17%\n",
      "Male              :33490    :  46.83%\n",
      "Unknown/Invalid   :  3    :    0.0%\n"
     ]
    },
    {
     "data": {
      "image/png": "[encoded data removed]",
      "text/plain": [
       "<Figure size 432x288 with 1 Axes>"
      ]
     },
     "metadata": {
      "needs_background": "light"
     },
     "output_type": "display_data"
    },
    {
     "name": "stdout",
     "output_type": "stream",
     "text": [
      "-------------------------------------------------- \n",
      " --------------------------------------------------\n"
     ]
    }
   ],
   "source": [
    "data_check(all_cols[1])"
   ]
  },
  {
   "cell_type": "markdown",
   "metadata": {
    "colab_type": "text",
    "id": "x4YdsMjCEdrP"
   },
   "source": [
    "* we can drop the 3 records that have unknown or invalid gender"
   ]
  },
  {
   "cell_type": "code",
   "execution_count": 27,
   "metadata": {
    "colab": {},
    "colab_type": "code",
    "id": "ziI0GU1RhbAa"
   },
   "outputs": [],
   "source": [
    "data['gender'] = data['gender'].replace({'Female':1,'Male':0}).astype('object')"
   ]
  },
  {
   "cell_type": "code",
   "execution_count": 28,
   "metadata": {
    "colab": {},
    "colab_type": "code",
    "id": "9ulz37d0VOSS"
   },
   "outputs": [],
   "source": [
    "data.drop(data[data['gender']=='Unknown/Invalid'].index,axis=0,inplace=True)"
   ]
  },
  {
   "cell_type": "code",
   "execution_count": 29,
   "metadata": {
    "colab": {
     "base_uri": "https://localhost:8080/",
     "height": 34
    },
    "colab_type": "code",
    "id": "3i0TEDQxE7sJ",
    "outputId": "64409e1c-986d-4990-f999-064eff1d993d"
   },
   "outputs": [
    {
     "name": "stdout",
     "output_type": "stream",
     "text": [
      "1    38025\n",
      "0    33490\n",
      "Name: gender, dtype: int64\n",
      "data_type =object\n"
     ]
    },
    {
     "data": {
      "image/png": "[encoded data removed]",
      "text/plain": [
       "<Figure size 432x288 with 1 Axes>"
      ]
     },
     "metadata": {
      "needs_background": "light"
     },
     "output_type": "display_data"
    }
   ],
   "source": [
    "print(data['gender'].value_counts())\n",
    "print('data_type ={}'.format(data['gender'].dtype))\n",
    "sns.countplot(data['gender'],hue=data['readmitted'])\n",
    "plt.show()"
   ]
  },
  {
   "cell_type": "code",
   "execution_count": null,
   "metadata": {
    "colab": {},
    "colab_type": "code",
    "id": "ILeFwe9BVNlK"
   },
   "outputs": [],
   "source": []
  },
  {
   "cell_type": "code",
   "execution_count": 30,
   "metadata": {
    "colab": {
     "base_uri": "https://localhost:8080/",
     "height": 589
    },
    "colab_type": "code",
    "id": "b7f-4kd-FhNe",
    "outputId": "ea86b535-3a55-4fc5-9550-e6fb44527f2c"
   },
   "outputs": [
    {
     "name": "stdout",
     "output_type": "stream",
     "text": [
      "feature : age\n",
      "nunique = 10\n",
      "unique values = ['[0-10)' '[10-20)' '[20-30)' '[30-40)' '[40-50)' '[50-60)' '[60-70)'\n",
      " '[70-80)' '[80-90)' '[90-100)']\n",
      "[0-10)            :154    :   0.22%\n",
      "[10-20)           :535    :   0.75%\n",
      "[20-30)           :1127    :   1.58%\n",
      "[30-40)           :2699    :   3.77%\n",
      "[40-50)           :6878    :   9.62%\n",
      "[50-60)           :12466    :  17.43%\n",
      "[60-70)           :15959    :  22.32%\n",
      "[70-80)           :18208    :  25.46%\n",
      "[80-90)           :11589    :   16.2%\n",
      "[90-100)          :1900    :   2.66%\n"
     ]
    },
    {
     "data": {
      "image/png": "[encoded data removed]",
      "text/plain": [
       "<Figure size 432x288 with 1 Axes>"
      ]
     },
     "metadata": {
      "needs_background": "light"
     },
     "output_type": "display_data"
    },
    {
     "name": "stdout",
     "output_type": "stream",
     "text": [
      "-------------------------------------------------- \n",
      " --------------------------------------------------\n"
     ]
    }
   ],
   "source": [
    "data_check(all_cols[2])"
   ]
  },
  {
   "cell_type": "markdown",
   "metadata": {
    "colab_type": "text",
    "id": "tXhIpGskFn5f"
   },
   "source": [
    "* bins are good, we can just repplace the names of bins"
   ]
  },
  {
   "cell_type": "code",
   "execution_count": 31,
   "metadata": {
    "colab": {},
    "colab_type": "code",
    "id": "TZ05nSI3Fkep"
   },
   "outputs": [],
   "source": [
    "data['age'] = data['age'].replace({'[0-10)':0, '[10-20)':0, '[20-30)':0, '[30-40)':1, '[40-50)':1, '[50-60)':1, '[60-70)':2, '[70-80)':2, '[80-90)':3, '[90-100)':3}).astype('object')"
   ]
  },
  {
   "cell_type": "code",
   "execution_count": 32,
   "metadata": {
    "colab": {
     "base_uri": "https://localhost:8080/",
     "height": 69
    },
    "colab_type": "code",
    "id": "KBRjWP85F_EH",
    "outputId": "6afdc4f2-da2b-449b-f7ea-31688dc419a4"
   },
   "outputs": [
    {
     "data": {
      "text/plain": [
       "2    34167\n",
       "1    22043\n",
       "3    13489\n",
       "0     1816\n",
       "Name: age, dtype: int64"
      ]
     },
     "execution_count": 32,
     "metadata": {},
     "output_type": "execute_result"
    }
   ],
   "source": [
    "data['age'].value_counts()"
   ]
  },
  {
   "cell_type": "code",
   "execution_count": 33,
   "metadata": {},
   "outputs": [
    {
     "name": "stdout",
     "output_type": "stream",
     "text": [
      "2    34167\n",
      "1    22043\n",
      "3    13489\n",
      "0     1816\n",
      "Name: age, dtype: int64\n",
      "data_type =object\n"
     ]
    },
    {
     "data": {
      "image/png": "[encoded data removed]",
      "text/plain": [
       "<Figure size 432x288 with 1 Axes>"
      ]
     },
     "metadata": {
      "needs_background": "light"
     },
     "output_type": "display_data"
    }
   ],
   "source": [
    "print(data['age'].value_counts())\n",
    "print('data_type ={}'.format(data['age'].dtype))\n",
    "sns.countplot(data['age'],hue=data['readmitted'])\n",
    "plt.show()"
   ]
  },
  {
   "cell_type": "code",
   "execution_count": null,
   "metadata": {
    "colab": {},
    "colab_type": "code",
    "id": "GIDRQVRUGGIM"
   },
   "outputs": [],
   "source": []
  },
  {
   "cell_type": "code",
   "execution_count": 34,
   "metadata": {
    "colab": {
     "base_uri": "https://localhost:8080/",
     "height": 612
    },
    "colab_type": "code",
    "id": "sKi1QigOGLAj",
    "outputId": "990230fa-f1c7-45c1-8b3e-fa5d0552787c"
   },
   "outputs": [
    {
     "name": "stdout",
     "output_type": "stream",
     "text": [
      "feature : weight\n",
      "nunique = 10\n",
      "unique values = ['?' '[75-100)' '[50-75)' '[0-25)' '[100-125)' '[25-50)' '[125-150)'\n",
      " '[175-200)' '[150-175)' '>200']\n",
      "?                 :68662    :  96.01%\n",
      "[75-100)          :1195    :   1.67%\n",
      "[50-75)           :781    :   1.09%\n",
      "[0-25)            : 46    :   0.06%\n",
      "[100-125)         :566    :   0.79%\n",
      "[25-50)           : 89    :   0.12%\n",
      "[125-150)         :131    :   0.18%\n",
      "[175-200)         :  9    :   0.01%\n",
      "[150-175)         : 33    :   0.05%\n",
      ">200              :  3    :    0.0%\n"
     ]
    },
    {
     "data": {
      "image/png": "[encoded data removed]",
      "text/plain": [
       "<Figure size 432x288 with 1 Axes>"
      ]
     },
     "metadata": {
      "needs_background": "light"
     },
     "output_type": "display_data"
    },
    {
     "name": "stdout",
     "output_type": "stream",
     "text": [
      "****Null values present**** 96.01 %\n",
      "-------------------------------------------------- \n",
      " --------------------------------------------------\n"
     ]
    }
   ],
   "source": [
    "data_check(all_cols[3])"
   ]
  },
  {
   "cell_type": "markdown",
   "metadata": {
    "colab_type": "text",
    "id": "REuSBSRPJulL"
   },
   "source": [
    "* This feature has 96% null values.. it is recommended to drop the feature instead of imputing missing values."
   ]
  },
  {
   "cell_type": "code",
   "execution_count": 35,
   "metadata": {
    "colab": {},
    "colab_type": "code",
    "id": "ye6uSx4dGQkv"
   },
   "outputs": [],
   "source": [
    "to_drop.add('weight')"
   ]
  },
  {
   "cell_type": "code",
   "execution_count": null,
   "metadata": {
    "colab": {},
    "colab_type": "code",
    "id": "GPjcqQM3J-ZI"
   },
   "outputs": [],
   "source": []
  },
  {
   "cell_type": "code",
   "execution_count": 36,
   "metadata": {
    "colab": {
     "base_uri": "https://localhost:8080/",
     "height": 502
    },
    "colab_type": "code",
    "id": "QoSkRIm2J_wf",
    "outputId": "1db7de27-27cd-439c-d52b-13911d2fce0c"
   },
   "outputs": [
    {
     "name": "stdout",
     "output_type": "stream",
     "text": [
      "feature : admission_type_id\n",
      "nunique = 8\n",
      "unique values = [6 1 2 3 4 5 8 7]\n",
      "                 6:4588    :   6.42%\n",
      "                 1:36488    :  51.02%\n",
      "                 2:13028    :  18.22%\n",
      "                 3:13916    :  19.46%\n",
      "                 4:  9    :   0.01%\n",
      "                 5:3174    :   4.44%\n",
      "                 8:291    :   0.41%\n",
      "                 7: 21    :   0.03%\n"
     ]
    },
    {
     "data": {
      "image/png": "[encoded data removed]",
      "text/plain": [
       "<Figure size 432x288 with 1 Axes>"
      ]
     },
     "metadata": {
      "needs_background": "light"
     },
     "output_type": "display_data"
    },
    {
     "name": "stdout",
     "output_type": "stream",
     "text": [
      "-------------------------------------------------- \n",
      " --------------------------------------------------\n"
     ]
    }
   ],
   "source": [
    "data_check(all_cols[4])"
   ]
  },
  {
   "cell_type": "markdown",
   "metadata": {
    "colab_type": "text",
    "id": "6EUBsTCFLho8"
   },
   "source": [
    "* the indipendent unique values can be grouped together\n",
    "* ![image.png](data:image/png;base64,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)\n",
    "* Emergency, Urgent and Trauma can be grouped together\n",
    "* NULL, not mapped and not available can be grouped together"
   ]
  },
  {
   "cell_type": "code",
   "execution_count": 37,
   "metadata": {
    "colab": {},
    "colab_type": "code",
    "id": "35GoPQmxJ_2L"
   },
   "outputs": [],
   "source": [
    "data['admission_type_id'] = data['admission_type_id'].replace({2:1,7:1,6:5,8:5,4:3})"
   ]
  },
  {
   "cell_type": "code",
   "execution_count": 38,
   "metadata": {
    "colab": {},
    "colab_type": "code",
    "id": "jgtPU06HMpzJ"
   },
   "outputs": [],
   "source": [
    "dummy_encode.add('admission_type_id')"
   ]
  },
  {
   "cell_type": "code",
   "execution_count": 39,
   "metadata": {
    "colab": {
     "base_uri": "https://localhost:8080/",
     "height": 105
    },
    "colab_type": "code",
    "id": "3K3yjFwJJ__T",
    "outputId": "60043a07-b7c5-483f-e006-5ef2b509bf26"
   },
   "outputs": [
    {
     "data": {
      "text/plain": [
       "1    49537\n",
       "3    13925\n",
       "5     8053\n",
       "Name: admission_type_id, dtype: int64"
      ]
     },
     "execution_count": 39,
     "metadata": {},
     "output_type": "execute_result"
    }
   ],
   "source": [
    "data['admission_type_id'].value_counts()"
   ]
  },
  {
   "cell_type": "code",
   "execution_count": null,
   "metadata": {
    "colab": {},
    "colab_type": "code",
    "id": "UPIsYE97KAFX"
   },
   "outputs": [],
   "source": []
  },
  {
   "cell_type": "code",
   "execution_count": 40,
   "metadata": {
    "colab": {
     "base_uri": "https://localhost:8080/",
     "height": 846
    },
    "colab_type": "code",
    "id": "lFyUTdFrMztr",
    "outputId": "914c5bf5-7da2-47df-d42d-56c972a8d37f"
   },
   "outputs": [
    {
     "name": "stdout",
     "output_type": "stream",
     "text": [
      "feature : discharge_disposition_id\n",
      "nunique = 26\n",
      "unique values = [25  1  3  6  2  5 11  7 10 14  4 18  8 12 13 17 16 22 23  9 15 20 28 24\n",
      " 19 27]\n",
      "                25:778    :   1.09%\n",
      "                 1:44315    :  61.97%\n",
      "                 3:8784    :  12.28%\n",
      "                 6:8289    :  11.59%\n",
      "                 2:1539    :   2.15%\n",
      "                 5:913    :   1.28%\n",
      "                11:1077    :   1.51%\n",
      "                 7:409    :   0.57%\n",
      "                10:  6    :   0.01%\n",
      "                14:218    :    0.3%\n",
      "                 4:541    :   0.76%\n",
      "                18:2474    :   3.46%\n",
      "                 8: 73    :    0.1%\n",
      "                12:  2    :    0.0%\n",
      "                13:243    :   0.34%\n",
      "                17:  8    :   0.01%\n",
      "                16:  3    :    0.0%\n",
      "                22:1409    :   1.97%\n",
      "                23:260    :   0.36%\n",
      "                 9:  9    :   0.01%\n",
      "                15: 40    :   0.06%\n",
      "                20:  1    :    0.0%\n",
      "                28: 90    :   0.13%\n",
      "                24: 25    :   0.03%\n",
      "                19:  6    :   0.01%\n",
      "                27:  3    :    0.0%\n"
     ]
    },
    {
     "data": {
      "image/png": "[encoded data removed]",
      "text/plain": [
       "<Figure size 432x288 with 1 Axes>"
      ]
     },
     "metadata": {
      "needs_background": "light"
     },
     "output_type": "display_data"
    },
    {
     "name": "stdout",
     "output_type": "stream",
     "text": [
      "-------------------------------------------------- \n",
      " --------------------------------------------------\n"
     ]
    }
   ],
   "source": [
    "data_check(all_cols[5])"
   ]
  },
  {
   "cell_type": "markdown",
   "metadata": {
    "colab_type": "text",
    "id": "SXZT8uKIdfNc"
   },
   "source": [
    "* 1,6,8 are taken as '1' since all represents or relates to discharge/transferred to home in some sort of way.\n",
    "* 28,29 is taken as '28' since they both relates to hosp with different abilities.\n",
    "* 2,3,4,5,22,23,24,30 are take as '2' since SNF IS skilled nursing facilities, ICF is Intermediate Care Facility where others are referring to care units.\n",
    "* 10,12,15,16,17 are taken as 10 where outpatients means\"a patient who attends a hospital for treatment without staying there overnight.\" and many are referring to outpatients. Neonate means \"a newborn child \" where as per condition it is dischared to another hospital later so it is also considered here.\n",
    "* 18,25,26 deals with null or unknows data entries.\n",
    "* 7 isLeft AMA.\n",
    "* 9 is\tAdmitted as an inpatient to this hospital.\n",
    "* 27 is\tDischarged/transferred to a federal health care facility."
   ]
  },
  {
   "cell_type": "code",
   "execution_count": 41,
   "metadata": {
    "colab": {},
    "colab_type": "code",
    "id": "-6olXf9pdSpo"
   },
   "outputs": [],
   "source": [
    "data['discharge_disposition_id'] = data['discharge_disposition_id'].replace({6:1,8:1})\n",
    "data['discharge_disposition_id'] = data['discharge_disposition_id'].replace({29:28})\n",
    "data['discharge_disposition_id'] = data['discharge_disposition_id'].replace({3:2,4:2,5:2,22:2,23:2,24:2,27:2,30:2})\n",
    "data['discharge_disposition_id'] = data['discharge_disposition_id'].replace({12:10,15:10,16:10,17:10})\n",
    "data['discharge_disposition_id'] = data['discharge_disposition_id'].replace({25:18,26:18})\n",
    "data['discharge_disposition_id'] = data['discharge_disposition_id'].replace({11:13,14:13,19:13,20:13})\n"
   ]
  },
  {
   "cell_type": "code",
   "execution_count": 42,
   "metadata": {
    "colab": {
     "base_uri": "https://localhost:8080/",
     "height": 526
    },
    "colab_type": "code",
    "id": "2BatVA2bfD3F",
    "outputId": "795d3798-2390-45cc-bcad-31595ef27284"
   },
   "outputs": [
    {
     "name": "stdout",
     "output_type": "stream",
     "text": [
      "1     52677\n",
      "2     13474\n",
      "18     3252\n",
      "13     1545\n",
      "7       409\n",
      "28       90\n",
      "10       59\n",
      "9         9\n",
      "Name: discharge_disposition_id, dtype: int64\n"
     ]
    },
    {
     "data": {
      "image/png": "[encoded data removed]",
      "text/plain": [
       "<Figure size 432x288 with 1 Axes>"
      ]
     },
     "metadata": {
      "needs_background": "light"
     },
     "output_type": "display_data"
    }
   ],
   "source": [
    "print(data['discharge_disposition_id'].value_counts())\n",
    "sns.countplot(data['discharge_disposition_id'])\n",
    "plt.show()"
   ]
  },
  {
   "cell_type": "code",
   "execution_count": 43,
   "metadata": {
    "colab": {},
    "colab_type": "code",
    "id": "uvZ7YdNifD0B"
   },
   "outputs": [],
   "source": [
    "dummy_encode.add('discharge_disposition_id')"
   ]
  },
  {
   "cell_type": "code",
   "execution_count": null,
   "metadata": {},
   "outputs": [],
   "source": []
  },
  {
   "cell_type": "code",
   "execution_count": null,
   "metadata": {},
   "outputs": [],
   "source": []
  },
  {
   "cell_type": "code",
   "execution_count": 44,
   "metadata": {
    "colab": {
     "base_uri": "https://localhost:8080/",
     "height": 674
    },
    "colab_type": "code",
    "id": "kpdLyK2jM0bE",
    "outputId": "e7f4b692-570a-4975-bc32-c1cefad5cf60"
   },
   "outputs": [
    {
     "name": "stdout",
     "output_type": "stream",
     "text": [
      "feature : admission_source_id\n",
      "nunique = 17\n",
      "unique values = [ 1  7  2  4  5  6 20  3 17  8  9 14 10 22 11 25 13]\n",
      "                 1:22006    :  30.77%\n",
      "                 7:38288    :  53.54%\n",
      "                 2:926    :   1.29%\n",
      "                 4:2583    :   3.61%\n",
      "                 5:545    :   0.76%\n",
      "                 6:1801    :   2.52%\n",
      "                20:155    :   0.22%\n",
      "                 3:138    :   0.19%\n",
      "                17:4949    :   6.92%\n",
      "                 8: 12    :   0.02%\n",
      "                 9: 95    :   0.13%\n",
      "                14:  2    :    0.0%\n",
      "                10:  7    :   0.01%\n",
      "                22:  4    :   0.01%\n",
      "                11:  1    :    0.0%\n",
      "                25:  2    :    0.0%\n",
      "                13:  1    :    0.0%\n"
     ]
    },
    {
     "data": {
      "image/png": "[encoded data removed]",
      "text/plain": [
       "<Figure size 432x288 with 1 Axes>"
      ]
     },
     "metadata": {
      "needs_background": "light"
     },
     "output_type": "display_data"
    },
    {
     "name": "stdout",
     "output_type": "stream",
     "text": [
      "-------------------------------------------------- \n",
      " --------------------------------------------------\n"
     ]
    }
   ],
   "source": [
    "data_check(all_cols[6])"
   ]
  },
  {
   "cell_type": "markdown",
   "metadata": {
    "colab_type": "text",
    "id": "qgkXQxEYfmU6"
   },
   "source": [
    "* 1,2,3 are referals, grouped as '1'.\n",
    "* 9,15,17,20,21 are unknown data, grouped as '9'.\n",
    "* 12,13,14 are sick baby, grouped as '12'.\n",
    "* 4,5,6,10,22,25 are related to facility or care units, grouped as '4'."
   ]
  },
  {
   "cell_type": "code",
   "execution_count": 45,
   "metadata": {
    "colab": {},
    "colab_type": "code",
    "id": "p9h0UbszfTbi"
   },
   "outputs": [],
   "source": [
    "data['admission_source_id'] = data['admission_source_id'].replace({11:1,2:1,3:1})\n",
    "data['admission_source_id'] = data['admission_source_id'].replace({15:9,17:9,20:9,21:9,8:9})\n",
    "data['admission_source_id'] = data['admission_source_id'].replace({13:12,14:12})\n",
    "data['admission_source_id'] = data['admission_source_id'].replace({5:4,6:4,10:4,22:4,25:4})"
   ]
  },
  {
   "cell_type": "code",
   "execution_count": 46,
   "metadata": {
    "colab": {
     "base_uri": "https://localhost:8080/",
     "height": 424
    },
    "colab_type": "code",
    "id": "NT8rN-91fTrJ",
    "outputId": "354009d4-18f9-4b46-a298-6589e0fa8b38"
   },
   "outputs": [
    {
     "name": "stdout",
     "output_type": "stream",
     "text": [
      "7     38288\n",
      "1     23071\n",
      "9      5211\n",
      "4      4942\n",
      "12        3\n",
      "Name: admission_source_id, dtype: int64\n"
     ]
    },
    {
     "data": {
      "image/png": "[encoded data removed]",
      "text/plain": [
       "<Figure size 432x288 with 1 Axes>"
      ]
     },
     "metadata": {
      "needs_background": "light"
     },
     "output_type": "display_data"
    }
   ],
   "source": [
    "print(data['admission_source_id'].value_counts())\n",
    "sns.countplot(data['admission_source_id'],hue=data['readmitted'])\n",
    "plt.show()"
   ]
  },
  {
   "cell_type": "code",
   "execution_count": 47,
   "metadata": {
    "colab": {},
    "colab_type": "code",
    "id": "n5vkEovyfTh8"
   },
   "outputs": [],
   "source": [
    "dummy_encode.add('admission_source_id')"
   ]
  },
  {
   "cell_type": "code",
   "execution_count": 48,
   "metadata": {
    "colab": {
     "base_uri": "https://localhost:8080/",
     "height": 618
    },
    "colab_type": "code",
    "id": "5XOKpg0kM0sS",
    "outputId": "7c77aa52-b332-4db1-b872-d622c445b890"
   },
   "outputs": [
    {
     "name": "stdout",
     "output_type": "stream",
     "text": [
      "feature : time_in_hospital\n",
      "nunique = 14\n",
      "unique values = [ 1  3  2  4  5 13 12  9  7 10  6 11  8 14]\n",
      "                 1:10715    :  14.98%\n",
      "                 3:12701    :  17.76%\n",
      "                 2:12397    :  17.33%\n",
      "                 4:9567    :  13.38%\n",
      "                 5:6839    :   9.56%\n",
      "                13:795    :   1.11%\n",
      "                12:955    :   1.34%\n",
      "                 9:1990    :   2.78%\n",
      "                 7:3999    :   5.59%\n",
      "                10:1558    :   2.18%\n",
      "                 6:5171    :   7.23%\n",
      "                11:1241    :   1.74%\n",
      "                 8:2918    :   4.08%\n",
      "                14:669    :   0.94%\n"
     ]
    },
    {
     "data": {
      "image/png": "[encoded data removed]",
      "text/plain": [
       "<Figure size 432x288 with 1 Axes>"
      ]
     },
     "metadata": {
      "needs_background": "light"
     },
     "output_type": "display_data"
    },
    {
     "name": "stdout",
     "output_type": "stream",
     "text": [
      "-------------------------------------------------- \n",
      " --------------------------------------------------\n"
     ]
    }
   ],
   "source": [
    "data_check(all_cols[7])"
   ]
  },
  {
   "cell_type": "code",
   "execution_count": 49,
   "metadata": {},
   "outputs": [],
   "source": [
    "data['time_in_hospital'] = data['time_in_hospital'].replace({1:0,2:0,3:0,4:1,5:1,6:1,7:2,8:2,9:2,10:3,11:3,12:3,13:3,14:3}).astype('object')"
   ]
  },
  {
   "cell_type": "code",
   "execution_count": 50,
   "metadata": {},
   "outputs": [
    {
     "name": "stdout",
     "output_type": "stream",
     "text": [
      "0    35813\n",
      "1    21577\n",
      "2     8907\n",
      "3     5218\n",
      "Name: time_in_hospital, dtype: int64\n",
      "data_type =object\n"
     ]
    },
    {
     "data": {
      "image/png": "[encoded data removed]",
      "text/plain": [
       "<Figure size 432x288 with 1 Axes>"
      ]
     },
     "metadata": {
      "needs_background": "light"
     },
     "output_type": "display_data"
    }
   ],
   "source": [
    "print(data['time_in_hospital'].value_counts())\n",
    "print('data_type ={}'.format(data['time_in_hospital'].dtype))\n",
    "sns.countplot(data['time_in_hospital'],hue=data['readmitted'])\n",
    "plt.show()"
   ]
  },
  {
   "cell_type": "markdown",
   "metadata": {
    "colab_type": "text",
    "id": "Xr78DA89NKxa"
   },
   "source": [
    "* no changes required"
   ]
  },
  {
   "cell_type": "code",
   "execution_count": 51,
   "metadata": {
    "colab": {
     "base_uri": "https://localhost:8080/",
     "height": 727
    },
    "colab_type": "code",
    "id": "UIrb_CfPM0wd",
    "outputId": "1c1081d8-34a2-4e74-9a16-dd4d0e8937dc"
   },
   "outputs": [
    {
     "name": "stdout",
     "output_type": "stream",
     "text": [
      "feature : payer_code\n",
      "nunique = 18\n",
      "unique values = ['?' 'MC' 'MD' 'HM' 'UN' 'BC' 'SP' 'CP' 'SI' 'DM' 'CM' 'CH' 'PO' 'WC' 'OT'\n",
      " 'OG' 'MP' 'FR']\n",
      "?                 :31042    :  43.41%\n",
      "MC                :20414    :  28.55%\n",
      "MD                :2197    :   3.07%\n",
      "HM                :4022    :   5.62%\n",
      "UN                :1879    :   2.63%\n",
      "BC                :3432    :    4.8%\n",
      "SP                :3347    :   4.68%\n",
      "CP                :1984    :   2.77%\n",
      "SI                : 37    :   0.05%\n",
      "DM                :374    :   0.52%\n",
      "CM                :1334    :   1.87%\n",
      "CH                :117    :   0.16%\n",
      "PO                :463    :   0.65%\n",
      "WC                :117    :   0.16%\n",
      "OT                : 65    :   0.09%\n",
      "OG                :658    :   0.92%\n",
      "MP                : 32    :   0.04%\n",
      "FR                :  1    :    0.0%\n"
     ]
    },
    {
     "data": {
      "image/png": "[encoded data removed]",
      "text/plain": [
       "<Figure size 432x288 with 1 Axes>"
      ]
     },
     "metadata": {
      "needs_background": "light"
     },
     "output_type": "display_data"
    },
    {
     "name": "stdout",
     "output_type": "stream",
     "text": [
      "****Null values present**** 43.41 %\n",
      "-------------------------------------------------- \n",
      " --------------------------------------------------\n"
     ]
    }
   ],
   "source": [
    "data_check(all_cols[8])"
   ]
  },
  {
   "cell_type": "markdown",
   "metadata": {
    "colab_type": "text",
    "id": "ccQYe5GKPbC6"
   },
   "source": [
    "* payer_code has high number of null values(43.4%) hence we will remove the feature rather than imputing it."
   ]
  },
  {
   "cell_type": "code",
   "execution_count": 52,
   "metadata": {
    "colab": {},
    "colab_type": "code",
    "id": "oYo7P3UVM08N"
   },
   "outputs": [],
   "source": [
    "to_drop.add('payer_code')"
   ]
  },
  {
   "cell_type": "code",
   "execution_count": null,
   "metadata": {
    "colab": {},
    "colab_type": "code",
    "id": "_ThF7lSnM0gg"
   },
   "outputs": [],
   "source": []
  },
  {
   "cell_type": "code",
   "execution_count": 53,
   "metadata": {
    "colab": {
     "base_uri": "https://localhost:8080/",
     "height": 510
    },
    "colab_type": "code",
    "id": "UrFSgMYvM0M4",
    "outputId": "15e790c5-d072-4d4e-cdf4-e610ca054ef7"
   },
   "outputs": [
    {
     "name": "stdout",
     "output_type": "stream",
     "text": [
      "feature : medical_specialty\n",
      "nunique = 71\n",
      "unique values = ['Pediatrics-Endocrinology' '?' 'InternalMedicine'\n",
      " 'Family/GeneralPractice' 'Cardiology' 'Surgery-General' 'Orthopedics'\n",
      " 'Gastroenterology' 'Surgery-Cardiovascular/Thoracic' 'Nephrology'\n",
      " 'Orthopedics-Reconstructive' 'Psychiatry' 'Emergency/Trauma'\n",
      " 'Pulmonology' 'Surgery-Neuro' 'Obsterics&Gynecology-GynecologicOnco'\n",
      " 'ObstetricsandGynecology' 'Pediatrics' 'Hematology/Oncology'\n",
      " 'Otolaryngology' 'Surgery-Colon&Rectal' 'Pediatrics-CriticalCare'\n",
      " 'Endocrinology' 'Urology' 'Psychiatry-Child/Adolescent'\n",
      " 'Pediatrics-Pulmonology' 'Anesthesiology-Pediatric' 'Radiology'\n",
      " 'Pediatrics-Hematology-Oncology' 'Psychology' 'Neurology' 'Podiatry'\n",
      " 'Gynecology' 'Oncology' 'Pediatrics-Neurology' 'Surgery-Thoracic'\n",
      " 'Surgery-PlasticwithinHeadandNeck' 'Surgery-Plastic' 'Ophthalmology'\n",
      " 'Surgery-Pediatric' 'Pediatrics-EmergencyMedicine'\n",
      " 'PhysicalMedicineandRehabilitation' 'InfectiousDiseases'\n",
      " 'AllergyandImmunology' 'Surgery-Maxillofacial' 'Dentistry' 'Surgeon'\n",
      " 'Surgery-Vascular' 'Osteopath' 'Psychiatry-Addictive'\n",
      " 'Surgery-Cardiovascular' 'Anesthesiology' 'PhysicianNotFound'\n",
      " 'Hematology' 'Proctology' 'Rheumatology' 'Obstetrics' 'SurgicalSpecialty'\n",
      " 'Radiologist' 'Dermatology' 'Pathology' 'SportsMedicine' 'Speech'\n",
      " 'Hospitalist' 'OutreachServices' 'Cardiology-Pediatric' 'Perinatology'\n",
      " 'Neurophysiology' 'Endocrinology-Metabolism' 'DCPTEAM' 'Resident']\n",
      "****unique values greater than 50****\n",
      "****Null values present**** 48.21 %\n",
      "-------------------------------------------------- \n",
      " --------------------------------------------------\n"
     ]
    }
   ],
   "source": [
    "data_check(all_cols[9])"
   ]
  },
  {
   "cell_type": "markdown",
   "metadata": {
    "colab_type": "text",
    "id": "iXEx_1P9Y4dX"
   },
   "source": [
    "* Medical_speciality has high number of null values(48.07%) hence we will remove the feature rather than imputing it."
   ]
  },
  {
   "cell_type": "code",
   "execution_count": 54,
   "metadata": {
    "colab": {},
    "colab_type": "code",
    "id": "pElUlVJpM0Ge"
   },
   "outputs": [],
   "source": [
    "to_drop.add('medical_specialty')"
   ]
  },
  {
   "cell_type": "code",
   "execution_count": null,
   "metadata": {
    "colab": {},
    "colab_type": "code",
    "id": "CUwSW7zKSCcZ"
   },
   "outputs": [],
   "source": []
  },
  {
   "cell_type": "code",
   "execution_count": 55,
   "metadata": {
    "colab": {
     "base_uri": "https://localhost:8080/",
     "height": 228
    },
    "colab_type": "code",
    "id": "jSQAcmpJSCmu",
    "outputId": "c8082193-8eb9-4ae3-ffb9-03c258f2c7eb"
   },
   "outputs": [
    {
     "name": "stdout",
     "output_type": "stream",
     "text": [
      "feature : num_lab_procedures\n",
      "nunique = 116\n",
      "unique values = [ 41  59  11  44  51  31  70  73  68  33  47  62  60  55  49  75  45  29\n",
      "  35  42  66  36  19  64  25  53  52  87  27  37  46  28  48  72  10   2\n",
      "  65  67  40  54  58  57  43  32  83  34  39  69  38  56  22  96  78  61\n",
      "  88  50   1  18  82   9  63  24  71  77  81  76  90  93   3 103  13  80\n",
      "  85  16  15  12  30  23  17  21  79  26  95  97  84  14  74 105  86  98\n",
      "  20   5   6   8 100   7  89  91  94  92   4 101 102  99 114 111 107 108\n",
      " 106 104 109 120 113 132 121 118]\n",
      "****unique values greater than 50****\n",
      "-------------------------------------------------- \n",
      " --------------------------------------------------\n"
     ]
    }
   ],
   "source": [
    "data_check(all_cols[10])"
   ]
  },
  {
   "cell_type": "code",
   "execution_count": 56,
   "metadata": {
    "colab": {
     "base_uri": "https://localhost:8080/",
     "height": 280
    },
    "colab_type": "code",
    "id": "Jl4Y3CLySC6o",
    "outputId": "0318ce7b-ebf7-4ff3-ef71-9d838d84ca64"
   },
   "outputs": [
    {
     "data": {
      "image/png": "[encoded data removed]",
      "text/plain": [
       "<Figure size 432x288 with 1 Axes>"
      ]
     },
     "metadata": {
      "needs_background": "light"
     },
     "output_type": "display_data"
    }
   ],
   "source": [
    "sns.distplot(data.loc[(data['readmitted'] == 0),'num_lab_procedures'] , color='b',label='Not Readmitted')\n",
    "sns.distplot(data.loc[(data['readmitted'] == 1),'num_lab_procedures'] , color='r',label='Readmitted')\n",
    "plt.xlabel('num_lab_procedures')\n",
    "plt.ylabel('frequency')\n",
    "plt.show()"
   ]
  },
  {
   "cell_type": "markdown",
   "metadata": {
    "colab_type": "text",
    "id": "TgxdzCFbbpb3"
   },
   "source": [
    "* no changes required"
   ]
  },
  {
   "cell_type": "code",
   "execution_count": null,
   "metadata": {
    "colab": {},
    "colab_type": "code",
    "id": "cMMhUFusSDDl"
   },
   "outputs": [],
   "source": []
  },
  {
   "cell_type": "code",
   "execution_count": 57,
   "metadata": {
    "colab": {
     "base_uri": "https://localhost:8080/",
     "height": 488
    },
    "colab_type": "code",
    "id": "Dpc8wTGgSDNT",
    "outputId": "f9e057fc-43c4-4b6c-c1a9-765348ff94cf"
   },
   "outputs": [
    {
     "name": "stdout",
     "output_type": "stream",
     "text": [
      "feature : num_procedures\n",
      "nunique = 7\n",
      "unique values = [0 5 1 6 2 3 4]\n",
      "                 0:31430    :  43.95%\n",
      "                 5:2439    :   3.41%\n",
      "                 1:14302    :   20.0%\n",
      "                 6:3956    :   5.53%\n",
      "                 2:9149    :  12.79%\n",
      "                 3:7183    :  10.04%\n",
      "                 4:3056    :   4.27%\n"
     ]
    },
    {
     "data": {
      "image/png": "[encoded data removed]",
      "text/plain": [
       "<Figure size 432x288 with 1 Axes>"
      ]
     },
     "metadata": {
      "needs_background": "light"
     },
     "output_type": "display_data"
    },
    {
     "name": "stdout",
     "output_type": "stream",
     "text": [
      "-------------------------------------------------- \n",
      " --------------------------------------------------\n"
     ]
    }
   ],
   "source": [
    "data_check(all_cols[11])"
   ]
  },
  {
   "cell_type": "markdown",
   "metadata": {
    "colab_type": "text",
    "id": "CcWkevRNb02d"
   },
   "source": [
    "* no changes required"
   ]
  },
  {
   "cell_type": "code",
   "execution_count": null,
   "metadata": {},
   "outputs": [],
   "source": []
  },
  {
   "cell_type": "code",
   "execution_count": null,
   "metadata": {},
   "outputs": [],
   "source": []
  },
  {
   "cell_type": "code",
   "execution_count": 58,
   "metadata": {
    "colab": {
     "base_uri": "https://localhost:8080/",
     "height": 175
    },
    "colab_type": "code",
    "id": "6sZ0ydzVSDkf",
    "outputId": "1cb9ec20-8df1-41e0-c33c-c7d68ee7a89d"
   },
   "outputs": [
    {
     "name": "stdout",
     "output_type": "stream",
     "text": [
      "feature : num_medications\n",
      "nunique = 75\n",
      "unique values = [ 1 18 13 16  8 21 12 28 17 11 15 31  2 23 19  7 20 14 10 22  9 27 25  4\n",
      " 32  6 30 26 24 33  5 39  3 29 61 40 46 41 36 34 35 50 43 42 37 51 38 45\n",
      " 54 52 49 47 44 53 57 48 62 56 59 60 63 55 58 70 67 64 69 65 66 68 81 79\n",
      " 75 72 74]\n",
      "****unique values greater than 50****\n",
      "-------------------------------------------------- \n",
      " --------------------------------------------------\n"
     ]
    }
   ],
   "source": [
    "data_check(all_cols[12])"
   ]
  },
  {
   "cell_type": "code",
   "execution_count": 59,
   "metadata": {
    "colab": {
     "base_uri": "https://localhost:8080/",
     "height": 280
    },
    "colab_type": "code",
    "id": "xuIZFYK3w_sZ",
    "outputId": "ac62b001-11f6-465e-8128-402787ddb979"
   },
   "outputs": [
    {
     "data": {
      "image/png": "[encoded data removed]",
      "text/plain": [
       "<Figure size 432x288 with 1 Axes>"
      ]
     },
     "metadata": {
      "needs_background": "light"
     },
     "output_type": "display_data"
    }
   ],
   "source": [
    "sns.kdeplot(data.loc[(data['readmitted'] == 0),'num_medications'] , color='b',shade=True,label='Not Readmitted')\n",
    "sns.kdeplot(data.loc[(data['readmitted'] == 1),'num_medications'] , color='r',shade=True,label='Readmitted')\n",
    "plt.xlabel('num_medications')\n",
    "plt.ylabel('frequency')\n",
    "plt.show()"
   ]
  },
  {
   "cell_type": "code",
   "execution_count": null,
   "metadata": {
    "colab": {},
    "colab_type": "code",
    "id": "1xWLPfaPSDzx"
   },
   "outputs": [],
   "source": []
  },
  {
   "cell_type": "code",
   "execution_count": 60,
   "metadata": {
    "colab": {
     "base_uri": "https://localhost:8080/",
     "height": 1000
    },
    "colab_type": "code",
    "id": "rlTzeBFFSEFj",
    "outputId": "7832990d-81a0-4713-a32e-13d2c8213393"
   },
   "outputs": [
    {
     "name": "stdout",
     "output_type": "stream",
     "text": [
      "feature : number_outpatient\n",
      "nunique = 33\n",
      "unique values = [ 0  2  1  5  7  3  8  4 12  9 11  6 20 15 10 13 14 16 21 35 29 18 19 27\n",
      " 22 24 42 36 26 33 17 25 23]\n",
      "                 0:62209    :  86.99%\n",
      "                 2:2025    :   2.83%\n",
      "                 1:4867    :   6.81%\n",
      "                 5:288    :    0.4%\n",
      "                 7: 73    :    0.1%\n",
      "                 3:1116    :   1.56%\n",
      "                 8: 57    :   0.08%\n",
      "                 4:585    :   0.82%\n",
      "                12: 14    :   0.02%\n",
      "                 9: 37    :   0.05%\n",
      "                11: 19    :   0.03%\n",
      "                 6:128    :   0.18%\n",
      "                20:  4    :   0.01%\n",
      "                15: 10    :   0.01%\n",
      "                10: 28    :   0.04%\n",
      "                13: 13    :   0.02%\n",
      "                14: 10    :   0.01%\n",
      "                16:  8    :   0.01%\n",
      "                21:  2    :    0.0%\n",
      "                35:  1    :    0.0%\n",
      "                29:  1    :    0.0%\n",
      "                18:  2    :    0.0%\n",
      "                19:  1    :    0.0%\n",
      "                27:  2    :    0.0%\n",
      "                22:  2    :    0.0%\n",
      "                24:  2    :    0.0%\n",
      "                42:  1    :    0.0%\n",
      "                36:  1    :    0.0%\n",
      "                26:  1    :    0.0%\n",
      "                33:  2    :    0.0%\n",
      "                17:  4    :   0.01%\n",
      "                25:  1    :    0.0%\n",
      "                23:  1    :    0.0%\n"
     ]
    },
    {
     "data": {
      "image/png": "[encoded data removed]",
      "text/plain": [
       "<Figure size 432x288 with 1 Axes>"
      ]
     },
     "metadata": {
      "needs_background": "light"
     },
     "output_type": "display_data"
    },
    {
     "name": "stdout",
     "output_type": "stream",
     "text": [
      "-------------------------------------------------- \n",
      " --------------------------------------------------\n"
     ]
    }
   ],
   "source": [
    "data_check(all_cols[13])"
   ]
  },
  {
   "cell_type": "markdown",
   "metadata": {
    "colab_type": "text",
    "id": "OaMb6B0MckmQ"
   },
   "source": [
    "* no changes required"
   ]
  },
  {
   "cell_type": "code",
   "execution_count": null,
   "metadata": {
    "colab": {},
    "colab_type": "code",
    "id": "P-HCvRkocZ4l"
   },
   "outputs": [],
   "source": []
  },
  {
   "cell_type": "code",
   "execution_count": 61,
   "metadata": {
    "colab": {
     "base_uri": "https://localhost:8080/",
     "height": 970
    },
    "colab_type": "code",
    "id": "NHTNR4NjcaAq",
    "outputId": "e6f61a31-36bc-4101-a23e-978a21d01403"
   },
   "outputs": [
    {
     "name": "stdout",
     "output_type": "stream",
     "text": [
      "feature : number_emergency\n",
      "nunique = 18\n",
      "unique values = [ 0  1  2  4  9  5  3  6  8  7 13 42 10 25 11 37 20 16]\n",
      "                 0:66311    :  92.72%\n",
      "                 1:3965    :   5.54%\n",
      "                 2:804    :   1.12%\n",
      "                 4: 96    :   0.13%\n",
      "                 9:  4    :   0.01%\n",
      "                 5: 33    :   0.05%\n",
      "                 3:246    :   0.34%\n",
      "                 6: 26    :   0.04%\n",
      "                 8:  9    :   0.01%\n",
      "                 7:  8    :   0.01%\n",
      "                13:  1    :    0.0%\n",
      "                42:  1    :    0.0%\n",
      "                10:  5    :   0.01%\n",
      "                25:  1    :    0.0%\n",
      "                11:  2    :    0.0%\n",
      "                37:  1    :    0.0%\n",
      "                20:  1    :    0.0%\n",
      "                16:  1    :    0.0%\n"
     ]
    },
    {
     "data": {
      "image/png": "[encoded data removed]",
      "text/plain": [
       "<Figure size 432x288 with 1 Axes>"
      ]
     },
     "metadata": {
      "needs_background": "light"
     },
     "output_type": "display_data"
    },
    {
     "name": "stdout",
     "output_type": "stream",
     "text": [
      "-------------------------------------------------- \n",
      " --------------------------------------------------\n"
     ]
    }
   ],
   "source": [
    "data_check(all_cols[14])"
   ]
  },
  {
   "cell_type": "markdown",
   "metadata": {
    "colab_type": "text",
    "id": "6IrkBa6ccr2w"
   },
   "source": [
    "* no changes required"
   ]
  },
  {
   "cell_type": "code",
   "execution_count": null,
   "metadata": {
    "colab": {},
    "colab_type": "code",
    "id": "k75SmYZScaTl"
   },
   "outputs": [],
   "source": []
  },
  {
   "cell_type": "code",
   "execution_count": 62,
   "metadata": {
    "colab": {
     "base_uri": "https://localhost:8080/",
     "height": 742
    },
    "colab_type": "code",
    "id": "93DMU_XRcaPj",
    "outputId": "0708b47b-b910-4df6-ebb5-844c87be8124"
   },
   "outputs": [
    {
     "name": "stdout",
     "output_type": "stream",
     "text": [
      "feature : number_inpatient\n",
      "nunique = 13\n",
      "unique values = [ 0  1  2  3  5  4  6  9  8  7 11 10 12]\n",
      "                 0:63074    :   88.2%\n",
      "                 1:5962    :   8.34%\n",
      "                 2:1547    :   2.16%\n",
      "                 3:489    :   0.68%\n",
      "                 5:102    :   0.14%\n",
      "                 4:236    :   0.33%\n",
      "                 6: 56    :   0.08%\n",
      "                 9:  8    :   0.01%\n",
      "                 8: 13    :   0.02%\n",
      "                 7: 19    :   0.03%\n",
      "                11:  2    :    0.0%\n",
      "                10:  5    :   0.01%\n",
      "                12:  2    :    0.0%\n"
     ]
    },
    {
     "data": {
      "image/png": "[encoded data removed]",
      "text/plain": [
       "<Figure size 432x288 with 1 Axes>"
      ]
     },
     "metadata": {
      "needs_background": "light"
     },
     "output_type": "display_data"
    },
    {
     "name": "stdout",
     "output_type": "stream",
     "text": [
      "-------------------------------------------------- \n",
      " --------------------------------------------------\n"
     ]
    }
   ],
   "source": [
    "data_check(all_cols[15])"
   ]
  },
  {
   "cell_type": "markdown",
   "metadata": {
    "colab_type": "text",
    "id": "ahM4DoeccvnX"
   },
   "source": [
    "* no changes required"
   ]
  },
  {
   "cell_type": "markdown",
   "metadata": {},
   "source": [
    "* num_outpatient, num_emergency, num_inpatient can be added togeather as single feature called crital count"
   ]
  },
  {
   "cell_type": "code",
   "execution_count": null,
   "metadata": {
    "colab": {},
    "colab_type": "code",
    "id": "nwt4IqAtcaND"
   },
   "outputs": [],
   "source": []
  },
  {
   "cell_type": "code",
   "execution_count": 63,
   "metadata": {
    "colab": {
     "base_uri": "https://localhost:8080/",
     "height": 1000
    },
    "colab_type": "code",
    "id": "VkczAFNvcaKq",
    "outputId": "055d0299-1911-417c-c135-1751e5f413be",
    "scrolled": true
   },
   "outputs": [
    {
     "name": "stdout",
     "output_type": "stream",
     "text": [
      "feature : diag_1\n",
      "nunique = 697\n",
      "unique values = ['250.83' '276' '648' '8' '197' '414' '428' '398' '434' '250.7' '157'\n",
      " '518' '999' '410' '682' '402' '737' '572' 'V57' '189' '786' '427' '996'\n",
      " '277' '584' '462' '473' '411' '174' '486' '998' '511' '432' '626' '295'\n",
      " '196' '250.6' '618' '182' '845' '423' '808' '250.4' '722' '403' '250.11'\n",
      " '784' '707' '440' '151' '715' '997' '564' '812' '38' '590' '556' '578'\n",
      " '250.32' '433' 'V58' '569' '185' '536' '255' '250.13' '599' '558' '574'\n",
      " '491' '560' '244' '250.03' '577' '730' '188' '824' '250.8' '332' '562'\n",
      " '291' '296' '510' '401' '263' '438' '70' '250.02' '493' '642' '625' '571'\n",
      " '738' '593' '250.42' '807' '456' '446' '575' '250.41' '820' '515' '780'\n",
      " '250.22' '995' '235' '250.82' '721' '787' '162' '724' '282' '514' 'V55'\n",
      " '281' '250.33' '466' '435' '250.12' 'V53' '789' '566' '822' '191' '557'\n",
      " '733' '198' '455' '711' '482' '202' '280' '553' '225' '154' '441'\n",
      " '250.81' '349' '?' '962' '592' '507' '386' '156' '200' '728' '348' '459'\n",
      " '426' '607' '337' '82' '530' '596' '288' '656' '531' '573' '492' '220'\n",
      " '516' '210' '922' '286' '885' '958' '661' '969' '250.93' '227' '404'\n",
      " '823' '532' '416' '346' '535' '453' '250' '595' '211' '303' '250.01'\n",
      " '852' '218' '782' '540' '457' '285' '431' '550' '54' '351' '601' '723'\n",
      " '555' '153' '443' '380' '204' '424' '241' '358' '694' '331' '345' '681'\n",
      " '447' '290' '158' '579' '436' '335' '309' '654' '805' '799' '292' '183'\n",
      " '78' '851' '458' '586' '311' '892' '293' '415' '591' '794' '803' '79'\n",
      " '655' '429' '658' '598' '729' '585' '604' '727' '214' '444' '552' '284'\n",
      " '680' '708' '41' '644' '481' '821' '413' '437' '968' '756' '359' '275'\n",
      " '512' '781' '278' '420' '368' '522' '294' '825' '135' '304' '320'\n",
      " '250.31' '669' '868' '250.43' '826' '567' '203' '53' '251' '565' '161'\n",
      " '495' '49' '250.1' '297' '576' '850' '250.2' '611' '840' '350' '726'\n",
      " '620' '180' '366' '783' '11' '751' '716' '250.3' '199' '580' '664' '283'\n",
      " '287' '813' '496' '966' '289' '184' '480' '608' '972' '212' '117' '924'\n",
      " '537' '621' '785' '714' '942' '250.23' '710' '47' '933' '508' '478' '333'\n",
      " '7' '736' '233' '42' '250.5' '397' '395' '201' '421' '253' '250.92' '494'\n",
      " '39' '659' '312' '614' '647' '652' '646' '861' '425' '527' '600' '451'\n",
      " '485' '217' '442' '970' '959' '193' '160' '322' '581' '475' '788' '374'\n",
      " '582' '568' '465' '238' '801' '237' '376' '150' '461' '913' '226' '987'\n",
      " '641' '790' '336' '362' '228' '513' '355' '383' '746' '353' '911' '298'\n",
      " '155' '860' '534' '802' '141' 'V45' '396' '310' '341' '242' '305' '719'\n",
      " '239' '616' '301' '5' '965' '989' '230' '385' '300' '853' '871' '570'\n",
      " '463' '340' '9' '112' '250.21' '236' '361' '594' '501' '810' '643' '274'\n",
      " '430' '528' '205' '791' '983' '992' '519' '490' '172' '171' '622' '863'\n",
      " '864' '474' '660' '759' '3' '356' '634' '967' '695' '187' '732' '323'\n",
      " '308' '370' '252' '152' '846' '164' '365' '718' '48' '266' '344' '797'\n",
      " '170' '878' '977' '904' '882' '843' '709' '454' '686' '939' '487' '617'\n",
      " '483' '357' '692' '796' '533' '693' '935' '844' '800' '873' '920' 'V26'\n",
      " '261' '307' '262' '250.9' '145' '388' '223' 'V71' '839' '685' '663' '464'\n",
      " '179' '964' '136' 'V56' '334' '143' '526' '588' 'V67' '917' '88' '219'\n",
      " '325' '792' '747' '717' '994' '990' '793' '207' '637' '847' '31' '306'\n",
      " '891' '814' 'V60' '703' '865' '352' '378' '342' '886' '369' '745' '705'\n",
      " '934' 'V54' '541' '986' '610' '633' '640' '753' '835' '551' '379' '445'\n",
      " '272' '382' '945' '619' '881' '394' '250.52' '866' '831' '405' '916'\n",
      " '215' '893' '75' '671' '816' '928' '906' '897' '725' '867' '115' '890'\n",
      " '734' '521' '623' '470' '834' '146' '524' '991' '691' '384' '142' '879'\n",
      " '250.51' '246' '848' '208' '34' '448' '955' '149' '245' '735' '883' '854'\n",
      " '952' '192' '838' '35' '194' 'V43' '163' '216' '147' '354' '94' '27'\n",
      " '477' '318' '880' '921' '377' '471' '683' '175' '602' '250.91' '982'\n",
      " '195' '706' '324' '375' '417' '131' '250.53' '347' '627' '720' '870'\n",
      " '936' '148' '862' '61' '653' '817' '674' '914' '360' '684' '314' 'V63'\n",
      " '36' '173' '57' '240' '915' '980' '815' '971' '795' '452' '963' '327'\n",
      " '842' 'V25' '645' '665' '110' '944' '603' '412' '363' '957' '976' '299'\n",
      " '700' '923' '529' '836' '66' '98' '605' '941' '52' '806' '84' '837' '657'\n",
      " '338' '542' '114' '696' 'V70' 'E909' '273' 'V66' '583' '422' '615' '500'\n",
      " '903' '875' '229' '381' '632' '804' '704' '649' '832' '133' '975' '833'\n",
      " '391' '690' '10' 'V51']\n",
      "****unique values greater than 50****\n",
      "****Null values present**** 0.02 %\n",
      "-------------------------------------------------- \n",
      " --------------------------------------------------\n"
     ]
    }
   ],
   "source": [
    "data_check(all_cols[16])"
   ]
  },
  {
   "cell_type": "code",
   "execution_count": 64,
   "metadata": {
    "colab": {
     "base_uri": "https://localhost:8080/",
     "height": 1000
    },
    "colab_type": "code",
    "id": "uIZgjsj8caFv",
    "outputId": "f10585fa-4f50-4108-da0f-3c4004a1bac6",
    "scrolled": true
   },
   "outputs": [
    {
     "name": "stdout",
     "output_type": "stream",
     "text": [
      "feature : diag_2\n",
      "nunique = 726\n",
      "unique values = ['?' '250.01' '250' '250.43' '157' '411' '492' '427' '198' '403' '288'\n",
      " '998' '507' '174' '425' '456' '401' '715' '496' '428' '585' '250.02'\n",
      " '410' '999' '996' '135' '244' '41' '571' '276' '997' '599' '424' '491'\n",
      " '553' '707' '286' '440' '493' '242' '70' 'V45' '250.03' '357' '511' '196'\n",
      " '396' '414' '250.52' '577' '535' '413' '285' '53' '780' '518' '150' '566'\n",
      " '250.6' '867' '486' 'V15' '8' '788' '340' '574' '581' '228' '530'\n",
      " '250.82' '786' '294' '567' '785' '512' '305' '729' '250.51' '280' '648'\n",
      " '560' '618' '444' '38' 'V10' '578' '277' '781' '250.42' '278' '426' '584'\n",
      " '462' '402' '153' '272' '733' '34' '881' '203' '250.41' '293' '245'\n",
      " '250.12' '558' '787' '342' '573' '626' '303' '250.53' '458' '710' '415'\n",
      " 'V42' '284' '569' '759' '112' '292' '435' '682' '290' '250.13' '250.93'\n",
      " '642' '536' '398' '319' '711' 'E878' '446' '255' 'V44' '250.7' '300'\n",
      " '562' '162' '287' '789' '790' '591' '200' '154' '117' '847' '852'\n",
      " '250.83' '250.11' '816' '575' '416' '412' '441' '515' '372' '482' '382'\n",
      " 'V65' '572' '283' '78' '432' '595' '295' 'V12' '204' '466' '721' '434'\n",
      " '590' '271' '813' '368' '227' '783' '250.5' '304' '576' '258' '253' '309'\n",
      " '250.91' '197' '519' '333' '459' '250.92' '250.4' '179' '420' '345' '433'\n",
      " '661' '537' '205' '722' '437' '784' '714' '211' 'E812' '263' '250.23'\n",
      " 'E932' '250.81' '201' '301' '723' '568' '861' 'V57' '724' '189' 'E888'\n",
      " '730' '397' '202' '354' '451' '738' 'E939' '805' 'V43' '155' '910' '218'\n",
      " '220' 'E937' '583' '958' '358' '794' '564' '436' '250.22' '620' '621'\n",
      " '331' '453' '617' '596' '314' '378' '625' '478' '172' '404' '681' '470'\n",
      " '279' '281' '531' '443' '799' '337' '311' '719' 'E944' '423' 'E870' '465'\n",
      " 'E849' '782' '481' '480' 'V23' '199' '79' '438' '348' '42' 'E950' '627'\n",
      " '726' '54' '490' '731' '508' '369' '600' '349' '485' '922' '431' '296'\n",
      " 'E934' '753' '473' '386' '728' '250.8' '607' 'E915' '344' '716' '289'\n",
      " '873' '850' '611' '377' '352' '616' 'V17' '136' '455' '332' '933' '860'\n",
      " '603' '484' '223' 'V72' 'E885' '291' '151' 'V58' '550' '510' '891' '185'\n",
      " '592' '791' '138' '598' '336' '362' '217' '825' '298' '821' 'E880' '343'\n",
      " '429' 'E879' '579' '250.9' 'V49' '696' '233' '658' '969' '275' '250.1'\n",
      " '601' '447' '704' '808' 'E890' 'V18' '920' '380' 'E817' '359' '812' '274'\n",
      " 'V14' '324' '758' 'V66' 'E931' '593' '792' '727' 'V46' '394' '532' '557'\n",
      " '864' '718' 'E942' '807' '604' '924' '820' '580' '273' '241' '824' '282'\n",
      " '646' '701' '736' '383' 'E947' '452' '872' '905' '614' '921' '131' '448'\n",
      " '389' '214' '705' '421' '494' '752' '623' '9' '570' '299' '959' '365'\n",
      " '967' '40' '691' '909' '5' '814' '746' '556' '680' '745' '351' '306'\n",
      " '110' '346' '918' '882' '947' '520' '188' '356' 'V64' '737' 'V08' '322'\n",
      " '182' '974' 'E929' 'V53' '252' '608' 'E933' '94' '702' '923' '594' '647'\n",
      " '565' '516' '517' '111' '934' '430' '31' '487' '709' '796' '977' '915'\n",
      " '756' '840' '259' '693' '725' 'V62' '528' '683' '953' '552' '457' '501'\n",
      " 'E900' '522' '919' '461' '506' '193' 'E936' '717' 'V54' '320' '906' '239'\n",
      " '454' '826' 'V09' '823' '226' '795' '844' 'E935' '250.33' '308' '297'\n",
      " '615' '712' '663' '706' '833' '533' 'E884' '586' 'E930' '755' 'E928'\n",
      " '191' '742' '869' '962' '543' '208' '373' '870' '913' '152' '810' '965'\n",
      " '908' '995' '845' '474' '684' '751' '472' '464' '686' '250.32' '251'\n",
      " '811' '317' '652' '659' '802' '555' '851' '422' '815' '307' '463' '992'\n",
      " '692' '907' '513' '521' '917' 'E965' '524' '916' '540' '173' '238' '335'\n",
      " '137' '405' '514' '225' '312' '837' '355' '980' '622' '475' '500' '261'\n",
      " '741' '868' '968' '381' '11' '694' '610' '734' 'E814' '310' '130' '246'\n",
      " '634' '75' 'E927' 'E905' '183' '379' '442' 'E917' '163' 'E868' '495'\n",
      " '323' '747' '989' 'E854' '240' '832' '605' '644' 'V16' '801' '35' 'V70'\n",
      " '156' '376' '266' 'E918' '477' '656' '46' '883' '171' 'V13' '698' '842'\n",
      " 'E850' '800' '269' '952' '164' 'E881' '713' '527' '366' '836' '250.2'\n",
      " '27' 'V63' '865' '911' '793' '232' 'V61' '831' '327' '542' '806' '972'\n",
      " '862' 'E829' 'E919' '944' 'E916' '963' '316' 'E858' '664' '645' '347'\n",
      " 'V85' '374' 'V02' '748' '256' '186' '866' '395' '262' 'E819' '654' '994'\n",
      " '318' 'E826' '879' '674' '641' '822' '145' '797' '353' 'E938' 'E816'\n",
      " '948' '987' '892' '99' '192' 'E906' '534' 'E818' '945' 'E980' '529' '871'\n",
      " '212' '302' '955' '141' 'E924' '750' '338' '88' 'V25' '215' '685' '483'\n",
      " 'V11' 'V50' 'V03' 'E853' 'E968' 'E882' '140' '703' '991' '893' 'E821'\n",
      " '360' '235' '670' 'V55' '388' '268' '114' '260' '853' '7' '880' 'V86'\n",
      " '619' '180' 'E887' '588' '523' '863' '649' '270' '602' '665' '460' '942'\n",
      " '66' 'E883' '123' 'V60' '843' '927']\n",
      "****unique values greater than 50****\n",
      "****Null values present**** 0.41 %\n",
      "-------------------------------------------------- \n",
      " --------------------------------------------------\n"
     ]
    }
   ],
   "source": [
    "data_check(all_cols[17])"
   ]
  },
  {
   "cell_type": "code",
   "execution_count": 65,
   "metadata": {
    "colab": {
     "base_uri": "https://localhost:8080/",
     "height": 1000
    },
    "colab_type": "code",
    "id": "-AXv-rgyPpNq",
    "outputId": "0d162deb-5086-45f7-8242-51884043eb65",
    "scrolled": true
   },
   "outputs": [
    {
     "name": "stdout",
     "output_type": "stream",
     "text": [
      "feature : diag_3\n",
      "nunique = 759\n",
      "unique values = ['?' '255' 'V27' '403' '250' 'V45' '38' '486' '996' '197' '250.6' '427'\n",
      " '627' '414' '416' '714' '428' '582' 'V43' '250.01' '263' '250.42' '276'\n",
      " '482' '401' '250.41' '585' '781' '278' '998' '568' '682' '618' '250.02'\n",
      " '305' '707' '496' '599' '715' '424' '518' '553' '794' '411' 'V42' '531'\n",
      " '511' '490' '562' '250.8' '250.7' '250.52' '784' '491' '581' '420' '8'\n",
      " '724' '730' '789' '131' '250.82' '999' '41' '493' '250.03' '786' '529'\n",
      " 'E888' '425' '595' '303' '560' '711' '492' '332' '296' '438' '362'\n",
      " '250.4' '654' '244' 'V70' '737' '625' '681' '250.51' '404' 'V10' '810'\n",
      " '280' '440' '785' '588' '569' '272' '997' '250.43' '918' '584' '54' '788'\n",
      " '426' '722' '250.92' '196' '461' '535' '787' '891' '284' '458' '648'\n",
      " '780' '285' '593' '413' '664' '564' '201' '356' 'V15' '292' '782' '473'\n",
      " '455' 'E932' '357' '348' '294' '250.23' '459' 'E878' '437' '733' '507'\n",
      " '525' '250.53' '397' '572' '805' '453' '331' '736' '402' '591' '576'\n",
      " '465' '533' '703' '349' '315' '658' '608' '578' '716' '382' '300' '282'\n",
      " '571' '536' '287' '644' 'V11' '558' 'E885' '162' '198' '218' '412' '396'\n",
      " 'V14' '570' '433' 'E934' '882' '288' '577' '443' '729' '836' '295' '799'\n",
      " '281' '304' '153' '410' '616' '250.83' '601' '291' '75' '512' '660'\n",
      " '250.5' '598' '337' '574' '653' 'V58' '415' '386' '602' '790' '112' '873'\n",
      " '620' '70' '663' '530' '710' '42' '342' '250.91' 'E884' '307' '704' '596'\n",
      " '728' '731' '583' '238' '441' '293' '573' '290' '594' '319' '250.12'\n",
      " '519' '346' '380' '135' '642' '698' '924' '905' 'E933' '309' 'E879' '286'\n",
      " '565' '752' '580' '446' '444' '311' '344' '35' '813' '394' '301' '575'\n",
      " 'V17' '802' '435' '746' 'V12' '709' '881' 'E935' '250.81' '718' '365'\n",
      " '202' '334' '398' 'V44' '517' 'E849' '614' '466' '626' '250.9' '368'\n",
      " '605' '883' '478' '617' '429' '442' 'V25' '866' '610' '557' '959' '94'\n",
      " '920' '345' '79' '586' '821' '600' '242' '373' '592' '487' '253' '706'\n",
      " 'E947' '117' '340' 'E950' '656' 'E949' '590' 'V09' '250.22' '934' '995'\n",
      " '726' '923' '958' 'E929' '211' 'V18' 'E942' '199' '665' '275' '203' '53'\n",
      " '279' '522' '791' '890' 'E938' 'E816' '122' '436' '721' 'V65' '515' '185'\n",
      " '136' '480' '423' 'E920' '793' '647' '537' '250.93' '516' '351' '845'\n",
      " '336' '274' '719' '945' '434' '227' '157' '208' 'V57' '734' '150' 'V23'\n",
      " '447' '692' 'V64' '228' 'V16' '756' '405' 'E928' '823' '552' '138' '528'\n",
      " '389' '240' '454' '792' '366' 'E939' '907' '387' 'E931' '783' '245' '607'\n",
      " '355' 'E930' '705' '372' '369' '611' 'V46' '867' 'E956' '310' '251'\n",
      " '250.2' '820' '712' '695' '567' '343' '723' 'V08' '623' '807' '451' '495'\n",
      " '701' '34' '472' 'E945' '283' '456' '534' '354' '333' '277' '659' '174'\n",
      " '708' '452' '655' '816' '555' '670' '621' '246' '865' 'E817' '646' '151'\n",
      " '378' '78' '298' '641' '521' '745' '619' '506' 'E904' '259' 'E870' 'E980'\n",
      " '532' '204' '696' '566' '727' '47' '358' '191' '965' '812' '921' '27'\n",
      " 'E861' '477' '524' '751' 'V66' '652' '432' '556' '188' '825' '919' '908'\n",
      " '951' '685' 'E850' '527' '341' '840' '693' '494' '250.1' 'V49' '155'\n",
      " 'V55' '110' '969' '205' '462' 'E880' '697' '826' '457' '717' '738' '742'\n",
      " '680' '735' '200' '235' '308' '241' '273' '824' '464' '260' '917' '661'\n",
      " '892' '261' '725' 'E883' '744' '318' 'V54' 'E944' '694' '350' '854'\n",
      " 'E905' '9' 'E941' '170' '317' '759' '252' '831' '713' '180' '360' '289'\n",
      " '250.11' '306' '811' 'V02' '271' '214' '543' 'V63' '906' '842' '445'\n",
      " '501' '808' '861' '239' 'E852' '220' '359' 'E887' '915' '970' '256' '747'\n",
      " '395' '243' '815' 'E936' '250.13' '481' '5' '796' 'E858' '335' 'E927'\n",
      " '297' '299' '851' '864' '182' '922' '384' '189' '225' '158' 'E937' '871'\n",
      " '966' 'E812' 'V62' 'E924' '604' 'E916' '377' '797' 'V72' '172' '7' '852'\n",
      " 'E819' '972' '579' '916' '956' '753' 'E965' '686' '173' '193' '154' '347'\n",
      " '862' '847' '323' '250.3' '987' '470' '379' 'E855' '161' '115' '179'\n",
      " '383' '910' '312' '421' '17' '265' '66' '163' 'V60' '967' 'E906' '266'\n",
      " '417' '152' '183' 'V53' '991' '216' '741' '514' '385' '164' '844' '962'\n",
      " '510' '814' '485' '912' '850' '250.21' 'E919' '872' '860' '195' '233'\n",
      " '270' '431' '597' '933' '156' '868' 'E815' '542' 'V61' '853' '374' 'E881'\n",
      " 'E882' 'E917' 'E822' '192' '171' '754' '327' '523' '758' 'V85' '657'\n",
      " '684' '603' '953' 'E826' '550' '913' '314' 'E943' '460' '376' '313' '755'\n",
      " '361' '720' '250.31' '674' '911' 'E813' '226' '365.44' 'E818' '262' '801'\n",
      " '955' 'E894' 'V13' '880' '930' '381' '795' '893' 'V01' 'E853' '540'\n",
      " 'E828' '430' '800' 'E865' '148' 'E946' '879' 'V86' 'V03' '338' '989'\n",
      " '388' '690' '139' 'E966' 'E922' '123' '757' 'E901' '909' '508' 'E892'\n",
      " '649' '702' '948' '484' 'E886' '838' '624' '837' 'V07' '841' '622' 'E912'\n",
      " 'E955' '463' '217' '500' '353' '877' '391' 'E825' '643' '952' '669' '223'\n",
      " '875' '822' '928' 'E900' 'V06' '268' '834' '49' '876' '57' '258' '943'\n",
      " '141' 'E854' '14' '750' '370' '971']\n",
      "****unique values greater than 50****\n",
      "****Null values present**** 1.71 %\n",
      "-------------------------------------------------- \n",
      " --------------------------------------------------\n"
     ]
    }
   ],
   "source": [
    "data_check(all_cols[18])"
   ]
  },
  {
   "cell_type": "markdown",
   "metadata": {
    "colab_type": "text",
    "id": "WeZWIRQ7bKmM"
   },
   "source": [
    "***ICD-9 codes***\n",
    "* The following is a list of codes for International Statistical Classification of Diseases and Related Health Problems.\n",
    "\n",
    "![image.png](data:image/png;base64,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)\n",
    "\n",
    "* we are grouping the codes based on this range as per ICD-9 code.\n",
    "* source : https://en.wikipedia.org/wiki/List_of_ICD-9_codes"
   ]
  },
  {
   "cell_type": "code",
   "execution_count": 66,
   "metadata": {
    "colab": {},
    "colab_type": "code",
    "id": "JwfhEsjgcZ87"
   },
   "outputs": [],
   "source": [
    "check_df = data[['diag_1','diag_2','diag_3']]\n",
    "\n",
    "check_df['diag1'] = check_df['diag_1']\n",
    "check_df['diag2'] = check_df['diag_2']\n",
    "check_df['diag3'] = check_df['diag_3']\n",
    "\n",
    "check_df.loc[check_df['diag_1'].str.contains('V'), ['diag1']] = 0\n",
    "check_df.loc[check_df['diag_1'].str.contains('E'), ['diag1']] = 0\n",
    "check_df.loc[check_df['diag_2'].str.contains('V'), ['diag2']] = 0\n",
    "check_df.loc[check_df['diag_2'].str.contains('E'), ['diag2']] = 0\n",
    "check_df.loc[check_df['diag_3'].str.contains('V'), ['diag3']] = 0\n",
    "check_df.loc[check_df['diag_3'].str.contains('E'), ['diag3']] = 0\n",
    "\n",
    "check_df['diag1'] = check_df['diag1'].replace('?', -1)\n",
    "check_df['diag2'] = check_df['diag2'].replace('?', -1)\n",
    "check_df['diag3'] = check_df['diag3'].replace('?', -1)\n",
    "\n",
    "check_df['diag1'] = check_df['diag1'].astype(float)\n",
    "check_df['diag2'] = check_df['diag2'].astype(float)\n",
    "check_df['diag3'] = check_df['diag3'].astype(float)\n",
    "\n",
    "check_df.drop(['diag_1','diag_2','diag_3'],axis=1,inplace=True)\n"
   ]
  },
  {
   "cell_type": "markdown",
   "metadata": {
    "colab_type": "text",
    "id": "NgVS--v2Qg4e"
   },
   "source": [
    "* we create a new dataframe with diagnosis features, we convert the codes with E and V into '0' and replace '?' with '-1'.\n",
    "\n",
    "* also we change the data type to float."
   ]
  },
  {
   "cell_type": "code",
   "execution_count": 67,
   "metadata": {
    "colab": {
     "base_uri": "https://localhost:8080/",
     "height": 379
    },
    "colab_type": "code",
    "id": "lyglCTGTSDtZ",
    "outputId": "6b84d96b-56b4-4eb1-d1c1-b05b6cd50828"
   },
   "outputs": [],
   "source": [
    "for i in ['diag1','diag2','diag3']:\n",
    "  for index, row in check_df.iterrows():\n",
    "      if (row[i] >= 1 and row[i] < 140):\n",
    "          check_df.loc[index, i] = 1\n",
    "      elif (row[i] >= 140 and row[i] < 240):\n",
    "          check_df.loc[index, i] = 2\n",
    "      elif (row[i] >= 240 and row[i] < 280):\n",
    "          check_df.loc[index, i] = 3\n",
    "      elif (row[i] >= 280 and row[i] < 290):\n",
    "          check_df.loc[index, i] = 4\n",
    "      elif (row[i] >= 290 and row[i] < 320):\n",
    "          check_df.loc[index, i] = 5\n",
    "      elif (row[i] >= 320 and row[i] < 390):\n",
    "          check_df.loc[index, i] = 6\n",
    "      elif (row[i] >= 390 and row[i] < 460):\n",
    "          check_df.loc[index, i] = 7\n",
    "      elif (row[i] >= 460 and row[i] < 520):\n",
    "          check_df.loc[index, i] = 8\n",
    "      elif (row[i] >= 520 and row[i] < 580):\n",
    "          check_df.loc[index, i] = 9\n",
    "      elif (row[i] >= 580 and row[i] < 630):\n",
    "          check_df.loc[index, i] = 10\n",
    "      elif (row[i] >= 630 and row[i] < 680):\n",
    "          check_df.loc[index, i] = 11\n",
    "      elif (row[i] >= 680 and row[i] < 710):\n",
    "          check_df.loc[index, i] = 12\n",
    "      elif (row[i] >= 710 and row[i] < 740):\n",
    "          check_df.loc[index, i] = 13\n",
    "      elif (row[i] >= 740 and row[i] < 760):\n",
    "          check_df.loc[index, i] = 14\n",
    "      elif (row[i] >= 760 and row[i] < 780):\n",
    "          check_df.loc[index, i] = 15\n",
    "      elif (row[i] >= 780 and row[i] < 800):\n",
    "          check_df.loc[index, i] = 16\n",
    "      elif (row[i] >= 800 and row[i] < 1000):\n",
    "          check_df.loc[index, i] = 17\n",
    "      else:\n",
    "          check_df.loc[index, i] = 0"
   ]
  },
  {
   "cell_type": "markdown",
   "metadata": {
    "colab_type": "text",
    "id": "HRkACJLQQ6XT"
   },
   "source": [
    "* here we group the values based on the code range as per ICD-9 codes."
   ]
  },
  {
   "cell_type": "code",
   "execution_count": 68,
   "metadata": {
    "colab": {},
    "colab_type": "code",
    "id": "BB3W31sASDTn"
   },
   "outputs": [
    {
     "data": {
      "text/html": [
       "<div>\n",
       "<style scoped>\n",
       "    .dataframe tbody tr th:only-of-type {\n",
       "        vertical-align: middle;\n",
       "    }\n",
       "\n",
       "    .dataframe tbody tr th {\n",
       "        vertical-align: top;\n",
       "    }\n",
       "\n",
       "    .dataframe thead th {\n",
       "        text-align: right;\n",
       "    }\n",
       "</style>\n",
       "<table border=\"1\" class=\"dataframe\">\n",
       "  <thead>\n",
       "    <tr style=\"text-align: right;\">\n",
       "      <th></th>\n",
       "      <th>diag1</th>\n",
       "      <th>diag2</th>\n",
       "      <th>diag3</th>\n",
       "    </tr>\n",
       "  </thead>\n",
       "  <tbody>\n",
       "    <tr>\n",
       "      <th>0</th>\n",
       "      <td>3.0</td>\n",
       "      <td>0.0</td>\n",
       "      <td>0.0</td>\n",
       "    </tr>\n",
       "    <tr>\n",
       "      <th>1</th>\n",
       "      <td>3.0</td>\n",
       "      <td>3.0</td>\n",
       "      <td>3.0</td>\n",
       "    </tr>\n",
       "    <tr>\n",
       "      <th>2</th>\n",
       "      <td>11.0</td>\n",
       "      <td>3.0</td>\n",
       "      <td>0.0</td>\n",
       "    </tr>\n",
       "    <tr>\n",
       "      <th>3</th>\n",
       "      <td>1.0</td>\n",
       "      <td>3.0</td>\n",
       "      <td>7.0</td>\n",
       "    </tr>\n",
       "    <tr>\n",
       "      <th>4</th>\n",
       "      <td>2.0</td>\n",
       "      <td>2.0</td>\n",
       "      <td>3.0</td>\n",
       "    </tr>\n",
       "    <tr>\n",
       "      <th>...</th>\n",
       "      <td>...</td>\n",
       "      <td>...</td>\n",
       "      <td>...</td>\n",
       "    </tr>\n",
       "    <tr>\n",
       "      <th>71513</th>\n",
       "      <td>9.0</td>\n",
       "      <td>9.0</td>\n",
       "      <td>3.0</td>\n",
       "    </tr>\n",
       "    <tr>\n",
       "      <th>71514</th>\n",
       "      <td>10.0</td>\n",
       "      <td>10.0</td>\n",
       "      <td>8.0</td>\n",
       "    </tr>\n",
       "    <tr>\n",
       "      <th>71515</th>\n",
       "      <td>17.0</td>\n",
       "      <td>10.0</td>\n",
       "      <td>7.0</td>\n",
       "    </tr>\n",
       "    <tr>\n",
       "      <th>71516</th>\n",
       "      <td>5.0</td>\n",
       "      <td>1.0</td>\n",
       "      <td>5.0</td>\n",
       "    </tr>\n",
       "    <tr>\n",
       "      <th>71517</th>\n",
       "      <td>9.0</td>\n",
       "      <td>9.0</td>\n",
       "      <td>16.0</td>\n",
       "    </tr>\n",
       "  </tbody>\n",
       "</table>\n",
       "<p>71515 rows × 3 columns</p>\n",
       "</div>"
      ],
      "text/plain": [
       "       diag1  diag2  diag3\n",
       "0        3.0    0.0    0.0\n",
       "1        3.0    3.0    3.0\n",
       "2       11.0    3.0    0.0\n",
       "3        1.0    3.0    7.0\n",
       "4        2.0    2.0    3.0\n",
       "...      ...    ...    ...\n",
       "71513    9.0    9.0    3.0\n",
       "71514   10.0   10.0    8.0\n",
       "71515   17.0   10.0    7.0\n",
       "71516    5.0    1.0    5.0\n",
       "71517    9.0    9.0   16.0\n",
       "\n",
       "[71515 rows x 3 columns]"
      ]
     },
     "execution_count": 68,
     "metadata": {},
     "output_type": "execute_result"
    }
   ],
   "source": [
    "check_df"
   ]
  },
  {
   "cell_type": "code",
   "execution_count": 69,
   "metadata": {
    "colab": {},
    "colab_type": "code",
    "id": "ZExgnJ2TSDJY"
   },
   "outputs": [
    {
     "name": "stdout",
     "output_type": "stream",
     "text": [
      "7.0     21820\n",
      "3.0      7685\n",
      "8.0      6736\n",
      "9.0      6403\n",
      "16.0     5530\n",
      "17.0     4777\n",
      "13.0     4080\n",
      "10.0     3488\n",
      "2.0      2742\n",
      "1.0      1818\n",
      "12.0     1789\n",
      "5.0      1548\n",
      "0.0       939\n",
      "6.0       876\n",
      "4.0       657\n",
      "11.0      586\n",
      "14.0       41\n",
      "Name: diag1, dtype: int64\n"
     ]
    },
    {
     "data": {
      "image/png": "[encoded data removed]",
      "text/plain": [
       "<Figure size 432x288 with 1 Axes>"
      ]
     },
     "metadata": {
      "needs_background": "light"
     },
     "output_type": "display_data"
    }
   ],
   "source": [
    "print(check_df['diag1'].value_counts())\n",
    "sns.countplot(check_df['diag1'])\n",
    "plt.xticks(rotation=90)\n",
    "plt.show()"
   ]
  },
  {
   "cell_type": "code",
   "execution_count": 70,
   "metadata": {
    "colab": {},
    "colab_type": "code",
    "id": "qgja_x6ySDAG"
   },
   "outputs": [
    {
     "name": "stdout",
     "output_type": "stream",
     "text": [
      "7.0     22205\n",
      "3.0     15482\n",
      "8.0      6761\n",
      "10.0     5180\n",
      "16.0     3249\n",
      "9.0      2756\n",
      "12.0     2253\n",
      "4.0      2108\n",
      "0.0      2094\n",
      "5.0      1866\n",
      "17.0     1856\n",
      "2.0      1750\n",
      "13.0     1297\n",
      "1.0      1296\n",
      "6.0       926\n",
      "11.0      353\n",
      "14.0       83\n",
      "Name: diag2, dtype: int64\n"
     ]
    },
    {
     "data": {
      "image/png": "[encoded data removed]",
      "text/plain": [
       "<Figure size 432x288 with 1 Axes>"
      ]
     },
     "metadata": {
      "needs_background": "light"
     },
     "output_type": "display_data"
    }
   ],
   "source": [
    "print(check_df['diag2'].value_counts())\n",
    "sns.countplot(check_df['diag2'])\n",
    "plt.xticks(rotation=90)\n",
    "plt.show()"
   ]
  },
  {
   "cell_type": "code",
   "execution_count": 71,
   "metadata": {
    "colab": {},
    "colab_type": "code",
    "id": "Iwp74E6iSCwf"
   },
   "outputs": [
    {
     "name": "stdout",
     "output_type": "stream",
     "text": [
      "7.0     21049\n",
      "3.0     19237\n",
      "0.0      4765\n",
      "8.0      4466\n",
      "10.0     3937\n",
      "16.0     3152\n",
      "9.0      2488\n",
      "5.0      2164\n",
      "4.0      1752\n",
      "12.0     1532\n",
      "17.0     1442\n",
      "13.0     1378\n",
      "6.0      1281\n",
      "1.0      1262\n",
      "2.0      1262\n",
      "11.0      273\n",
      "14.0       75\n",
      "Name: diag3, dtype: int64\n"
     ]
    },
    {
     "data": {
      "image/png": "[encoded data removed]",
      "text/plain": [
       "<Figure size 432x288 with 1 Axes>"
      ]
     },
     "metadata": {
      "needs_background": "light"
     },
     "output_type": "display_data"
    }
   ],
   "source": [
    "print(check_df['diag3'].value_counts())\n",
    "sns.countplot(check_df['diag3'])\n",
    "plt.xticks(rotation=90)\n",
    "plt.show()"
   ]
  },
  {
   "cell_type": "code",
   "execution_count": 72,
   "metadata": {
    "colab": {},
    "colab_type": "code",
    "id": "6TQjVyvuSCi5"
   },
   "outputs": [],
   "source": [
    "data['diag_1'] = check_df['diag1']\n",
    "data['diag_2'] = check_df['diag2']\n",
    "data['diag_3'] = check_df['diag3']"
   ]
  },
  {
   "cell_type": "code",
   "execution_count": 73,
   "metadata": {
    "colab": {},
    "colab_type": "code",
    "id": "fsrKq0ylSB8C"
   },
   "outputs": [],
   "source": [
    "dummy_encode.update(('diag_1','diag_2','diag_3'))"
   ]
  },
  {
   "cell_type": "code",
   "execution_count": null,
   "metadata": {
    "colab": {},
    "colab_type": "code",
    "id": "YJ_piQbtSCFm"
   },
   "outputs": [],
   "source": []
  },
  {
   "cell_type": "code",
   "execution_count": 74,
   "metadata": {
    "colab": {},
    "colab_type": "code",
    "id": "9TYeGEzbSCP4"
   },
   "outputs": [
    {
     "name": "stdout",
     "output_type": "stream",
     "text": [
      "feature : number_diagnoses\n",
      "nunique = 16\n",
      "unique values = [ 1  9  6  7  5  8  3  4  2 16 12 13 15 10 11 14]\n",
      "                 1:193    :   0.27%\n",
      "                 9:31739    :  44.38%\n",
      "                 6:7691    :  10.75%\n",
      "                 7:7609    :  10.64%\n",
      "                 5:8940    :   12.5%\n",
      "                 8:7560    :  10.57%\n",
      "                 3:2364    :   3.31%\n",
      "                 4:4463    :   6.24%\n",
      "                 2:881    :   1.23%\n",
      "                16: 31    :   0.04%\n",
      "                12:  7    :   0.01%\n",
      "                13: 10    :   0.01%\n",
      "                15:  7    :   0.01%\n",
      "                10:  9    :   0.01%\n",
      "                11:  6    :   0.01%\n",
      "                14:  5    :   0.01%\n"
     ]
    },
    {
     "data": {
      "image/png": "[encoded data removed]",
      "text/plain": [
       "<Figure size 432x288 with 1 Axes>"
      ]
     },
     "metadata": {
      "needs_background": "light"
     },
     "output_type": "display_data"
    },
    {
     "name": "stdout",
     "output_type": "stream",
     "text": [
      "-------------------------------------------------- \n",
      " --------------------------------------------------\n"
     ]
    }
   ],
   "source": [
    "data_check(all_cols[19])"
   ]
  },
  {
   "cell_type": "code",
   "execution_count": 75,
   "metadata": {
    "colab_type": "text",
    "id": "Fpk0GAGyS9CT"
   },
   "outputs": [],
   "source": [
    "data['number_diagnoses'] = data['number_diagnoses'].replace({1:0,2:0,3:0,4:0,5:1,6:1,7:1,8:1,9:1,10:2,11:2,12:2,\n",
    "                                                             13:2,14:2,15:2,16:2}).astype('object')"
   ]
  },
  {
   "cell_type": "code",
   "execution_count": 76,
   "metadata": {
    "colab": {},
    "colab_type": "code",
    "id": "6O5X0uDtSCMI"
   },
   "outputs": [
    {
     "name": "stdout",
     "output_type": "stream",
     "text": [
      "1    63539\n",
      "0     7901\n",
      "2       75\n",
      "Name: number_diagnoses, dtype: int64\n",
      "data_type =object\n"
     ]
    },
    {
     "data": {
      "image/png": "[encoded data removed]",
      "text/plain": [
       "<Figure size 432x288 with 1 Axes>"
      ]
     },
     "metadata": {
      "needs_background": "light"
     },
     "output_type": "display_data"
    }
   ],
   "source": [
    "print(data['number_diagnoses'].value_counts())\n",
    "print('data_type ={}'.format(data['number_diagnoses'].dtype))\n",
    "sns.countplot(data['number_diagnoses'],hue=data['readmitted'])\n",
    "plt.show()"
   ]
  },
  {
   "cell_type": "code",
   "execution_count": null,
   "metadata": {},
   "outputs": [],
   "source": []
  },
  {
   "cell_type": "code",
   "execution_count": 77,
   "metadata": {
    "colab": {},
    "colab_type": "code",
    "id": "Tovk8UvqSCJ8"
   },
   "outputs": [
    {
     "name": "stdout",
     "output_type": "stream",
     "text": [
      "feature : max_glu_serum\n",
      "nunique = 4\n",
      "unique values = ['None' '>300' 'Norm' '>200']\n",
      "None              :68059    :  95.17%\n",
      ">300              :756    :   1.06%\n",
      "Norm              :1731    :   2.42%\n",
      ">200              :969    :   1.35%\n"
     ]
    },
    {
     "data": {
      "image/png": "[encoded data removed]",
      "text/plain": [
       "<Figure size 432x288 with 1 Axes>"
      ]
     },
     "metadata": {
      "needs_background": "light"
     },
     "output_type": "display_data"
    },
    {
     "name": "stdout",
     "output_type": "stream",
     "text": [
      "-------------------------------------------------- \n",
      " --------------------------------------------------\n"
     ]
    }
   ],
   "source": [
    "data_check(all_cols[20])"
   ]
  },
  {
   "cell_type": "markdown",
   "metadata": {
    "colab_type": "text",
    "id": "yQcZXIh8T7Mo"
   },
   "source": [
    "![alt text](https://www.mymed.com/image/2387/MedicalArticle/700)\n",
    "\n",
    "* based on Mean Bloog Glucose we can group >200 and >300 as '1' and normal and none as '0'"
   ]
  },
  {
   "cell_type": "code",
   "execution_count": 78,
   "metadata": {
    "colab": {},
    "colab_type": "code",
    "id": "m1F33OJvTS2L"
   },
   "outputs": [],
   "source": [
    "data['max_glu_serum'] = data['max_glu_serum'].replace({'>200': 1,'>300': 1,'Norm': 0,'None':0}).astype('object')"
   ]
  },
  {
   "cell_type": "code",
   "execution_count": 79,
   "metadata": {
    "colab": {},
    "colab_type": "code",
    "id": "iKt8fHboTTPb"
   },
   "outputs": [
    {
     "name": "stdout",
     "output_type": "stream",
     "text": [
      "0    69790\n",
      "1     1725\n",
      "Name: max_glu_serum, dtype: int64\n",
      "data_type =object\n"
     ]
    },
    {
     "data": {
      "image/png": "[encoded data removed]",
      "text/plain": [
       "<Figure size 432x288 with 1 Axes>"
      ]
     },
     "metadata": {
      "needs_background": "light"
     },
     "output_type": "display_data"
    }
   ],
   "source": [
    "print(data['max_glu_serum'].value_counts())\n",
    "print('data_type ={}'.format(data['max_glu_serum'].dtype))\n",
    "sns.countplot(data['max_glu_serum'],hue=data['readmitted'])\n",
    "plt.show()"
   ]
  },
  {
   "cell_type": "code",
   "execution_count": null,
   "metadata": {
    "colab": {},
    "colab_type": "code",
    "id": "xA8lzZXsTTeh"
   },
   "outputs": [],
   "source": []
  },
  {
   "cell_type": "code",
   "execution_count": 80,
   "metadata": {
    "colab": {},
    "colab_type": "code",
    "id": "IQ5KHHTlVlm8"
   },
   "outputs": [
    {
     "name": "stdout",
     "output_type": "stream",
     "text": [
      "feature : A1Cresult\n",
      "nunique = 4\n",
      "unique values = ['None' '>7' '>8' 'Norm']\n",
      "None              :58529    :  81.84%\n",
      ">7                :2891    :   4.04%\n",
      ">8                :6304    :   8.81%\n",
      "Norm              :3791    :    5.3%\n"
     ]
    },
    {
     "data": {
      "image/png": "[encoded data removed]",
      "text/plain": [
       "<Figure size 432x288 with 1 Axes>"
      ]
     },
     "metadata": {
      "needs_background": "light"
     },
     "output_type": "display_data"
    },
    {
     "name": "stdout",
     "output_type": "stream",
     "text": [
      "-------------------------------------------------- \n",
      " --------------------------------------------------\n"
     ]
    }
   ],
   "source": [
    "data_check(all_cols[21])"
   ]
  },
  {
   "cell_type": "markdown",
   "metadata": {
    "colab_type": "text",
    "id": "DZbrlTUCXDSH"
   },
   "source": [
    "![alt text](https://www.mymed.com/image/2387/MedicalArticle/700)\n",
    "\n",
    "* based on HBA-1C test core we can group >7 and >8 as '1' and normal and none as '0'."
   ]
  },
  {
   "cell_type": "code",
   "execution_count": 81,
   "metadata": {
    "colab": {},
    "colab_type": "code",
    "id": "6Tevez5QVl54"
   },
   "outputs": [],
   "source": [
    "data['A1Cresult'] = data['A1Cresult'].replace({'>7': 1,'>8': 1,'Norm': 0,'None':0}).astype('object')"
   ]
  },
  {
   "cell_type": "code",
   "execution_count": 82,
   "metadata": {
    "colab": {},
    "colab_type": "code",
    "id": "fbwcbjPwVl1f"
   },
   "outputs": [
    {
     "name": "stdout",
     "output_type": "stream",
     "text": [
      "0    62320\n",
      "1     9195\n",
      "Name: A1Cresult, dtype: int64\n",
      "data_type =object\n"
     ]
    },
    {
     "data": {
      "image/png": "[encoded data removed]",
      "text/plain": [
       "<Figure size 432x288 with 1 Axes>"
      ]
     },
     "metadata": {
      "needs_background": "light"
     },
     "output_type": "display_data"
    }
   ],
   "source": [
    "print(data['A1Cresult'].value_counts())\n",
    "print('data_type ={}'.format(data['A1Cresult'].dtype))\n",
    "sns.countplot(data['A1Cresult'],hue=data['readmitted'])\n",
    "plt.show()"
   ]
  },
  {
   "cell_type": "code",
   "execution_count": null,
   "metadata": {
    "colab": {},
    "colab_type": "code",
    "id": "KrAbD7ZgVly2"
   },
   "outputs": [],
   "source": []
  },
  {
   "cell_type": "code",
   "execution_count": 83,
   "metadata": {
    "colab": {},
    "colab_type": "code",
    "id": "ENoJ2w5UQvIj"
   },
   "outputs": [],
   "source": [
    "medications = all_cols[22:45]"
   ]
  },
  {
   "cell_type": "code",
   "execution_count": 84,
   "metadata": {
    "colab": {},
    "colab_type": "code",
    "id": "_dJEJLm0SnGL"
   },
   "outputs": [
    {
     "name": "stdout",
     "output_type": "stream",
     "text": [
      "feature : metformin\n",
      "nunique = 4\n",
      "unique values = ['No' 'Steady' 'Up' 'Down']\n",
      "No                :56525    :  79.04%\n",
      "Steady            :13717    :  19.18%\n",
      "Up                :838    :   1.17%\n",
      "Down              :435    :   0.61%\n"
     ]
    },
    {
     "data": {
      "image/png": "[encoded data removed]",
      "text/plain": [
       "<Figure size 432x288 with 1 Axes>"
      ]
     },
     "metadata": {
      "needs_background": "light"
     },
     "output_type": "display_data"
    },
    {
     "name": "stdout",
     "output_type": "stream",
     "text": [
      "-------------------------------------------------- \n",
      " --------------------------------------------------\n",
      "feature : repaglinide\n",
      "nunique = 4\n",
      "unique values = ['No' 'Up' 'Steady' 'Down']\n",
      "No                :70589    :  98.71%\n",
      "Up                : 73    :    0.1%\n",
      "Steady            :824    :   1.15%\n",
      "Down              : 29    :   0.04%\n"
     ]
    },
    {
     "data": {
      "image/png": "[encoded data removed]",
      "text/plain": [
       "<Figure size 432x288 with 1 Axes>"
      ]
     },
     "metadata": {
      "needs_background": "light"
     },
     "output_type": "display_data"
    },
    {
     "name": "stdout",
     "output_type": "stream",
     "text": [
      "-------------------------------------------------- \n",
      " --------------------------------------------------\n",
      "feature : nateglinide\n",
      "nunique = 4\n",
      "unique values = ['No' 'Steady' 'Down' 'Up']\n",
      "No                :71017    :   99.3%\n",
      "Steady            :474    :   0.66%\n",
      "Down              :  8    :   0.01%\n",
      "Up                : 16    :   0.02%\n"
     ]
    },
    {
     "data": {
      "image/png": "[encoded data removed]",
      "text/plain": [
       "<Figure size 432x288 with 1 Axes>"
      ]
     },
     "metadata": {
      "needs_background": "light"
     },
     "output_type": "display_data"
    },
    {
     "name": "stdout",
     "output_type": "stream",
     "text": [
      "-------------------------------------------------- \n",
      " --------------------------------------------------\n",
      "feature : chlorpropamide\n",
      "nunique = 4\n",
      "unique values = ['No' 'Steady' 'Down' 'Up']\n",
      "No                :71443    :   99.9%\n",
      "Steady            : 67    :   0.09%\n",
      "Down              :  1    :    0.0%\n",
      "Up                :  4    :   0.01%\n"
     ]
    },
    {
     "data": {
      "image/png": "[encoded data removed]",
      "text/plain": [
       "<Figure size 432x288 with 1 Axes>"
      ]
     },
     "metadata": {
      "needs_background": "light"
     },
     "output_type": "display_data"
    },
    {
     "name": "stdout",
     "output_type": "stream",
     "text": [
      "-------------------------------------------------- \n",
      " --------------------------------------------------\n",
      "feature : glimepiride\n",
      "nunique = 4\n",
      "unique values = ['No' 'Steady' 'Down' 'Up']\n",
      "No                :67770    :  94.76%\n",
      "Steady            :3372    :   4.72%\n",
      "Down              :138    :   0.19%\n",
      "Up                :235    :   0.33%\n"
     ]
    },
    {
     "data": {
      "image/png": "[encoded data removed]",
      "text/plain": [
       "<Figure size 432x288 with 1 Axes>"
      ]
     },
     "metadata": {
      "needs_background": "light"
     },
     "output_type": "display_data"
    },
    {
     "name": "stdout",
     "output_type": "stream",
     "text": [
      "-------------------------------------------------- \n",
      " --------------------------------------------------\n",
      "feature : acetohexamide\n",
      "nunique = 2\n",
      "unique values = ['No' 'Steady']\n",
      "No                :71514    :  100.0%\n",
      "Steady            :  1    :    0.0%\n"
     ]
    },
    {
     "data": {
      "image/png": "[encoded data removed]",
      "text/plain": [
       "<Figure size 432x288 with 1 Axes>"
      ]
     },
     "metadata": {
      "needs_background": "light"
     },
     "output_type": "display_data"
    },
    {
     "name": "stdout",
     "output_type": "stream",
     "text": [
      "-------------------------------------------------- \n",
      " --------------------------------------------------\n",
      "feature : glipizide\n",
      "nunique = 4\n",
      "unique values = ['No' 'Steady' 'Up' 'Down']\n",
      "No                :62410    :  87.27%\n",
      "Steady            :8149    :  11.39%\n",
      "Up                :578    :   0.81%\n",
      "Down              :378    :   0.53%\n"
     ]
    },
    {
     "data": {
      "image/png": "[encoded data removed]",
      "text/plain": [
       "<Figure size 432x288 with 1 Axes>"
      ]
     },
     "metadata": {
      "needs_background": "light"
     },
     "output_type": "display_data"
    },
    {
     "name": "stdout",
     "output_type": "stream",
     "text": [
      "-------------------------------------------------- \n",
      " --------------------------------------------------\n",
      "feature : glyburide\n",
      "nunique = 4\n",
      "unique values = ['No' 'Steady' 'Up' 'Down']\n",
      "No                :63661    :  89.02%\n",
      "Steady            :6812    :   9.53%\n",
      "Up                :621    :   0.87%\n",
      "Down              :421    :   0.59%\n"
     ]
    },
    {
     "data": {
      "image/png": "[encoded data removed]",
      "text/plain": [
       "<Figure size 432x288 with 1 Axes>"
      ]
     },
     "metadata": {
      "needs_background": "light"
     },
     "output_type": "display_data"
    },
    {
     "name": "stdout",
     "output_type": "stream",
     "text": [
      "-------------------------------------------------- \n",
      " --------------------------------------------------\n",
      "feature : tolbutamide\n",
      "nunique = 2\n",
      "unique values = ['No' 'Steady']\n",
      "No                :71496    :  99.97%\n",
      "Steady            : 19    :   0.03%\n"
     ]
    },
    {
     "data": {
      "image/png": "[encoded data removed]",
      "text/plain": [
       "<Figure size 432x288 with 1 Axes>"
      ]
     },
     "metadata": {
      "needs_background": "light"
     },
     "output_type": "display_data"
    },
    {
     "name": "stdout",
     "output_type": "stream",
     "text": [
      "-------------------------------------------------- \n",
      " --------------------------------------------------\n",
      "feature : pioglitazone\n",
      "nunique = 4\n",
      "unique values = ['No' 'Steady' 'Up' 'Down']\n",
      "No                :66208    :  92.58%\n",
      "Steady            :5046    :   7.06%\n",
      "Up                :180    :   0.25%\n",
      "Down              : 81    :   0.11%\n"
     ]
    },
    {
     "data": {
      "image/png": "[encoded data removed]",
      "text/plain": [
       "<Figure size 432x288 with 1 Axes>"
      ]
     },
     "metadata": {
      "needs_background": "light"
     },
     "output_type": "display_data"
    },
    {
     "name": "stdout",
     "output_type": "stream",
     "text": [
      "-------------------------------------------------- \n",
      " --------------------------------------------------\n",
      "feature : rosiglitazone\n",
      "nunique = 4\n",
      "unique values = ['No' 'Steady' 'Up' 'Down']\n",
      "No                :66815    :  93.43%\n",
      "Steady            :4489    :   6.28%\n",
      "Up                :136    :   0.19%\n",
      "Down              : 75    :    0.1%\n"
     ]
    },
    {
     "data": {
      "image/png": "[encoded data removed]",
      "text/plain": [
       "<Figure size 432x288 with 1 Axes>"
      ]
     },
     "metadata": {
      "needs_background": "light"
     },
     "output_type": "display_data"
    },
    {
     "name": "stdout",
     "output_type": "stream",
     "text": [
      "-------------------------------------------------- \n",
      " --------------------------------------------------\n",
      "feature : acarbose\n",
      "nunique = 3\n",
      "unique values = ['No' 'Steady' 'Up']\n",
      "No                :71313    :  99.72%\n",
      "Steady            :192    :   0.27%\n",
      "Up                : 10    :   0.01%\n"
     ]
    },
    {
     "data": {
      "image/png": "[encoded data removed]",
      "text/plain": [
       "<Figure size 432x288 with 1 Axes>"
      ]
     },
     "metadata": {
      "needs_background": "light"
     },
     "output_type": "display_data"
    },
    {
     "name": "stdout",
     "output_type": "stream",
     "text": [
      "-------------------------------------------------- \n",
      " --------------------------------------------------\n",
      "feature : miglitol\n",
      "nunique = 4\n",
      "unique values = ['No' 'Steady' 'Down' 'Up']\n",
      "No                :71495    :  99.97%\n",
      "Steady            : 18    :   0.03%\n",
      "Down              :  1    :    0.0%\n",
      "Up                :  1    :    0.0%\n"
     ]
    },
    {
     "data": {
      "image/png": "[encoded data removed]",
      "text/plain": [
       "<Figure size 432x288 with 1 Axes>"
      ]
     },
     "metadata": {
      "needs_background": "light"
     },
     "output_type": "display_data"
    },
    {
     "name": "stdout",
     "output_type": "stream",
     "text": [
      "-------------------------------------------------- \n",
      " --------------------------------------------------\n",
      "feature : troglitazone\n",
      "nunique = 2\n",
      "unique values = ['No' 'Steady']\n",
      "No                :71512    :  100.0%\n",
      "Steady            :  3    :    0.0%\n"
     ]
    },
    {
     "data": {
      "image/png": "[encoded data removed]",
      "text/plain": [
       "<Figure size 432x288 with 1 Axes>"
      ]
     },
     "metadata": {
      "needs_background": "light"
     },
     "output_type": "display_data"
    },
    {
     "name": "stdout",
     "output_type": "stream",
     "text": [
      "-------------------------------------------------- \n",
      " --------------------------------------------------\n",
      "feature : tolazamide\n",
      "nunique = 2\n",
      "unique values = ['No' 'Steady']\n",
      "No                :71485    :  99.96%\n",
      "Steady            : 30    :   0.04%\n"
     ]
    },
    {
     "data": {
      "image/png": "[encoded data removed]",
      "text/plain": [
       "<Figure size 432x288 with 1 Axes>"
      ]
     },
     "metadata": {
      "needs_background": "light"
     },
     "output_type": "display_data"
    },
    {
     "name": "stdout",
     "output_type": "stream",
     "text": [
      "-------------------------------------------------- \n",
      " --------------------------------------------------\n",
      "feature : examide\n",
      "nunique = 1\n",
      "unique values = ['No']\n",
      "No                :71515    :  100.0%\n"
     ]
    },
    {
     "data": {
      "image/png": "[encoded data removed]",
      "text/plain": [
       "<Figure size 432x288 with 1 Axes>"
      ]
     },
     "metadata": {
      "needs_background": "light"
     },
     "output_type": "display_data"
    },
    {
     "name": "stdout",
     "output_type": "stream",
     "text": [
      "-------------------------------------------------- \n",
      " --------------------------------------------------\n",
      "feature : citoglipton\n",
      "nunique = 1\n",
      "unique values = ['No']\n",
      "No                :71515    :  100.0%\n"
     ]
    },
    {
     "data": {
      "image/png": "[encoded data removed]",
      "text/plain": [
       "<Figure size 432x288 with 1 Axes>"
      ]
     },
     "metadata": {
      "needs_background": "light"
     },
     "output_type": "display_data"
    },
    {
     "name": "stdout",
     "output_type": "stream",
     "text": [
      "-------------------------------------------------- \n",
      " --------------------------------------------------\n",
      "feature : insulin\n",
      "nunique = 4\n",
      "unique values = ['No' 'Up' 'Steady' 'Down']\n",
      "No                :34918    :  48.83%\n",
      "Up                :6963    :   9.74%\n",
      "Steady            :22129    :  30.94%\n",
      "Down              :7505    :  10.49%\n"
     ]
    },
    {
     "data": {
      "image/png": "[encoded data removed]",
      "text/plain": [
       "<Figure size 432x288 with 1 Axes>"
      ]
     },
     "metadata": {
      "needs_background": "light"
     },
     "output_type": "display_data"
    },
    {
     "name": "stdout",
     "output_type": "stream",
     "text": [
      "-------------------------------------------------- \n",
      " --------------------------------------------------\n",
      "feature : glyburide-metformin\n",
      "nunique = 4\n",
      "unique values = ['No' 'Steady' 'Down' 'Up']\n",
      "No                :71013    :   99.3%\n",
      "Steady            :491    :   0.69%\n",
      "Down              :  4    :   0.01%\n",
      "Up                :  7    :   0.01%\n"
     ]
    },
    {
     "data": {
      "image/png": "[encoded data removed]",
      "text/plain": [
       "<Figure size 432x288 with 1 Axes>"
      ]
     },
     "metadata": {
      "needs_background": "light"
     },
     "output_type": "display_data"
    },
    {
     "name": "stdout",
     "output_type": "stream",
     "text": [
      "-------------------------------------------------- \n",
      " --------------------------------------------------\n",
      "feature : glipizide-metformin\n",
      "nunique = 2\n",
      "unique values = ['No' 'Steady']\n",
      "No                :71508    :  99.99%\n",
      "Steady            :  7    :   0.01%\n"
     ]
    },
    {
     "data": {
      "image/png": "[encoded data removed]",
      "text/plain": [
       "<Figure size 432x288 with 1 Axes>"
      ]
     },
     "metadata": {
      "needs_background": "light"
     },
     "output_type": "display_data"
    },
    {
     "name": "stdout",
     "output_type": "stream",
     "text": [
      "-------------------------------------------------- \n",
      " --------------------------------------------------\n",
      "feature : glimepiride-pioglitazone\n",
      "nunique = 1\n",
      "unique values = ['No']\n",
      "No                :71515    :  100.0%\n"
     ]
    },
    {
     "data": {
      "image/png": "[encoded data removed]",
      "text/plain": [
       "<Figure size 432x288 with 1 Axes>"
      ]
     },
     "metadata": {
      "needs_background": "light"
     },
     "output_type": "display_data"
    },
    {
     "name": "stdout",
     "output_type": "stream",
     "text": [
      "-------------------------------------------------- \n",
      " --------------------------------------------------\n",
      "feature : metformin-rosiglitazone\n",
      "nunique = 2\n",
      "unique values = ['No' 'Steady']\n",
      "No                :71513    :  100.0%\n",
      "Steady            :  2    :    0.0%\n"
     ]
    },
    {
     "data": {
      "image/png": "[encoded data removed]",
      "text/plain": [
       "<Figure size 432x288 with 1 Axes>"
      ]
     },
     "metadata": {
      "needs_background": "light"
     },
     "output_type": "display_data"
    },
    {
     "name": "stdout",
     "output_type": "stream",
     "text": [
      "-------------------------------------------------- \n",
      " --------------------------------------------------\n",
      "feature : metformin-pioglitazone\n",
      "nunique = 2\n",
      "unique values = ['No' 'Steady']\n",
      "No                :71514    :  100.0%\n",
      "Steady            :  1    :    0.0%\n"
     ]
    },
    {
     "data": {
      "image/png": "[encoded data removed]",
      "text/plain": [
       "<Figure size 432x288 with 1 Axes>"
      ]
     },
     "metadata": {
      "needs_background": "light"
     },
     "output_type": "display_data"
    },
    {
     "name": "stdout",
     "output_type": "stream",
     "text": [
      "-------------------------------------------------- \n",
      " --------------------------------------------------\n"
     ]
    }
   ],
   "source": [
    "for i in medications:\n",
    "  data_check(i)"
   ]
  },
  {
   "cell_type": "markdown",
   "metadata": {
    "colab_type": "text",
    "id": "_9bFrz9jTKH8"
   },
   "source": [
    "* as of now we are not removing any medication feature even though the data has a huge imbalance.\n",
    "* we can remove 'examide','glimepiride-pioglitazone' and 'citoglipton' feature as it is 100% 'No' data's"
   ]
  },
  {
   "cell_type": "code",
   "execution_count": 85,
   "metadata": {
    "colab": {},
    "colab_type": "code",
    "id": "7LR-leolQvSB"
   },
   "outputs": [],
   "source": [
    "change_med = []\n",
    "for i in medications:\n",
    "    data[i+'_change'] = data[i].replace({'No':0,'Down':1,'Steady':1,'Up':1})\n",
    "    change_med.append(i+'_change')\n",
    "    data[i] = data[i].replace({'No':0,'Down':0,'Steady':1,'Up':1}).astype('object')"
   ]
  },
  {
   "cell_type": "code",
   "execution_count": 86,
   "metadata": {},
   "outputs": [],
   "source": [
    "to_drop.update(change_med)"
   ]
  },
  {
   "cell_type": "code",
   "execution_count": 87,
   "metadata": {
    "colab": {},
    "colab_type": "code",
    "id": "iz3xFvElQvqx"
   },
   "outputs": [],
   "source": [
    "to_drop.update(( 'examide','citoglipton'))"
   ]
  },
  {
   "cell_type": "code",
   "execution_count": null,
   "metadata": {
    "colab": {},
    "colab_type": "code",
    "id": "9LvgYCf4Vltq"
   },
   "outputs": [],
   "source": []
  },
  {
   "cell_type": "code",
   "execution_count": 88,
   "metadata": {
    "colab": {},
    "colab_type": "code",
    "id": "qbdxKWUGVljH"
   },
   "outputs": [
    {
     "name": "stdout",
     "output_type": "stream",
     "text": [
      "feature : change\n",
      "nunique = 2\n",
      "unique values = ['No' 'Ch']\n",
      "No                :39493    :  55.22%\n",
      "Ch                :32022    :  44.78%\n"
     ]
    },
    {
     "data": {
      "image/png": "[encoded data removed]",
      "text/plain": [
       "<Figure size 432x288 with 1 Axes>"
      ]
     },
     "metadata": {
      "needs_background": "light"
     },
     "output_type": "display_data"
    },
    {
     "name": "stdout",
     "output_type": "stream",
     "text": [
      "-------------------------------------------------- \n",
      " --------------------------------------------------\n"
     ]
    }
   ],
   "source": [
    "data_check(all_cols[45])"
   ]
  },
  {
   "cell_type": "markdown",
   "metadata": {
    "colab_type": "text",
    "id": "U34ET8cYYYQ9"
   },
   "source": [
    "* replace 'No' with '0' and 'Ch' with '1'"
   ]
  },
  {
   "cell_type": "code",
   "execution_count": 89,
   "metadata": {
    "colab": {},
    "colab_type": "code",
    "id": "KPHgMY1GTTLh"
   },
   "outputs": [],
   "source": [
    "data['change'] = data['change'].replace({'No':0,'Ch':1}).astype('object')"
   ]
  },
  {
   "cell_type": "code",
   "execution_count": 90,
   "metadata": {
    "colab": {},
    "colab_type": "code",
    "id": "3aamuLD2SCB0"
   },
   "outputs": [
    {
     "name": "stdout",
     "output_type": "stream",
     "text": [
      "0    39493\n",
      "1    32022\n",
      "Name: change, dtype: int64\n",
      "data_type =object\n"
     ]
    },
    {
     "data": {
      "image/png": "[encoded data removed]",
      "text/plain": [
       "<Figure size 432x288 with 1 Axes>"
      ]
     },
     "metadata": {
      "needs_background": "light"
     },
     "output_type": "display_data"
    }
   ],
   "source": [
    "print(data['change'].value_counts())\n",
    "print('data_type ={}'.format(data['change'].dtype))\n",
    "sns.countplot(data['change'],hue=data['readmitted'])\n",
    "plt.show()"
   ]
  },
  {
   "cell_type": "code",
   "execution_count": null,
   "metadata": {
    "colab": {},
    "colab_type": "code",
    "id": "m7JWzh7VSB_b"
   },
   "outputs": [],
   "source": []
  },
  {
   "cell_type": "code",
   "execution_count": 91,
   "metadata": {
    "colab": {},
    "colab_type": "code",
    "id": "6GZt1m5LSBlX"
   },
   "outputs": [
    {
     "name": "stdout",
     "output_type": "stream",
     "text": [
      "feature : diabetesMed\n",
      "nunique = 2\n",
      "unique values = ['No' 'Yes']\n",
      "No                :17198    :  24.05%\n",
      "Yes               :54317    :  75.95%\n"
     ]
    },
    {
     "data": {
      "image/png": "[encoded data removed]",
      "text/plain": [
       "<Figure size 432x288 with 1 Axes>"
      ]
     },
     "metadata": {
      "needs_background": "light"
     },
     "output_type": "display_data"
    },
    {
     "name": "stdout",
     "output_type": "stream",
     "text": [
      "-------------------------------------------------- \n",
      " --------------------------------------------------\n"
     ]
    }
   ],
   "source": [
    "data_check(all_cols[46])"
   ]
  },
  {
   "cell_type": "markdown",
   "metadata": {
    "colab_type": "text",
    "id": "Y_cSZ4VnYwjs"
   },
   "source": [
    "* replace 'No' with '0' and 'Yes' with '1'"
   ]
  },
  {
   "cell_type": "code",
   "execution_count": 92,
   "metadata": {
    "colab": {},
    "colab_type": "code",
    "id": "ZIrZZvE_SBiD"
   },
   "outputs": [],
   "source": [
    "data['diabetesMed'] = data['diabetesMed'].replace({'No':0,'Yes':1}).astype('object')"
   ]
  },
  {
   "cell_type": "code",
   "execution_count": 93,
   "metadata": {
    "colab": {},
    "colab_type": "code",
    "id": "xNhT5UtMSBfU"
   },
   "outputs": [
    {
     "name": "stdout",
     "output_type": "stream",
     "text": [
      "0    39493\n",
      "1    32022\n",
      "Name: change, dtype: int64\n",
      "data_type =object\n"
     ]
    },
    {
     "data": {
      "image/png": "[encoded data removed]",
      "text/plain": [
       "<Figure size 432x288 with 1 Axes>"
      ]
     },
     "metadata": {
      "needs_background": "light"
     },
     "output_type": "display_data"
    }
   ],
   "source": [
    "print(data['change'].value_counts())\n",
    "print('data_type ={}'.format(data['change'].dtype))\n",
    "sns.countplot(data['change'],hue=data['readmitted'])\n",
    "plt.show()"
   ]
  },
  {
   "cell_type": "code",
   "execution_count": null,
   "metadata": {
    "colab": {},
    "colab_type": "code",
    "id": "mo6H13k5SBch"
   },
   "outputs": [],
   "source": []
  },
  {
   "cell_type": "code",
   "execution_count": 94,
   "metadata": {},
   "outputs": [],
   "source": [
    "data['critical_visits'] = data['number_outpatient'] + data['number_emergency'] + data['number_inpatient']\n",
    "to_drop.update(('number_outpatient','number_emergency','number_inpatient'))"
   ]
  },
  {
   "cell_type": "code",
   "execution_count": 95,
   "metadata": {},
   "outputs": [],
   "source": [
    "data['num_med_change'] = 0"
   ]
  },
  {
   "cell_type": "code",
   "execution_count": 96,
   "metadata": {},
   "outputs": [],
   "source": [
    "for i in medications:\n",
    "    data['num_med_change'] = data['num_med_change'] + data[i+'_change']"
   ]
  },
  {
   "cell_type": "code",
   "execution_count": 97,
   "metadata": {},
   "outputs": [
    {
     "data": {
      "text/plain": [
       "1    31944\n",
       "0    17198\n",
       "2    15605\n",
       "3     5703\n",
       "4     1011\n",
       "5       50\n",
       "6        4\n",
       "Name: num_med_change, dtype: int64"
      ]
     },
     "execution_count": 97,
     "metadata": {},
     "output_type": "execute_result"
    }
   ],
   "source": [
    "data['num_med_change'].value_counts()"
   ]
  },
  {
   "cell_type": "code",
   "execution_count": null,
   "metadata": {},
   "outputs": [],
   "source": []
  },
  {
   "cell_type": "markdown",
   "metadata": {
    "colab_type": "text",
    "id": "EVflHKLjY629"
   },
   "source": [
    "* below are the respective features that are to be either one hot encoded or droped"
   ]
  },
  {
   "cell_type": "code",
   "execution_count": 98,
   "metadata": {
    "colab": {},
    "colab_type": "code",
    "id": "_P0S192WKAP9"
   },
   "outputs": [
    {
     "data": {
      "text/plain": [
       "{'admission_source_id',\n",
       " 'admission_type_id',\n",
       " 'diag_1',\n",
       " 'diag_2',\n",
       " 'diag_3',\n",
       " 'discharge_disposition_id',\n",
       " 'race'}"
      ]
     },
     "execution_count": 98,
     "metadata": {},
     "output_type": "execute_result"
    }
   ],
   "source": [
    "dummy_encode"
   ]
  },
  {
   "cell_type": "code",
   "execution_count": 99,
   "metadata": {
    "colab": {},
    "colab_type": "code",
    "id": "F94R-WULKAfc"
   },
   "outputs": [
    {
     "data": {
      "text/plain": [
       "{'acarbose_change',\n",
       " 'acetohexamide_change',\n",
       " 'chlorpropamide_change',\n",
       " 'citoglipton',\n",
       " 'citoglipton_change',\n",
       " 'examide',\n",
       " 'examide_change',\n",
       " 'glimepiride-pioglitazone_change',\n",
       " 'glimepiride_change',\n",
       " 'glipizide-metformin_change',\n",
       " 'glipizide_change',\n",
       " 'glyburide-metformin_change',\n",
       " 'glyburide_change',\n",
       " 'insulin_change',\n",
       " 'medical_specialty',\n",
       " 'metformin-pioglitazone_change',\n",
       " 'metformin-rosiglitazone_change',\n",
       " 'metformin_change',\n",
       " 'miglitol_change',\n",
       " 'nateglinide_change',\n",
       " 'number_emergency',\n",
       " 'number_inpatient',\n",
       " 'number_outpatient',\n",
       " 'payer_code',\n",
       " 'pioglitazone_change',\n",
       " 'repaglinide_change',\n",
       " 'rosiglitazone_change',\n",
       " 'tolazamide_change',\n",
       " 'tolbutamide_change',\n",
       " 'troglitazone_change',\n",
       " 'weight'}"
      ]
     },
     "execution_count": 99,
     "metadata": {},
     "output_type": "execute_result"
    }
   ],
   "source": [
    "to_drop"
   ]
  },
  {
   "cell_type": "code",
   "execution_count": 100,
   "metadata": {
    "colab": {},
    "colab_type": "code",
    "id": "VBFnPpK2KAUy"
   },
   "outputs": [],
   "source": [
    "data.drop(to_drop,axis=1,inplace=True)"
   ]
  },
  {
   "cell_type": "code",
   "execution_count": 101,
   "metadata": {},
   "outputs": [
    {
     "data": {
      "text/plain": [
       "(71515, 43)"
      ]
     },
     "execution_count": 101,
     "metadata": {},
     "output_type": "execute_result"
    }
   ],
   "source": [
    "data.shape"
   ]
  },
  {
   "cell_type": "code",
   "execution_count": 102,
   "metadata": {},
   "outputs": [
    {
     "data": {
      "text/plain": [
       "Index(['race', 'gender', 'age', 'admission_type_id',\n",
       "       'discharge_disposition_id', 'admission_source_id', 'time_in_hospital',\n",
       "       'num_lab_procedures', 'num_procedures', 'num_medications', 'diag_1',\n",
       "       'diag_2', 'diag_3', 'number_diagnoses', 'max_glu_serum', 'A1Cresult',\n",
       "       'metformin', 'repaglinide', 'nateglinide', 'chlorpropamide',\n",
       "       'glimepiride', 'acetohexamide', 'glipizide', 'glyburide', 'tolbutamide',\n",
       "       'pioglitazone', 'rosiglitazone', 'acarbose', 'miglitol', 'troglitazone',\n",
       "       'tolazamide', 'insulin', 'glyburide-metformin', 'glipizide-metformin',\n",
       "       'glimepiride-pioglitazone', 'metformin-rosiglitazone',\n",
       "       'metformin-pioglitazone', 'change', 'diabetesMed', 'readmitted',\n",
       "       'number_of_revisit', 'critical_visits', 'num_med_change'],\n",
       "      dtype='object')"
      ]
     },
     "execution_count": 102,
     "metadata": {},
     "output_type": "execute_result"
    }
   ],
   "source": [
    "data.columns"
   ]
  },
  {
   "cell_type": "code",
   "execution_count": 103,
   "metadata": {},
   "outputs": [],
   "source": [
    "data.to_csv('for_tableau')"
   ]
  },
  {
   "cell_type": "code",
   "execution_count": null,
   "metadata": {},
   "outputs": [],
   "source": []
  },
  {
   "cell_type": "code",
   "execution_count": null,
   "metadata": {},
   "outputs": [],
   "source": []
  },
  {
   "cell_type": "code",
   "execution_count": 104,
   "metadata": {
    "colab": {},
    "colab_type": "code",
    "id": "uGCbZGPIi2ew"
   },
   "outputs": [],
   "source": [
    "for i in dummy_encode:\n",
    "    data[i] = data[i].astype(object)"
   ]
  },
  {
   "cell_type": "code",
   "execution_count": 105,
   "metadata": {
    "colab": {},
    "colab_type": "code",
    "id": "RVFNAM6-J_8U"
   },
   "outputs": [],
   "source": [
    "dummies = pd.get_dummies(data[['admission_source_id',\n",
    " 'admission_type_id',\n",
    " 'diag_1',\n",
    " 'diag_2',\n",
    " 'diag_3',\n",
    " 'discharge_disposition_id',\n",
    " 'race']],drop_first=True)"
   ]
  },
  {
   "cell_type": "code",
   "execution_count": 106,
   "metadata": {
    "colab": {},
    "colab_type": "code",
    "id": "oh7WiiO1J_zV"
   },
   "outputs": [
    {
     "data": {
      "text/html": [
       "<div>\n",
       "<style scoped>\n",
       "    .dataframe tbody tr th:only-of-type {\n",
       "        vertical-align: middle;\n",
       "    }\n",
       "\n",
       "    .dataframe tbody tr th {\n",
       "        vertical-align: top;\n",
       "    }\n",
       "\n",
       "    .dataframe thead th {\n",
       "        text-align: right;\n",
       "    }\n",
       "</style>\n",
       "<table border=\"1\" class=\"dataframe\">\n",
       "  <thead>\n",
       "    <tr style=\"text-align: right;\">\n",
       "      <th></th>\n",
       "      <th>admission_source_id_4</th>\n",
       "      <th>admission_source_id_7</th>\n",
       "      <th>admission_source_id_9</th>\n",
       "      <th>admission_source_id_12</th>\n",
       "      <th>admission_type_id_3</th>\n",
       "      <th>admission_type_id_5</th>\n",
       "      <th>diag_1_1.0</th>\n",
       "      <th>diag_1_2.0</th>\n",
       "      <th>diag_1_3.0</th>\n",
       "      <th>diag_1_4.0</th>\n",
       "      <th>diag_1_5.0</th>\n",
       "      <th>diag_1_6.0</th>\n",
       "      <th>diag_1_7.0</th>\n",
       "      <th>diag_1_8.0</th>\n",
       "      <th>diag_1_9.0</th>\n",
       "      <th>diag_1_10.0</th>\n",
       "      <th>diag_1_11.0</th>\n",
       "      <th>diag_1_12.0</th>\n",
       "      <th>diag_1_13.0</th>\n",
       "      <th>diag_1_14.0</th>\n",
       "      <th>diag_1_16.0</th>\n",
       "      <th>diag_1_17.0</th>\n",
       "      <th>diag_2_1.0</th>\n",
       "      <th>diag_2_2.0</th>\n",
       "      <th>diag_2_3.0</th>\n",
       "      <th>diag_2_4.0</th>\n",
       "      <th>diag_2_5.0</th>\n",
       "      <th>diag_2_6.0</th>\n",
       "      <th>diag_2_7.0</th>\n",
       "      <th>diag_2_8.0</th>\n",
       "      <th>diag_2_9.0</th>\n",
       "      <th>diag_2_10.0</th>\n",
       "      <th>diag_2_11.0</th>\n",
       "      <th>diag_2_12.0</th>\n",
       "      <th>diag_2_13.0</th>\n",
       "      <th>diag_2_14.0</th>\n",
       "      <th>diag_2_16.0</th>\n",
       "      <th>diag_2_17.0</th>\n",
       "      <th>diag_3_1.0</th>\n",
       "      <th>diag_3_2.0</th>\n",
       "      <th>diag_3_3.0</th>\n",
       "      <th>diag_3_4.0</th>\n",
       "      <th>diag_3_5.0</th>\n",
       "      <th>diag_3_6.0</th>\n",
       "      <th>diag_3_7.0</th>\n",
       "      <th>diag_3_8.0</th>\n",
       "      <th>diag_3_9.0</th>\n",
       "      <th>diag_3_10.0</th>\n",
       "      <th>diag_3_11.0</th>\n",
       "      <th>diag_3_12.0</th>\n",
       "      <th>diag_3_13.0</th>\n",
       "      <th>diag_3_14.0</th>\n",
       "      <th>diag_3_16.0</th>\n",
       "      <th>diag_3_17.0</th>\n",
       "      <th>discharge_disposition_id_2</th>\n",
       "      <th>discharge_disposition_id_7</th>\n",
       "      <th>discharge_disposition_id_9</th>\n",
       "      <th>discharge_disposition_id_10</th>\n",
       "      <th>discharge_disposition_id_13</th>\n",
       "      <th>discharge_disposition_id_18</th>\n",
       "      <th>discharge_disposition_id_28</th>\n",
       "      <th>race_Asian</th>\n",
       "      <th>race_Caucasian</th>\n",
       "      <th>race_Hispanic</th>\n",
       "      <th>race_Other</th>\n",
       "    </tr>\n",
       "  </thead>\n",
       "  <tbody>\n",
       "    <tr>\n",
       "      <th>0</th>\n",
       "      <td>0</td>\n",
       "      <td>0</td>\n",
       "      <td>0</td>\n",
       "      <td>0</td>\n",
       "      <td>0</td>\n",
       "      <td>1</td>\n",
       "      <td>0</td>\n",
       "      <td>0</td>\n",
       "      <td>1</td>\n",
       "      <td>0</td>\n",
       "      <td>0</td>\n",
       "      <td>0</td>\n",
       "      <td>0</td>\n",
       "      <td>0</td>\n",
       "      <td>0</td>\n",
       "      <td>0</td>\n",
       "      <td>0</td>\n",
       "      <td>0</td>\n",
       "      <td>0</td>\n",
       "      <td>0</td>\n",
       "      <td>0</td>\n",
       "      <td>0</td>\n",
       "      <td>0</td>\n",
       "      <td>0</td>\n",
       "      <td>0</td>\n",
       "      <td>0</td>\n",
       "      <td>0</td>\n",
       "      <td>0</td>\n",
       "      <td>0</td>\n",
       "      <td>0</td>\n",
       "      <td>0</td>\n",
       "      <td>0</td>\n",
       "      <td>0</td>\n",
       "      <td>0</td>\n",
       "      <td>0</td>\n",
       "      <td>0</td>\n",
       "      <td>0</td>\n",
       "      <td>0</td>\n",
       "      <td>0</td>\n",
       "      <td>0</td>\n",
       "      <td>0</td>\n",
       "      <td>0</td>\n",
       "      <td>0</td>\n",
       "      <td>0</td>\n",
       "      <td>0</td>\n",
       "      <td>0</td>\n",
       "      <td>0</td>\n",
       "      <td>0</td>\n",
       "      <td>0</td>\n",
       "      <td>0</td>\n",
       "      <td>0</td>\n",
       "      <td>0</td>\n",
       "      <td>0</td>\n",
       "      <td>0</td>\n",
       "      <td>0</td>\n",
       "      <td>0</td>\n",
       "      <td>0</td>\n",
       "      <td>0</td>\n",
       "      <td>0</td>\n",
       "      <td>1</td>\n",
       "      <td>0</td>\n",
       "      <td>0</td>\n",
       "      <td>1</td>\n",
       "      <td>0</td>\n",
       "      <td>0</td>\n",
       "    </tr>\n",
       "    <tr>\n",
       "      <th>1</th>\n",
       "      <td>0</td>\n",
       "      <td>1</td>\n",
       "      <td>0</td>\n",
       "      <td>0</td>\n",
       "      <td>0</td>\n",
       "      <td>0</td>\n",
       "      <td>0</td>\n",
       "      <td>0</td>\n",
       "      <td>1</td>\n",
       "      <td>0</td>\n",
       "      <td>0</td>\n",
       "      <td>0</td>\n",
       "      <td>0</td>\n",
       "      <td>0</td>\n",
       "      <td>0</td>\n",
       "      <td>0</td>\n",
       "      <td>0</td>\n",
       "      <td>0</td>\n",
       "      <td>0</td>\n",
       "      <td>0</td>\n",
       "      <td>0</td>\n",
       "      <td>0</td>\n",
       "      <td>0</td>\n",
       "      <td>0</td>\n",
       "      <td>1</td>\n",
       "      <td>0</td>\n",
       "      <td>0</td>\n",
       "      <td>0</td>\n",
       "      <td>0</td>\n",
       "      <td>0</td>\n",
       "      <td>0</td>\n",
       "      <td>0</td>\n",
       "      <td>0</td>\n",
       "      <td>0</td>\n",
       "      <td>0</td>\n",
       "      <td>0</td>\n",
       "      <td>0</td>\n",
       "      <td>0</td>\n",
       "      <td>0</td>\n",
       "      <td>0</td>\n",
       "      <td>1</td>\n",
       "      <td>0</td>\n",
       "      <td>0</td>\n",
       "      <td>0</td>\n",
       "      <td>0</td>\n",
       "      <td>0</td>\n",
       "      <td>0</td>\n",
       "      <td>0</td>\n",
       "      <td>0</td>\n",
       "      <td>0</td>\n",
       "      <td>0</td>\n",
       "      <td>0</td>\n",
       "      <td>0</td>\n",
       "      <td>0</td>\n",
       "      <td>0</td>\n",
       "      <td>0</td>\n",
       "      <td>0</td>\n",
       "      <td>0</td>\n",
       "      <td>0</td>\n",
       "      <td>0</td>\n",
       "      <td>0</td>\n",
       "      <td>0</td>\n",
       "      <td>1</td>\n",
       "      <td>0</td>\n",
       "      <td>0</td>\n",
       "    </tr>\n",
       "    <tr>\n",
       "      <th>2</th>\n",
       "      <td>0</td>\n",
       "      <td>1</td>\n",
       "      <td>0</td>\n",
       "      <td>0</td>\n",
       "      <td>0</td>\n",
       "      <td>0</td>\n",
       "      <td>0</td>\n",
       "      <td>0</td>\n",
       "      <td>0</td>\n",
       "      <td>0</td>\n",
       "      <td>0</td>\n",
       "      <td>0</td>\n",
       "      <td>0</td>\n",
       "      <td>0</td>\n",
       "      <td>0</td>\n",
       "      <td>0</td>\n",
       "      <td>1</td>\n",
       "      <td>0</td>\n",
       "      <td>0</td>\n",
       "      <td>0</td>\n",
       "      <td>0</td>\n",
       "      <td>0</td>\n",
       "      <td>0</td>\n",
       "      <td>0</td>\n",
       "      <td>1</td>\n",
       "      <td>0</td>\n",
       "      <td>0</td>\n",
       "      <td>0</td>\n",
       "      <td>0</td>\n",
       "      <td>0</td>\n",
       "      <td>0</td>\n",
       "      <td>0</td>\n",
       "      <td>0</td>\n",
       "      <td>0</td>\n",
       "      <td>0</td>\n",
       "      <td>0</td>\n",
       "      <td>0</td>\n",
       "      <td>0</td>\n",
       "      <td>0</td>\n",
       "      <td>0</td>\n",
       "      <td>0</td>\n",
       "      <td>0</td>\n",
       "      <td>0</td>\n",
       "      <td>0</td>\n",
       "      <td>0</td>\n",
       "      <td>0</td>\n",
       "      <td>0</td>\n",
       "      <td>0</td>\n",
       "      <td>0</td>\n",
       "      <td>0</td>\n",
       "      <td>0</td>\n",
       "      <td>0</td>\n",
       "      <td>0</td>\n",
       "      <td>0</td>\n",
       "      <td>0</td>\n",
       "      <td>0</td>\n",
       "      <td>0</td>\n",
       "      <td>0</td>\n",
       "      <td>0</td>\n",
       "      <td>0</td>\n",
       "      <td>0</td>\n",
       "      <td>0</td>\n",
       "      <td>0</td>\n",
       "      <td>0</td>\n",
       "      <td>0</td>\n",
       "    </tr>\n",
       "    <tr>\n",
       "      <th>3</th>\n",
       "      <td>0</td>\n",
       "      <td>1</td>\n",
       "      <td>0</td>\n",
       "      <td>0</td>\n",
       "      <td>0</td>\n",
       "      <td>0</td>\n",
       "      <td>1</td>\n",
       "      <td>0</td>\n",
       "      <td>0</td>\n",
       "      <td>0</td>\n",
       "      <td>0</td>\n",
       "      <td>0</td>\n",
       "      <td>0</td>\n",
       "      <td>0</td>\n",
       "      <td>0</td>\n",
       "      <td>0</td>\n",
       "      <td>0</td>\n",
       "      <td>0</td>\n",
       "      <td>0</td>\n",
       "      <td>0</td>\n",
       "      <td>0</td>\n",
       "      <td>0</td>\n",
       "      <td>0</td>\n",
       "      <td>0</td>\n",
       "      <td>1</td>\n",
       "      <td>0</td>\n",
       "      <td>0</td>\n",
       "      <td>0</td>\n",
       "      <td>0</td>\n",
       "      <td>0</td>\n",
       "      <td>0</td>\n",
       "      <td>0</td>\n",
       "      <td>0</td>\n",
       "      <td>0</td>\n",
       "      <td>0</td>\n",
       "      <td>0</td>\n",
       "      <td>0</td>\n",
       "      <td>0</td>\n",
       "      <td>0</td>\n",
       "      <td>0</td>\n",
       "      <td>0</td>\n",
       "      <td>0</td>\n",
       "      <td>0</td>\n",
       "      <td>0</td>\n",
       "      <td>1</td>\n",
       "      <td>0</td>\n",
       "      <td>0</td>\n",
       "      <td>0</td>\n",
       "      <td>0</td>\n",
       "      <td>0</td>\n",
       "      <td>0</td>\n",
       "      <td>0</td>\n",
       "      <td>0</td>\n",
       "      <td>0</td>\n",
       "      <td>0</td>\n",
       "      <td>0</td>\n",
       "      <td>0</td>\n",
       "      <td>0</td>\n",
       "      <td>0</td>\n",
       "      <td>0</td>\n",
       "      <td>0</td>\n",
       "      <td>0</td>\n",
       "      <td>1</td>\n",
       "      <td>0</td>\n",
       "      <td>0</td>\n",
       "    </tr>\n",
       "    <tr>\n",
       "      <th>4</th>\n",
       "      <td>0</td>\n",
       "      <td>1</td>\n",
       "      <td>0</td>\n",
       "      <td>0</td>\n",
       "      <td>0</td>\n",
       "      <td>0</td>\n",
       "      <td>0</td>\n",
       "      <td>1</td>\n",
       "      <td>0</td>\n",
       "      <td>0</td>\n",
       "      <td>0</td>\n",
       "      <td>0</td>\n",
       "      <td>0</td>\n",
       "      <td>0</td>\n",
       "      <td>0</td>\n",
       "      <td>0</td>\n",
       "      <td>0</td>\n",
       "      <td>0</td>\n",
       "      <td>0</td>\n",
       "      <td>0</td>\n",
       "      <td>0</td>\n",
       "      <td>0</td>\n",
       "      <td>0</td>\n",
       "      <td>1</td>\n",
       "      <td>0</td>\n",
       "      <td>0</td>\n",
       "      <td>0</td>\n",
       "      <td>0</td>\n",
       "      <td>0</td>\n",
       "      <td>0</td>\n",
       "      <td>0</td>\n",
       "      <td>0</td>\n",
       "      <td>0</td>\n",
       "      <td>0</td>\n",
       "      <td>0</td>\n",
       "      <td>0</td>\n",
       "      <td>0</td>\n",
       "      <td>0</td>\n",
       "      <td>0</td>\n",
       "      <td>0</td>\n",
       "      <td>1</td>\n",
       "      <td>0</td>\n",
       "      <td>0</td>\n",
       "      <td>0</td>\n",
       "      <td>0</td>\n",
       "      <td>0</td>\n",
       "      <td>0</td>\n",
       "      <td>0</td>\n",
       "      <td>0</td>\n",
       "      <td>0</td>\n",
       "      <td>0</td>\n",
       "      <td>0</td>\n",
       "      <td>0</td>\n",
       "      <td>0</td>\n",
       "      <td>0</td>\n",
       "      <td>0</td>\n",
       "      <td>0</td>\n",
       "      <td>0</td>\n",
       "      <td>0</td>\n",
       "      <td>0</td>\n",
       "      <td>0</td>\n",
       "      <td>0</td>\n",
       "      <td>1</td>\n",
       "      <td>0</td>\n",
       "      <td>0</td>\n",
       "    </tr>\n",
       "    <tr>\n",
       "      <th>...</th>\n",
       "      <td>...</td>\n",
       "      <td>...</td>\n",
       "      <td>...</td>\n",
       "      <td>...</td>\n",
       "      <td>...</td>\n",
       "      <td>...</td>\n",
       "      <td>...</td>\n",
       "      <td>...</td>\n",
       "      <td>...</td>\n",
       "      <td>...</td>\n",
       "      <td>...</td>\n",
       "      <td>...</td>\n",
       "      <td>...</td>\n",
       "      <td>...</td>\n",
       "      <td>...</td>\n",
       "      <td>...</td>\n",
       "      <td>...</td>\n",
       "      <td>...</td>\n",
       "      <td>...</td>\n",
       "      <td>...</td>\n",
       "      <td>...</td>\n",
       "      <td>...</td>\n",
       "      <td>...</td>\n",
       "      <td>...</td>\n",
       "      <td>...</td>\n",
       "      <td>...</td>\n",
       "      <td>...</td>\n",
       "      <td>...</td>\n",
       "      <td>...</td>\n",
       "      <td>...</td>\n",
       "      <td>...</td>\n",
       "      <td>...</td>\n",
       "      <td>...</td>\n",
       "      <td>...</td>\n",
       "      <td>...</td>\n",
       "      <td>...</td>\n",
       "      <td>...</td>\n",
       "      <td>...</td>\n",
       "      <td>...</td>\n",
       "      <td>...</td>\n",
       "      <td>...</td>\n",
       "      <td>...</td>\n",
       "      <td>...</td>\n",
       "      <td>...</td>\n",
       "      <td>...</td>\n",
       "      <td>...</td>\n",
       "      <td>...</td>\n",
       "      <td>...</td>\n",
       "      <td>...</td>\n",
       "      <td>...</td>\n",
       "      <td>...</td>\n",
       "      <td>...</td>\n",
       "      <td>...</td>\n",
       "      <td>...</td>\n",
       "      <td>...</td>\n",
       "      <td>...</td>\n",
       "      <td>...</td>\n",
       "      <td>...</td>\n",
       "      <td>...</td>\n",
       "      <td>...</td>\n",
       "      <td>...</td>\n",
       "      <td>...</td>\n",
       "      <td>...</td>\n",
       "      <td>...</td>\n",
       "      <td>...</td>\n",
       "    </tr>\n",
       "    <tr>\n",
       "      <th>71513</th>\n",
       "      <td>0</td>\n",
       "      <td>1</td>\n",
       "      <td>0</td>\n",
       "      <td>0</td>\n",
       "      <td>0</td>\n",
       "      <td>0</td>\n",
       "      <td>0</td>\n",
       "      <td>0</td>\n",
       "      <td>0</td>\n",
       "      <td>0</td>\n",
       "      <td>0</td>\n",
       "      <td>0</td>\n",
       "      <td>0</td>\n",
       "      <td>0</td>\n",
       "      <td>1</td>\n",
       "      <td>0</td>\n",
       "      <td>0</td>\n",
       "      <td>0</td>\n",
       "      <td>0</td>\n",
       "      <td>0</td>\n",
       "      <td>0</td>\n",
       "      <td>0</td>\n",
       "      <td>0</td>\n",
       "      <td>0</td>\n",
       "      <td>0</td>\n",
       "      <td>0</td>\n",
       "      <td>0</td>\n",
       "      <td>0</td>\n",
       "      <td>0</td>\n",
       "      <td>0</td>\n",
       "      <td>1</td>\n",
       "      <td>0</td>\n",
       "      <td>0</td>\n",
       "      <td>0</td>\n",
       "      <td>0</td>\n",
       "      <td>0</td>\n",
       "      <td>0</td>\n",
       "      <td>0</td>\n",
       "      <td>0</td>\n",
       "      <td>0</td>\n",
       "      <td>1</td>\n",
       "      <td>0</td>\n",
       "      <td>0</td>\n",
       "      <td>0</td>\n",
       "      <td>0</td>\n",
       "      <td>0</td>\n",
       "      <td>0</td>\n",
       "      <td>0</td>\n",
       "      <td>0</td>\n",
       "      <td>0</td>\n",
       "      <td>0</td>\n",
       "      <td>0</td>\n",
       "      <td>0</td>\n",
       "      <td>0</td>\n",
       "      <td>0</td>\n",
       "      <td>0</td>\n",
       "      <td>0</td>\n",
       "      <td>0</td>\n",
       "      <td>0</td>\n",
       "      <td>0</td>\n",
       "      <td>0</td>\n",
       "      <td>0</td>\n",
       "      <td>1</td>\n",
       "      <td>0</td>\n",
       "      <td>0</td>\n",
       "    </tr>\n",
       "    <tr>\n",
       "      <th>71514</th>\n",
       "      <td>0</td>\n",
       "      <td>1</td>\n",
       "      <td>0</td>\n",
       "      <td>0</td>\n",
       "      <td>0</td>\n",
       "      <td>0</td>\n",
       "      <td>0</td>\n",
       "      <td>0</td>\n",
       "      <td>0</td>\n",
       "      <td>0</td>\n",
       "      <td>0</td>\n",
       "      <td>0</td>\n",
       "      <td>0</td>\n",
       "      <td>0</td>\n",
       "      <td>0</td>\n",
       "      <td>1</td>\n",
       "      <td>0</td>\n",
       "      <td>0</td>\n",
       "      <td>0</td>\n",
       "      <td>0</td>\n",
       "      <td>0</td>\n",
       "      <td>0</td>\n",
       "      <td>0</td>\n",
       "      <td>0</td>\n",
       "      <td>0</td>\n",
       "      <td>0</td>\n",
       "      <td>0</td>\n",
       "      <td>0</td>\n",
       "      <td>0</td>\n",
       "      <td>0</td>\n",
       "      <td>0</td>\n",
       "      <td>1</td>\n",
       "      <td>0</td>\n",
       "      <td>0</td>\n",
       "      <td>0</td>\n",
       "      <td>0</td>\n",
       "      <td>0</td>\n",
       "      <td>0</td>\n",
       "      <td>0</td>\n",
       "      <td>0</td>\n",
       "      <td>0</td>\n",
       "      <td>0</td>\n",
       "      <td>0</td>\n",
       "      <td>0</td>\n",
       "      <td>0</td>\n",
       "      <td>1</td>\n",
       "      <td>0</td>\n",
       "      <td>0</td>\n",
       "      <td>0</td>\n",
       "      <td>0</td>\n",
       "      <td>0</td>\n",
       "      <td>0</td>\n",
       "      <td>0</td>\n",
       "      <td>0</td>\n",
       "      <td>0</td>\n",
       "      <td>0</td>\n",
       "      <td>0</td>\n",
       "      <td>0</td>\n",
       "      <td>0</td>\n",
       "      <td>0</td>\n",
       "      <td>0</td>\n",
       "      <td>0</td>\n",
       "      <td>0</td>\n",
       "      <td>0</td>\n",
       "      <td>1</td>\n",
       "    </tr>\n",
       "    <tr>\n",
       "      <th>71515</th>\n",
       "      <td>0</td>\n",
       "      <td>1</td>\n",
       "      <td>0</td>\n",
       "      <td>0</td>\n",
       "      <td>0</td>\n",
       "      <td>0</td>\n",
       "      <td>0</td>\n",
       "      <td>0</td>\n",
       "      <td>0</td>\n",
       "      <td>0</td>\n",
       "      <td>0</td>\n",
       "      <td>0</td>\n",
       "      <td>0</td>\n",
       "      <td>0</td>\n",
       "      <td>0</td>\n",
       "      <td>0</td>\n",
       "      <td>0</td>\n",
       "      <td>0</td>\n",
       "      <td>0</td>\n",
       "      <td>0</td>\n",
       "      <td>0</td>\n",
       "      <td>1</td>\n",
       "      <td>0</td>\n",
       "      <td>0</td>\n",
       "      <td>0</td>\n",
       "      <td>0</td>\n",
       "      <td>0</td>\n",
       "      <td>0</td>\n",
       "      <td>0</td>\n",
       "      <td>0</td>\n",
       "      <td>0</td>\n",
       "      <td>1</td>\n",
       "      <td>0</td>\n",
       "      <td>0</td>\n",
       "      <td>0</td>\n",
       "      <td>0</td>\n",
       "      <td>0</td>\n",
       "      <td>0</td>\n",
       "      <td>0</td>\n",
       "      <td>0</td>\n",
       "      <td>0</td>\n",
       "      <td>0</td>\n",
       "      <td>0</td>\n",
       "      <td>0</td>\n",
       "      <td>1</td>\n",
       "      <td>0</td>\n",
       "      <td>0</td>\n",
       "      <td>0</td>\n",
       "      <td>0</td>\n",
       "      <td>0</td>\n",
       "      <td>0</td>\n",
       "      <td>0</td>\n",
       "      <td>0</td>\n",
       "      <td>0</td>\n",
       "      <td>0</td>\n",
       "      <td>0</td>\n",
       "      <td>0</td>\n",
       "      <td>0</td>\n",
       "      <td>0</td>\n",
       "      <td>0</td>\n",
       "      <td>0</td>\n",
       "      <td>0</td>\n",
       "      <td>0</td>\n",
       "      <td>0</td>\n",
       "      <td>1</td>\n",
       "    </tr>\n",
       "    <tr>\n",
       "      <th>71516</th>\n",
       "      <td>0</td>\n",
       "      <td>1</td>\n",
       "      <td>0</td>\n",
       "      <td>0</td>\n",
       "      <td>0</td>\n",
       "      <td>0</td>\n",
       "      <td>0</td>\n",
       "      <td>0</td>\n",
       "      <td>0</td>\n",
       "      <td>0</td>\n",
       "      <td>1</td>\n",
       "      <td>0</td>\n",
       "      <td>0</td>\n",
       "      <td>0</td>\n",
       "      <td>0</td>\n",
       "      <td>0</td>\n",
       "      <td>0</td>\n",
       "      <td>0</td>\n",
       "      <td>0</td>\n",
       "      <td>0</td>\n",
       "      <td>0</td>\n",
       "      <td>0</td>\n",
       "      <td>1</td>\n",
       "      <td>0</td>\n",
       "      <td>0</td>\n",
       "      <td>0</td>\n",
       "      <td>0</td>\n",
       "      <td>0</td>\n",
       "      <td>0</td>\n",
       "      <td>0</td>\n",
       "      <td>0</td>\n",
       "      <td>0</td>\n",
       "      <td>0</td>\n",
       "      <td>0</td>\n",
       "      <td>0</td>\n",
       "      <td>0</td>\n",
       "      <td>0</td>\n",
       "      <td>0</td>\n",
       "      <td>0</td>\n",
       "      <td>0</td>\n",
       "      <td>0</td>\n",
       "      <td>0</td>\n",
       "      <td>1</td>\n",
       "      <td>0</td>\n",
       "      <td>0</td>\n",
       "      <td>0</td>\n",
       "      <td>0</td>\n",
       "      <td>0</td>\n",
       "      <td>0</td>\n",
       "      <td>0</td>\n",
       "      <td>0</td>\n",
       "      <td>0</td>\n",
       "      <td>0</td>\n",
       "      <td>0</td>\n",
       "      <td>0</td>\n",
       "      <td>0</td>\n",
       "      <td>0</td>\n",
       "      <td>0</td>\n",
       "      <td>0</td>\n",
       "      <td>0</td>\n",
       "      <td>0</td>\n",
       "      <td>0</td>\n",
       "      <td>1</td>\n",
       "      <td>0</td>\n",
       "      <td>0</td>\n",
       "    </tr>\n",
       "    <tr>\n",
       "      <th>71517</th>\n",
       "      <td>0</td>\n",
       "      <td>1</td>\n",
       "      <td>0</td>\n",
       "      <td>0</td>\n",
       "      <td>0</td>\n",
       "      <td>0</td>\n",
       "      <td>0</td>\n",
       "      <td>0</td>\n",
       "      <td>0</td>\n",
       "      <td>0</td>\n",
       "      <td>0</td>\n",
       "      <td>0</td>\n",
       "      <td>0</td>\n",
       "      <td>0</td>\n",
       "      <td>1</td>\n",
       "      <td>0</td>\n",
       "      <td>0</td>\n",
       "      <td>0</td>\n",
       "      <td>0</td>\n",
       "      <td>0</td>\n",
       "      <td>0</td>\n",
       "      <td>0</td>\n",
       "      <td>0</td>\n",
       "      <td>0</td>\n",
       "      <td>0</td>\n",
       "      <td>0</td>\n",
       "      <td>0</td>\n",
       "      <td>0</td>\n",
       "      <td>0</td>\n",
       "      <td>0</td>\n",
       "      <td>1</td>\n",
       "      <td>0</td>\n",
       "      <td>0</td>\n",
       "      <td>0</td>\n",
       "      <td>0</td>\n",
       "      <td>0</td>\n",
       "      <td>0</td>\n",
       "      <td>0</td>\n",
       "      <td>0</td>\n",
       "      <td>0</td>\n",
       "      <td>0</td>\n",
       "      <td>0</td>\n",
       "      <td>0</td>\n",
       "      <td>0</td>\n",
       "      <td>0</td>\n",
       "      <td>0</td>\n",
       "      <td>0</td>\n",
       "      <td>0</td>\n",
       "      <td>0</td>\n",
       "      <td>0</td>\n",
       "      <td>0</td>\n",
       "      <td>0</td>\n",
       "      <td>1</td>\n",
       "      <td>0</td>\n",
       "      <td>0</td>\n",
       "      <td>0</td>\n",
       "      <td>0</td>\n",
       "      <td>0</td>\n",
       "      <td>0</td>\n",
       "      <td>0</td>\n",
       "      <td>0</td>\n",
       "      <td>0</td>\n",
       "      <td>1</td>\n",
       "      <td>0</td>\n",
       "      <td>0</td>\n",
       "    </tr>\n",
       "  </tbody>\n",
       "</table>\n",
       "<p>71515 rows × 65 columns</p>\n",
       "</div>"
      ],
      "text/plain": [
       "       admission_source_id_4  admission_source_id_7  admission_source_id_9  \\\n",
       "0                          0                      0                      0   \n",
       "1                          0                      1                      0   \n",
       "2                          0                      1                      0   \n",
       "3                          0                      1                      0   \n",
       "4                          0                      1                      0   \n",
       "...                      ...                    ...                    ...   \n",
       "71513                      0                      1                      0   \n",
       "71514                      0                      1                      0   \n",
       "71515                      0                      1                      0   \n",
       "71516                      0                      1                      0   \n",
       "71517                      0                      1                      0   \n",
       "\n",
       "       admission_source_id_12  admission_type_id_3  admission_type_id_5  \\\n",
       "0                           0                    0                    1   \n",
       "1                           0                    0                    0   \n",
       "2                           0                    0                    0   \n",
       "3                           0                    0                    0   \n",
       "4                           0                    0                    0   \n",
       "...                       ...                  ...                  ...   \n",
       "71513                       0                    0                    0   \n",
       "71514                       0                    0                    0   \n",
       "71515                       0                    0                    0   \n",
       "71516                       0                    0                    0   \n",
       "71517                       0                    0                    0   \n",
       "\n",
       "       diag_1_1.0  diag_1_2.0  diag_1_3.0  diag_1_4.0  diag_1_5.0  diag_1_6.0  \\\n",
       "0               0           0           1           0           0           0   \n",
       "1               0           0           1           0           0           0   \n",
       "2               0           0           0           0           0           0   \n",
       "3               1           0           0           0           0           0   \n",
       "4               0           1           0           0           0           0   \n",
       "...           ...         ...         ...         ...         ...         ...   \n",
       "71513           0           0           0           0           0           0   \n",
       "71514           0           0           0           0           0           0   \n",
       "71515           0           0           0           0           0           0   \n",
       "71516           0           0           0           0           1           0   \n",
       "71517           0           0           0           0           0           0   \n",
       "\n",
       "       diag_1_7.0  diag_1_8.0  diag_1_9.0  diag_1_10.0  diag_1_11.0  \\\n",
       "0               0           0           0            0            0   \n",
       "1               0           0           0            0            0   \n",
       "2               0           0           0            0            1   \n",
       "3               0           0           0            0            0   \n",
       "4               0           0           0            0            0   \n",
       "...           ...         ...         ...          ...          ...   \n",
       "71513           0           0           1            0            0   \n",
       "71514           0           0           0            1            0   \n",
       "71515           0           0           0            0            0   \n",
       "71516           0           0           0            0            0   \n",
       "71517           0           0           1            0            0   \n",
       "\n",
       "       diag_1_12.0  diag_1_13.0  diag_1_14.0  diag_1_16.0  diag_1_17.0  \\\n",
       "0                0            0            0            0            0   \n",
       "1                0            0            0            0            0   \n",
       "2                0            0            0            0            0   \n",
       "3                0            0            0            0            0   \n",
       "4                0            0            0            0            0   \n",
       "...            ...          ...          ...          ...          ...   \n",
       "71513            0            0            0            0            0   \n",
       "71514            0            0            0            0            0   \n",
       "71515            0            0            0            0            1   \n",
       "71516            0            0            0            0            0   \n",
       "71517            0            0            0            0            0   \n",
       "\n",
       "       diag_2_1.0  diag_2_2.0  diag_2_3.0  diag_2_4.0  diag_2_5.0  diag_2_6.0  \\\n",
       "0               0           0           0           0           0           0   \n",
       "1               0           0           1           0           0           0   \n",
       "2               0           0           1           0           0           0   \n",
       "3               0           0           1           0           0           0   \n",
       "4               0           1           0           0           0           0   \n",
       "...           ...         ...         ...         ...         ...         ...   \n",
       "71513           0           0           0           0           0           0   \n",
       "71514           0           0           0           0           0           0   \n",
       "71515           0           0           0           0           0           0   \n",
       "71516           1           0           0           0           0           0   \n",
       "71517           0           0           0           0           0           0   \n",
       "\n",
       "       diag_2_7.0  diag_2_8.0  diag_2_9.0  diag_2_10.0  diag_2_11.0  \\\n",
       "0               0           0           0            0            0   \n",
       "1               0           0           0            0            0   \n",
       "2               0           0           0            0            0   \n",
       "3               0           0           0            0            0   \n",
       "4               0           0           0            0            0   \n",
       "...           ...         ...         ...          ...          ...   \n",
       "71513           0           0           1            0            0   \n",
       "71514           0           0           0            1            0   \n",
       "71515           0           0           0            1            0   \n",
       "71516           0           0           0            0            0   \n",
       "71517           0           0           1            0            0   \n",
       "\n",
       "       diag_2_12.0  diag_2_13.0  diag_2_14.0  diag_2_16.0  diag_2_17.0  \\\n",
       "0                0            0            0            0            0   \n",
       "1                0            0            0            0            0   \n",
       "2                0            0            0            0            0   \n",
       "3                0            0            0            0            0   \n",
       "4                0            0            0            0            0   \n",
       "...            ...          ...          ...          ...          ...   \n",
       "71513            0            0            0            0            0   \n",
       "71514            0            0            0            0            0   \n",
       "71515            0            0            0            0            0   \n",
       "71516            0            0            0            0            0   \n",
       "71517            0            0            0            0            0   \n",
       "\n",
       "       diag_3_1.0  diag_3_2.0  diag_3_3.0  diag_3_4.0  diag_3_5.0  diag_3_6.0  \\\n",
       "0               0           0           0           0           0           0   \n",
       "1               0           0           1           0           0           0   \n",
       "2               0           0           0           0           0           0   \n",
       "3               0           0           0           0           0           0   \n",
       "4               0           0           1           0           0           0   \n",
       "...           ...         ...         ...         ...         ...         ...   \n",
       "71513           0           0           1           0           0           0   \n",
       "71514           0           0           0           0           0           0   \n",
       "71515           0           0           0           0           0           0   \n",
       "71516           0           0           0           0           1           0   \n",
       "71517           0           0           0           0           0           0   \n",
       "\n",
       "       diag_3_7.0  diag_3_8.0  diag_3_9.0  diag_3_10.0  diag_3_11.0  \\\n",
       "0               0           0           0            0            0   \n",
       "1               0           0           0            0            0   \n",
       "2               0           0           0            0            0   \n",
       "3               1           0           0            0            0   \n",
       "4               0           0           0            0            0   \n",
       "...           ...         ...         ...          ...          ...   \n",
       "71513           0           0           0            0            0   \n",
       "71514           0           1           0            0            0   \n",
       "71515           1           0           0            0            0   \n",
       "71516           0           0           0            0            0   \n",
       "71517           0           0           0            0            0   \n",
       "\n",
       "       diag_3_12.0  diag_3_13.0  diag_3_14.0  diag_3_16.0  diag_3_17.0  \\\n",
       "0                0            0            0            0            0   \n",
       "1                0            0            0            0            0   \n",
       "2                0            0            0            0            0   \n",
       "3                0            0            0            0            0   \n",
       "4                0            0            0            0            0   \n",
       "...            ...          ...          ...          ...          ...   \n",
       "71513            0            0            0            0            0   \n",
       "71514            0            0            0            0            0   \n",
       "71515            0            0            0            0            0   \n",
       "71516            0            0            0            0            0   \n",
       "71517            0            0            0            1            0   \n",
       "\n",
       "       discharge_disposition_id_2  discharge_disposition_id_7  \\\n",
       "0                               0                           0   \n",
       "1                               0                           0   \n",
       "2                               0                           0   \n",
       "3                               0                           0   \n",
       "4                               0                           0   \n",
       "...                           ...                         ...   \n",
       "71513                           0                           0   \n",
       "71514                           0                           0   \n",
       "71515                           0                           0   \n",
       "71516                           0                           0   \n",
       "71517                           0                           0   \n",
       "\n",
       "       discharge_disposition_id_9  discharge_disposition_id_10  \\\n",
       "0                               0                            0   \n",
       "1                               0                            0   \n",
       "2                               0                            0   \n",
       "3                               0                            0   \n",
       "4                               0                            0   \n",
       "...                           ...                          ...   \n",
       "71513                           0                            0   \n",
       "71514                           0                            0   \n",
       "71515                           0                            0   \n",
       "71516                           0                            0   \n",
       "71517                           0                            0   \n",
       "\n",
       "       discharge_disposition_id_13  discharge_disposition_id_18  \\\n",
       "0                                0                            1   \n",
       "1                                0                            0   \n",
       "2                                0                            0   \n",
       "3                                0                            0   \n",
       "4                                0                            0   \n",
       "...                            ...                          ...   \n",
       "71513                            0                            0   \n",
       "71514                            0                            0   \n",
       "71515                            0                            0   \n",
       "71516                            0                            0   \n",
       "71517                            0                            0   \n",
       "\n",
       "       discharge_disposition_id_28  race_Asian  race_Caucasian  race_Hispanic  \\\n",
       "0                                0           0               1              0   \n",
       "1                                0           0               1              0   \n",
       "2                                0           0               0              0   \n",
       "3                                0           0               1              0   \n",
       "4                                0           0               1              0   \n",
       "...                            ...         ...             ...            ...   \n",
       "71513                            0           0               1              0   \n",
       "71514                            0           0               0              0   \n",
       "71515                            0           0               0              0   \n",
       "71516                            0           0               1              0   \n",
       "71517                            0           0               1              0   \n",
       "\n",
       "       race_Other  \n",
       "0               0  \n",
       "1               0  \n",
       "2               0  \n",
       "3               0  \n",
       "4               0  \n",
       "...           ...  \n",
       "71513           0  \n",
       "71514           1  \n",
       "71515           1  \n",
       "71516           0  \n",
       "71517           0  \n",
       "\n",
       "[71515 rows x 65 columns]"
      ]
     },
     "execution_count": 106,
     "metadata": {},
     "output_type": "execute_result"
    }
   ],
   "source": [
    "dummies"
   ]
  },
  {
   "cell_type": "code",
   "execution_count": 107,
   "metadata": {
    "colab": {},
    "colab_type": "code",
    "id": "ztHCrhuYJ_tb"
   },
   "outputs": [],
   "source": [
    "data.drop(dummy_encode,axis=1,inplace=True)\n",
    "data = pd.concat([data,dummies],axis=1)"
   ]
  },
  {
   "cell_type": "code",
   "execution_count": 108,
   "metadata": {
    "colab": {},
    "colab_type": "code",
    "id": "PAz_xFt-j_8Z"
   },
   "outputs": [
    {
     "data": {
      "text/html": [
       "<div>\n",
       "<style scoped>\n",
       "    .dataframe tbody tr th:only-of-type {\n",
       "        vertical-align: middle;\n",
       "    }\n",
       "\n",
       "    .dataframe tbody tr th {\n",
       "        vertical-align: top;\n",
       "    }\n",
       "\n",
       "    .dataframe thead th {\n",
       "        text-align: right;\n",
       "    }\n",
       "</style>\n",
       "<table border=\"1\" class=\"dataframe\">\n",
       "  <thead>\n",
       "    <tr style=\"text-align: right;\">\n",
       "      <th></th>\n",
       "      <th>gender</th>\n",
       "      <th>age</th>\n",
       "      <th>time_in_hospital</th>\n",
       "      <th>num_lab_procedures</th>\n",
       "      <th>num_procedures</th>\n",
       "      <th>num_medications</th>\n",
       "      <th>number_diagnoses</th>\n",
       "      <th>max_glu_serum</th>\n",
       "      <th>A1Cresult</th>\n",
       "      <th>metformin</th>\n",
       "      <th>repaglinide</th>\n",
       "      <th>nateglinide</th>\n",
       "      <th>chlorpropamide</th>\n",
       "      <th>glimepiride</th>\n",
       "      <th>acetohexamide</th>\n",
       "      <th>glipizide</th>\n",
       "      <th>glyburide</th>\n",
       "      <th>tolbutamide</th>\n",
       "      <th>pioglitazone</th>\n",
       "      <th>rosiglitazone</th>\n",
       "      <th>acarbose</th>\n",
       "      <th>miglitol</th>\n",
       "      <th>troglitazone</th>\n",
       "      <th>tolazamide</th>\n",
       "      <th>insulin</th>\n",
       "      <th>glyburide-metformin</th>\n",
       "      <th>glipizide-metformin</th>\n",
       "      <th>glimepiride-pioglitazone</th>\n",
       "      <th>metformin-rosiglitazone</th>\n",
       "      <th>metformin-pioglitazone</th>\n",
       "      <th>change</th>\n",
       "      <th>diabetesMed</th>\n",
       "      <th>readmitted</th>\n",
       "      <th>number_of_revisit</th>\n",
       "      <th>critical_visits</th>\n",
       "      <th>num_med_change</th>\n",
       "      <th>admission_source_id_4</th>\n",
       "      <th>admission_source_id_7</th>\n",
       "      <th>admission_source_id_9</th>\n",
       "      <th>admission_source_id_12</th>\n",
       "      <th>admission_type_id_3</th>\n",
       "      <th>admission_type_id_5</th>\n",
       "      <th>diag_1_1.0</th>\n",
       "      <th>diag_1_2.0</th>\n",
       "      <th>diag_1_3.0</th>\n",
       "      <th>diag_1_4.0</th>\n",
       "      <th>diag_1_5.0</th>\n",
       "      <th>diag_1_6.0</th>\n",
       "      <th>diag_1_7.0</th>\n",
       "      <th>diag_1_8.0</th>\n",
       "      <th>diag_1_9.0</th>\n",
       "      <th>diag_1_10.0</th>\n",
       "      <th>diag_1_11.0</th>\n",
       "      <th>diag_1_12.0</th>\n",
       "      <th>diag_1_13.0</th>\n",
       "      <th>diag_1_14.0</th>\n",
       "      <th>diag_1_16.0</th>\n",
       "      <th>diag_1_17.0</th>\n",
       "      <th>diag_2_1.0</th>\n",
       "      <th>diag_2_2.0</th>\n",
       "      <th>diag_2_3.0</th>\n",
       "      <th>diag_2_4.0</th>\n",
       "      <th>diag_2_5.0</th>\n",
       "      <th>diag_2_6.0</th>\n",
       "      <th>diag_2_7.0</th>\n",
       "      <th>diag_2_8.0</th>\n",
       "      <th>diag_2_9.0</th>\n",
       "      <th>diag_2_10.0</th>\n",
       "      <th>diag_2_11.0</th>\n",
       "      <th>diag_2_12.0</th>\n",
       "      <th>diag_2_13.0</th>\n",
       "      <th>diag_2_14.0</th>\n",
       "      <th>diag_2_16.0</th>\n",
       "      <th>diag_2_17.0</th>\n",
       "      <th>diag_3_1.0</th>\n",
       "      <th>diag_3_2.0</th>\n",
       "      <th>diag_3_3.0</th>\n",
       "      <th>diag_3_4.0</th>\n",
       "      <th>diag_3_5.0</th>\n",
       "      <th>diag_3_6.0</th>\n",
       "      <th>diag_3_7.0</th>\n",
       "      <th>diag_3_8.0</th>\n",
       "      <th>diag_3_9.0</th>\n",
       "      <th>diag_3_10.0</th>\n",
       "      <th>diag_3_11.0</th>\n",
       "      <th>diag_3_12.0</th>\n",
       "      <th>diag_3_13.0</th>\n",
       "      <th>diag_3_14.0</th>\n",
       "      <th>diag_3_16.0</th>\n",
       "      <th>diag_3_17.0</th>\n",
       "      <th>discharge_disposition_id_2</th>\n",
       "      <th>discharge_disposition_id_7</th>\n",
       "      <th>discharge_disposition_id_9</th>\n",
       "      <th>discharge_disposition_id_10</th>\n",
       "      <th>discharge_disposition_id_13</th>\n",
       "      <th>discharge_disposition_id_18</th>\n",
       "      <th>discharge_disposition_id_28</th>\n",
       "      <th>race_Asian</th>\n",
       "      <th>race_Caucasian</th>\n",
       "      <th>race_Hispanic</th>\n",
       "      <th>race_Other</th>\n",
       "    </tr>\n",
       "  </thead>\n",
       "  <tbody>\n",
       "    <tr>\n",
       "      <th>0</th>\n",
       "      <td>1</td>\n",
       "      <td>0</td>\n",
       "      <td>0</td>\n",
       "      <td>41</td>\n",
       "      <td>0</td>\n",
       "      <td>1</td>\n",
       "      <td>0</td>\n",
       "      <td>0</td>\n",
       "      <td>0</td>\n",
       "      <td>0</td>\n",
       "      <td>0</td>\n",
       "      <td>0</td>\n",
       "      <td>0</td>\n",
       "      <td>0</td>\n",
       "      <td>0</td>\n",
       "      <td>0</td>\n",
       "      <td>0</td>\n",
       "      <td>0</td>\n",
       "      <td>0</td>\n",
       "      <td>0</td>\n",
       "      <td>0</td>\n",
       "      <td>0</td>\n",
       "      <td>0</td>\n",
       "      <td>0</td>\n",
       "      <td>0</td>\n",
       "      <td>0</td>\n",
       "      <td>0</td>\n",
       "      <td>0</td>\n",
       "      <td>0</td>\n",
       "      <td>0</td>\n",
       "      <td>0</td>\n",
       "      <td>0</td>\n",
       "      <td>0</td>\n",
       "      <td>1</td>\n",
       "      <td>0</td>\n",
       "      <td>0</td>\n",
       "      <td>0</td>\n",
       "      <td>0</td>\n",
       "      <td>0</td>\n",
       "      <td>0</td>\n",
       "      <td>0</td>\n",
       "      <td>1</td>\n",
       "      <td>0</td>\n",
       "      <td>0</td>\n",
       "      <td>1</td>\n",
       "      <td>0</td>\n",
       "      <td>0</td>\n",
       "      <td>0</td>\n",
       "      <td>0</td>\n",
       "      <td>0</td>\n",
       "      <td>0</td>\n",
       "      <td>0</td>\n",
       "      <td>0</td>\n",
       "      <td>0</td>\n",
       "      <td>0</td>\n",
       "      <td>0</td>\n",
       "      <td>0</td>\n",
       "      <td>0</td>\n",
       "      <td>0</td>\n",
       "      <td>0</td>\n",
       "      <td>0</td>\n",
       "      <td>0</td>\n",
       "      <td>0</td>\n",
       "      <td>0</td>\n",
       "      <td>0</td>\n",
       "      <td>0</td>\n",
       "      <td>0</td>\n",
       "      <td>0</td>\n",
       "      <td>0</td>\n",
       "      <td>0</td>\n",
       "      <td>0</td>\n",
       "      <td>0</td>\n",
       "      <td>0</td>\n",
       "      <td>0</td>\n",
       "      <td>0</td>\n",
       "      <td>0</td>\n",
       "      <td>0</td>\n",
       "      <td>0</td>\n",
       "      <td>0</td>\n",
       "      <td>0</td>\n",
       "      <td>0</td>\n",
       "      <td>0</td>\n",
       "      <td>0</td>\n",
       "      <td>0</td>\n",
       "      <td>0</td>\n",
       "      <td>0</td>\n",
       "      <td>0</td>\n",
       "      <td>0</td>\n",
       "      <td>0</td>\n",
       "      <td>0</td>\n",
       "      <td>0</td>\n",
       "      <td>0</td>\n",
       "      <td>0</td>\n",
       "      <td>0</td>\n",
       "      <td>0</td>\n",
       "      <td>1</td>\n",
       "      <td>0</td>\n",
       "      <td>0</td>\n",
       "      <td>1</td>\n",
       "      <td>0</td>\n",
       "      <td>0</td>\n",
       "    </tr>\n",
       "    <tr>\n",
       "      <th>1</th>\n",
       "      <td>1</td>\n",
       "      <td>0</td>\n",
       "      <td>0</td>\n",
       "      <td>59</td>\n",
       "      <td>0</td>\n",
       "      <td>18</td>\n",
       "      <td>1</td>\n",
       "      <td>0</td>\n",
       "      <td>0</td>\n",
       "      <td>0</td>\n",
       "      <td>0</td>\n",
       "      <td>0</td>\n",
       "      <td>0</td>\n",
       "      <td>0</td>\n",
       "      <td>0</td>\n",
       "      <td>0</td>\n",
       "      <td>0</td>\n",
       "      <td>0</td>\n",
       "      <td>0</td>\n",
       "      <td>0</td>\n",
       "      <td>0</td>\n",
       "      <td>0</td>\n",
       "      <td>0</td>\n",
       "      <td>0</td>\n",
       "      <td>1</td>\n",
       "      <td>0</td>\n",
       "      <td>0</td>\n",
       "      <td>0</td>\n",
       "      <td>0</td>\n",
       "      <td>0</td>\n",
       "      <td>1</td>\n",
       "      <td>1</td>\n",
       "      <td>0</td>\n",
       "      <td>1</td>\n",
       "      <td>0</td>\n",
       "      <td>1</td>\n",
       "      <td>0</td>\n",
       "      <td>1</td>\n",
       "      <td>0</td>\n",
       "      <td>0</td>\n",
       "      <td>0</td>\n",
       "      <td>0</td>\n",
       "      <td>0</td>\n",
       "      <td>0</td>\n",
       "      <td>1</td>\n",
       "      <td>0</td>\n",
       "      <td>0</td>\n",
       "      <td>0</td>\n",
       "      <td>0</td>\n",
       "      <td>0</td>\n",
       "      <td>0</td>\n",
       "      <td>0</td>\n",
       "      <td>0</td>\n",
       "      <td>0</td>\n",
       "      <td>0</td>\n",
       "      <td>0</td>\n",
       "      <td>0</td>\n",
       "      <td>0</td>\n",
       "      <td>0</td>\n",
       "      <td>0</td>\n",
       "      <td>1</td>\n",
       "      <td>0</td>\n",
       "      <td>0</td>\n",
       "      <td>0</td>\n",
       "      <td>0</td>\n",
       "      <td>0</td>\n",
       "      <td>0</td>\n",
       "      <td>0</td>\n",
       "      <td>0</td>\n",
       "      <td>0</td>\n",
       "      <td>0</td>\n",
       "      <td>0</td>\n",
       "      <td>0</td>\n",
       "      <td>0</td>\n",
       "      <td>0</td>\n",
       "      <td>0</td>\n",
       "      <td>1</td>\n",
       "      <td>0</td>\n",
       "      <td>0</td>\n",
       "      <td>0</td>\n",
       "      <td>0</td>\n",
       "      <td>0</td>\n",
       "      <td>0</td>\n",
       "      <td>0</td>\n",
       "      <td>0</td>\n",
       "      <td>0</td>\n",
       "      <td>0</td>\n",
       "      <td>0</td>\n",
       "      <td>0</td>\n",
       "      <td>0</td>\n",
       "      <td>0</td>\n",
       "      <td>0</td>\n",
       "      <td>0</td>\n",
       "      <td>0</td>\n",
       "      <td>0</td>\n",
       "      <td>0</td>\n",
       "      <td>0</td>\n",
       "      <td>0</td>\n",
       "      <td>1</td>\n",
       "      <td>0</td>\n",
       "      <td>0</td>\n",
       "    </tr>\n",
       "  </tbody>\n",
       "</table>\n",
       "</div>"
      ],
      "text/plain": [
       "  gender age time_in_hospital  num_lab_procedures  num_procedures  \\\n",
       "0      1   0                0                  41               0   \n",
       "1      1   0                0                  59               0   \n",
       "\n",
       "   num_medications number_diagnoses max_glu_serum A1Cresult metformin  \\\n",
       "0                1                0             0         0         0   \n",
       "1               18                1             0         0         0   \n",
       "\n",
       "  repaglinide nateglinide chlorpropamide glimepiride acetohexamide glipizide  \\\n",
       "0           0           0              0           0             0         0   \n",
       "1           0           0              0           0             0         0   \n",
       "\n",
       "  glyburide tolbutamide pioglitazone rosiglitazone acarbose miglitol  \\\n",
       "0         0           0            0             0        0        0   \n",
       "1         0           0            0             0        0        0   \n",
       "\n",
       "  troglitazone tolazamide insulin glyburide-metformin glipizide-metformin  \\\n",
       "0            0          0       0                   0                   0   \n",
       "1            0          0       1                   0                   0   \n",
       "\n",
       "  glimepiride-pioglitazone metformin-rosiglitazone metformin-pioglitazone  \\\n",
       "0                        0                       0                      0   \n",
       "1                        0                       0                      0   \n",
       "\n",
       "  change diabetesMed  readmitted  number_of_revisit  critical_visits  \\\n",
       "0      0           0           0                  1                0   \n",
       "1      1           1           0                  1                0   \n",
       "\n",
       "   num_med_change  admission_source_id_4  admission_source_id_7  \\\n",
       "0               0                      0                      0   \n",
       "1               1                      0                      1   \n",
       "\n",
       "   admission_source_id_9  admission_source_id_12  admission_type_id_3  \\\n",
       "0                      0                       0                    0   \n",
       "1                      0                       0                    0   \n",
       "\n",
       "   admission_type_id_5  diag_1_1.0  diag_1_2.0  diag_1_3.0  diag_1_4.0  \\\n",
       "0                    1           0           0           1           0   \n",
       "1                    0           0           0           1           0   \n",
       "\n",
       "   diag_1_5.0  diag_1_6.0  diag_1_7.0  diag_1_8.0  diag_1_9.0  diag_1_10.0  \\\n",
       "0           0           0           0           0           0            0   \n",
       "1           0           0           0           0           0            0   \n",
       "\n",
       "   diag_1_11.0  diag_1_12.0  diag_1_13.0  diag_1_14.0  diag_1_16.0  \\\n",
       "0            0            0            0            0            0   \n",
       "1            0            0            0            0            0   \n",
       "\n",
       "   diag_1_17.0  diag_2_1.0  diag_2_2.0  diag_2_3.0  diag_2_4.0  diag_2_5.0  \\\n",
       "0            0           0           0           0           0           0   \n",
       "1            0           0           0           1           0           0   \n",
       "\n",
       "   diag_2_6.0  diag_2_7.0  diag_2_8.0  diag_2_9.0  diag_2_10.0  diag_2_11.0  \\\n",
       "0           0           0           0           0            0            0   \n",
       "1           0           0           0           0            0            0   \n",
       "\n",
       "   diag_2_12.0  diag_2_13.0  diag_2_14.0  diag_2_16.0  diag_2_17.0  \\\n",
       "0            0            0            0            0            0   \n",
       "1            0            0            0            0            0   \n",
       "\n",
       "   diag_3_1.0  diag_3_2.0  diag_3_3.0  diag_3_4.0  diag_3_5.0  diag_3_6.0  \\\n",
       "0           0           0           0           0           0           0   \n",
       "1           0           0           1           0           0           0   \n",
       "\n",
       "   diag_3_7.0  diag_3_8.0  diag_3_9.0  diag_3_10.0  diag_3_11.0  diag_3_12.0  \\\n",
       "0           0           0           0            0            0            0   \n",
       "1           0           0           0            0            0            0   \n",
       "\n",
       "   diag_3_13.0  diag_3_14.0  diag_3_16.0  diag_3_17.0  \\\n",
       "0            0            0            0            0   \n",
       "1            0            0            0            0   \n",
       "\n",
       "   discharge_disposition_id_2  discharge_disposition_id_7  \\\n",
       "0                           0                           0   \n",
       "1                           0                           0   \n",
       "\n",
       "   discharge_disposition_id_9  discharge_disposition_id_10  \\\n",
       "0                           0                            0   \n",
       "1                           0                            0   \n",
       "\n",
       "   discharge_disposition_id_13  discharge_disposition_id_18  \\\n",
       "0                            0                            1   \n",
       "1                            0                            0   \n",
       "\n",
       "   discharge_disposition_id_28  race_Asian  race_Caucasian  race_Hispanic  \\\n",
       "0                            0           0               1              0   \n",
       "1                            0           0               1              0   \n",
       "\n",
       "   race_Other  \n",
       "0           0  \n",
       "1           0  "
      ]
     },
     "execution_count": 108,
     "metadata": {},
     "output_type": "execute_result"
    }
   ],
   "source": [
    "data.head(2)"
   ]
  },
  {
   "cell_type": "code",
   "execution_count": 109,
   "metadata": {
    "colab": {},
    "colab_type": "code",
    "id": "3D3-mICZkF6C"
   },
   "outputs": [
    {
     "data": {
      "text/plain": [
       "(71515, 101)"
      ]
     },
     "execution_count": 109,
     "metadata": {},
     "output_type": "execute_result"
    }
   ],
   "source": [
    "data.shape"
   ]
  },
  {
   "cell_type": "code",
   "execution_count": 110,
   "metadata": {
    "colab": {},
    "colab_type": "code",
    "id": "pjo_HBydW886"
   },
   "outputs": [
    {
     "data": {
      "text/plain": [
       "0"
      ]
     },
     "execution_count": 110,
     "metadata": {},
     "output_type": "execute_result"
    }
   ],
   "source": [
    "data.isna().sum().sum()"
   ]
  },
  {
   "cell_type": "code",
   "execution_count": 111,
   "metadata": {},
   "outputs": [],
   "source": [
    "data.to_csv('cleaned_data.csv',index=False)"
   ]
  }
 ],
 "metadata": {
  "colab": {
   "collapsed_sections": [],
   "name": " Impact of Haemoglobin(HbA1c) on diabetic patient’s readmission rate",
   "provenance": []
  },
  "kernelspec": {
   "display_name": "Python 3",
   "language": "python",
   "name": "python3"
  },
  "language_info": {
   "codemirror_mode": {
    "name": "ipython",
    "version": 3
   },
   "file_extension": ".py",
   "mimetype": "text/x-python",
   "name": "python",
   "nbconvert_exporter": "python",
   "pygments_lexer": "ipython3",
   "version": "3.8.3"
  }
 },
 "nbformat": 4,
 "nbformat_minor": 1
}
