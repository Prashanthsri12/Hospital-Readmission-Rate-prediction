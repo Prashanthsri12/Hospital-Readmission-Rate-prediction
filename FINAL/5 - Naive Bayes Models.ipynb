{
 "cells": [
  {
   "cell_type": "code",
   "execution_count": 1,
   "metadata": {},
   "outputs": [],
   "source": [
    "import numpy as np\n",
    "import pandas as pd\n",
    "import matplotlib.pyplot as plt\n",
    "import seaborn as sns\n",
    "from sklearn import metrics\n",
    "from sklearn.metrics import auc,accuracy_score,precision_score,recall_score,classification_report,confusion_matrix,roc_auc_score,roc_curve\n",
    "from sklearn.model_selection import train_test_split\n",
    "from imblearn.over_sampling import SMOTE\n",
    "from collections import Counter\n",
    "from sklearn import model_selection\n",
    "import warnings\n",
    "warnings.filterwarnings('ignore')\n",
    "from imblearn.under_sampling import RandomUnderSampler, ClusterCentroids,TomekLinks,NeighbourhoodCleaningRule,NearMiss\n",
    "\n",
    "def down_sampling(X,y,down_sampling_type,info):\n",
    "    '''refer : https://towardsdatascience.com/sampling-techniques-for-extremely-imbalanced-data-part-i-under-sampling-a8dbc3d8d6d8'''\n",
    "    \n",
    "    #random under sampling\n",
    "    if down_sampling_type == 'random':\n",
    "        sampler = RandomUnderSampler(sampling_strategy = 15/85,random_state=0)\n",
    "        X_ds, y_ds = sampler.fit_sample(X, y)\n",
    "        if info:\n",
    "            print('After random down sampling {}'.format(Counter(y_ds)))\n",
    "        return X_ds,y_ds\n",
    "    \n",
    "    #nearmiss under sampling\n",
    "    if down_sampling_type == 'nearmiss':\n",
    "        sampler = NearMiss(sampling_strategy = 15/85,random_state=0)\n",
    "        X_ds, y_ds = sampler.fit_sample(X, y)\n",
    "        if info:\n",
    "            print('After nearmiss down sampling {}'.format(Counter(y_ds)))        \n",
    "    return X_ds,y_ds\n",
    "\n",
    "#------------------------------------------------------------------------\n",
    "    \n",
    "def up_sampling(X,y,info):\n",
    "    \n",
    "    #up sampling\n",
    "    sm = SMOTE(sampling_strategy = 30/70,random_state=0 )\n",
    "    X_us, y_us = sm.fit_sample(X, y)\n",
    "    if info:\n",
    "        print('After SMOTE up sampling {}'.format(Counter(y_us)))\n",
    "    return X_us,y_us\n",
    "\n",
    "#------------------------------------------------------------------------\n",
    "    \n",
    "def re_sampling(X,y,info,sampling_type,down_sampling_type):\n",
    "    \n",
    "    if sampling_type=='none':\n",
    "        if info:\n",
    "            print('split as in original data {}'.format(Counter(y)))\n",
    "        return X,y\n",
    "\n",
    "    if sampling_type=='down_sampling':\n",
    "        X_ds,y_ds = down_sampling(X,y,down_sampling_type=down_sampling_type,info=info)\n",
    "        return X_ds,y_ds\n",
    "    \n",
    "    if sampling_type=='up_sampling':\n",
    "        X_us,y_us = up_sampling(X,y,info=info)\n",
    "        return X_us,y_us\n",
    "    \n",
    "    if sampling_type=='hybrid':\n",
    "        X_ds,y_ds = down_sampling(X,y,down_sampling_type=down_sampling_type,info=info)\n",
    "        X_hs,y_hs = up_sampling(X_ds,y_ds,info=info)\n",
    "        return X_hs,y_hs\n",
    "\n",
    "#----------------------------------------------------------------------------------\n",
    "\n",
    "def train_test_resampled_split(X,y,info,sampling_type,down_sampling_type,test_size):  \n",
    "    \n",
    "    if info:\n",
    "        print('Before sampling {}'.format(Counter(y)))\n",
    "    X_rs,y_rs = re_sampling(X,y,info=info,sampling_type=sampling_type,down_sampling_type=down_sampling_type)\n",
    "    \n",
    "    \n",
    "    \n",
    "    X_train,X_test,y_train,y_test = train_test_split(X_rs,y_rs,test_size=test_size,random_state=0,stratify=y_rs)\n",
    "    \n",
    "    print('-'*50)\n",
    "    \n",
    "    return X_train,X_test,y_train,y_test\n",
    "\n",
    "#----------------------------------------------------------------------------------\n",
    "\n",
    "def cutoff_point(model,X,y,info,test_size,sampling_type,down_sampling_type,cv_search):\n",
    "\n",
    "    X_train,X_test,y_train,y_test = train_test_resampled_split(X=X,y=y,info=info,test_size=test_size,sampling_type=sampling_type,down_sampling_type=down_sampling_type)\n",
    "    \n",
    "    if cv_search != True:\n",
    "        model[1].fit(X_train, y_train)\n",
    "\n",
    "    prd = model[1].predict(X_test)\n",
    "    proba = model[1].predict_proba(X_test)\n",
    "    \n",
    "    y_pred_df = pd.DataFrame(proba)\n",
    "    y_pred_1 = y_pred_df.iloc[:,1]\n",
    "    y_test_df = pd.DataFrame(y_test)\n",
    "\n",
    "    y_pred_1.reset_index(drop=True, inplace=True)\n",
    "    y_test_df.reset_index(drop=True, inplace=True)\n",
    "\n",
    "    y_pred_final = pd.concat([y_test_df,y_pred_1],axis=1)\n",
    "    y_pred_final= y_pred_final.rename(columns={ 0:'readmitted',1 : 'readmitted_probability'})\n",
    "    y_pred_final['predicted'] = y_pred_final.readmitted_probability.map( lambda x: 1 if x > 0.5 else 0)\n",
    "   \n",
    "\n",
    "    numbers = [float(x)/100 for x in range(100)]\n",
    "    for i in numbers:\n",
    "        y_pred_final[i]= y_pred_final.readmitted_probability.map( lambda x: 1 if x > i else 0)\n",
    "    y_pred_final.head()\n",
    "\n",
    "    cutoff_df = pd.DataFrame( columns = ['prob','accuracy','sensitivity','specificity','var_ssa','recall','precision','var_pra','Area Under Curve'])\n",
    "    from sklearn.metrics import confusion_matrix\n",
    "    \n",
    "    for i in numbers:\n",
    "        cm1 = confusion_matrix( y_pred_final.readmitted, y_pred_final[i] )\n",
    "        total1=sum(sum(cm1))\n",
    "        \n",
    "        tp = cm1[0,0]\n",
    "        tn = cm1[1,1]\n",
    "        fp = cm1[1,0]\n",
    "        fn = cm1[0,1]\n",
    "        \n",
    "        accuracy = (tp+tn)/total1\n",
    "        \n",
    "        sensi = tp/(tp+fn)\n",
    "        speci = tn/(tn+fp)\n",
    "        \n",
    "        recall = tp/(tp+fn)\n",
    "        precision = tp/(tp+fp)\n",
    "        \n",
    "        var_ssa = np.std([accuracy,sensi,speci])\n",
    "        var_pra = np.std([accuracy,recall,precision])\n",
    "        \n",
    "        fpr, tpr, thresholds = roc_curve(y_pred_final.readmitted, y_pred_final[i])\n",
    "        auc = metrics.auc(fpr, tpr)\n",
    "        \n",
    "        cutoff_df.loc[i] =[ i ,accuracy,sensi,speci,var_ssa,recall,precision,var_pra,auc]\n",
    "\n",
    "    print('-'*50)\n",
    "    print('Finding Optimal Cutoff Point based on accuracy, recall, precision')\n",
    "    cutoff_df.plot.line(x='prob', y=['accuracy','recall','precision'])\n",
    "    plt.show()\n",
    "    optimum_pra = cutoff_df.iloc[cutoff_df['var_pra'].argmin()]\n",
    "    print('Optimum cutoff probability is {0:.2f}'.format(optimum_pra[0]))\n",
    "    \n",
    "    optimum_accuracy = accuracy_score(y_pred_final.readmitted,y_pred_final[optimum_pra[0]])\n",
    "    optimum_precision = precision_score(y_pred_final.readmitted,y_pred_final[optimum_pra[0]])\n",
    "    optimum_recall = recall_score(y_pred_final.readmitted,y_pred_final[optimum_pra[0]])\n",
    "    optimum_roc_auc = roc_auc_score(y_pred_final.readmitted,y_pred_final[optimum_pra[0]])\n",
    "    \n",
    "    print(\"Accuracy is {0:.2f}\".format(optimum_accuracy))\n",
    "    print(\"Precision is {0:.2f}\".format(optimum_precision))\n",
    "    print(\"Recall is {0:.2f}\".format(optimum_recall))\n",
    "    print(\"ROC_AUC Score is {0:.2f}\".format(optimum_roc_auc))\n",
    "    \n",
    "    result_for_optimized.loc[model[0]+'_OC'] = [optimum_accuracy,optimum_precision,optimum_recall,optimum_roc_auc]\n",
    "    \n",
    "    print(\"\\nClassification report\\n\",classification_report(y_pred_final.readmitted,y_pred_final[optimum_pra[0]]))\n",
    "    print(\"confusion matrix \\n\\n\", confusion_matrix(y_pred_final.readmitted,y_pred_final[optimum_pra[0]]))\n",
    "    \n",
    "    return cutoff_df\n",
    "\n",
    "#----------------------------------------------------------------------------------\n",
    "\n",
    "def plot_roc_curve(y_true,proba):\n",
    "    fpr, tpr, threshold = roc_curve(y_true, proba)\n",
    "    roc_auc = auc(fpr, tpr)\n",
    "\n",
    "    plt.title('Receiver Operating Characteristic')\n",
    "    plt.plot(fpr, tpr, 'b', label = 'AUC = %0.2f' % roc_auc)\n",
    "    plt.legend(loc = 'lower right')\n",
    "    plt.plot([0, 1], [0, 1],'r--')\n",
    "    plt.xlim([0, 1])\n",
    "    plt.ylim([0, 1])\n",
    "    plt.ylabel('True Positive Rate')\n",
    "    plt.xlabel('False Positive Rate')\n",
    "    plt.show()\n",
    "\n",
    "#----------------------------------------------------------------------------------\n",
    "    \n",
    "def model_check(model,X,y,sampling_type,down_sampling_type,test_size=0.15,cv_search=False,info=False):\n",
    "    \n",
    "    print(model[0])\n",
    "    print('-'*50)\n",
    "    \n",
    "    if cv_search :\n",
    "        \n",
    "        print('Data set Before resampling {}'.format(Counter(y)) if info else '')\n",
    "        \n",
    "        X_train,X_test,y_train,y_test, = train_test_resampled_split(X,y,test_size=test_size,sampling_type=sampling_type,down_sampling_type=down_sampling_type,info=info)\n",
    "        \n",
    "        print('Train set After resampling {}'.format(Counter(y_train)))\n",
    "        print('Test set After resampling {}'.format(Counter(y_test)))\n",
    "            \n",
    "        model[1].fit(X_train, y_train)\n",
    "        prd = model[1].predict(X_test)\n",
    "        proba = model[1].predict_proba(X_test)[:,1]\n",
    "\n",
    "        accuracy = accuracy_score(y_test, prd)\n",
    "        precision = precision_score(y_test, prd)\n",
    "        recall = recall_score(y_test, prd)\n",
    "        roc_auc = roc_auc_score(y_test,proba)\n",
    "\n",
    "        print(\"Accuracy is {0:.2f}\".format(accuracy))\n",
    "        print(\"Precision is {0:.2f}\".format(precision))\n",
    "        print(\"Recall is {0:.2f}\".format(recall))\n",
    "        print(\"ROC_AUC Score is {0:.2f}\".format(roc_auc))\n",
    "        plot_roc_curve(y_test,proba)\n",
    "        print(\"\\nClassification report\\n\",classification_report(y_test, prd))\n",
    "        print(\"confusion matrix \\n\\n\", confusion_matrix(y_test,prd)) \n",
    "        print('-'*50)\n",
    "        print('best_parameters')\n",
    "        print(model[1].best_params_)\n",
    "        \n",
    "        result.loc[model[0]] = [accuracy,precision,recall,roc_auc]\n",
    "\n",
    "        \n",
    "    else : \n",
    "    \n",
    "        kf = model_selection.StratifiedKFold(n_splits=10,shuffle=True,random_state=1)\n",
    "        i=1\n",
    "        cv_results=[]\n",
    "        cv_df = pd.DataFrame( columns = ['kfold','accuracy','recall','precision','ROC_AUC'])\n",
    "        for train_index,test_index in kf.split(X,y):\n",
    "            print('{} of KFold {}'.format(i,kf.n_splits))\n",
    "\n",
    "            xtr,xte = X.loc[train_index],X.loc[test_index]\n",
    "            ytr,yte = y.loc[train_index],y.loc[test_index]\n",
    "\n",
    "            X_tr_rs,y_tr_rs = re_sampling(xtr,ytr,info=info,sampling_type=sampling_type,down_sampling_type=down_sampling_type)\n",
    "\n",
    "            X_te_rs,y_te_rs = re_sampling(xte,yte,info=info,sampling_type=sampling_type,down_sampling_type=down_sampling_type)\n",
    "\n",
    "            model[1].fit(X_tr_rs, y_tr_rs)\n",
    "            y_pred = model[1].predict(X_te_rs)\n",
    "            y_proba = model[1].predict_proba(X_te_rs)[:,1]\n",
    "\n",
    "            accuracy = accuracy_score(y_te_rs, y_pred)\n",
    "            precision = precision_score(y_te_rs, y_pred)\n",
    "            recall = recall_score(y_te_rs, y_pred)\n",
    "            roc_auc = roc_auc_score(y_te_rs,y_proba)\n",
    "            \n",
    "            cv_df.loc[i] =[ i ,accuracy,recall,precision,roc_auc]\n",
    "            '''print(\"\\nAccuracy is {0:.2f}\".format(accuracy))\n",
    "            print(\"Precision is {0:.2f}\".format(precision))\n",
    "            print(\"Recall is {0:.2f}\".format(recall))\n",
    "            print(\"ROC_AUC Score is {0:.2f}\".format(roc_auc))\n",
    "\n",
    "            plot_roc_curve(y_te_rs,y_proba)\n",
    "\n",
    "            print(\"\\nClassification report\\n\",classification_report(y_te_rs, y_pred))\n",
    "            print(\"confusion matrix \\n\\n\", confusion_matrix(y_te_rs,y_pred))\n",
    "            print('-'*50)'''\n",
    "\n",
    "            i+=1    \n",
    "\n",
    "        print('\\n\\n',cv_df)\n",
    "        print('\\nAverage accuracy after k-fold = {}'.format(np.mean(cv_df['accuracy'])))\n",
    "        print('Average recall after k-fold = {}'.format(np.mean(cv_df['recall'])))\n",
    "        print('Average precision after k-fold = {}'.format(np.mean(cv_df['precision'])))\n",
    "        print('Average ROC_AUC after k-fold = {}'.format(np.mean(cv_df['ROC_AUC'])))\n",
    "    \n",
    "        result.loc[model[0]] = [np.mean(cv_df['accuracy']),np.mean(cv_df['precision']),np.mean(cv_df['recall']),np.mean(cv_df['ROC_AUC'])]\n",
    "    \n",
    "    print('-'*50)\n",
    "    print('\\n')\n",
    "    cutoff_df = cutoff_point(model,X,y,cv_search=cv_search,info=info,test_size=test_size,sampling_type=sampling_type,down_sampling_type=down_sampling_type)\n",
    "\n",
    "    return \n",
    "\n",
    "result = pd.DataFrame(columns=['Accuracy','Precision','Recall','AUC_ROC'])\n",
    "result_for_optimized = pd.DataFrame(columns=['Accuracy','Precision','Recall','AUC_ROC'])"
   ]
  },
  {
   "cell_type": "code",
   "execution_count": 2,
   "metadata": {},
   "outputs": [],
   "source": [
    "data = pd.read_csv('final_data.csv')\n",
    "X = data.drop('readmitted',axis=1)\n",
    "y = data['readmitted']"
   ]
  },
  {
   "cell_type": "code",
   "execution_count": 3,
   "metadata": {},
   "outputs": [
    {
     "name": "stdout",
     "output_type": "stream",
     "text": [
      "Naive Bayes Classifier\n",
      "--------------------------------------------------\n",
      "1 of KFold 10\n",
      "2 of KFold 10\n",
      "3 of KFold 10\n",
      "4 of KFold 10\n",
      "5 of KFold 10\n",
      "6 of KFold 10\n",
      "7 of KFold 10\n",
      "8 of KFold 10\n",
      "9 of KFold 10\n",
      "10 of KFold 10\n",
      "\n",
      "\n",
      "     kfold  accuracy    recall  precision   ROC_AUC\n",
      "1     1.0  0.537026  0.821218   0.375674  0.774645\n",
      "2     2.0  0.568847  0.838245   0.396530  0.784482\n",
      "3     3.0  0.532954  0.850229   0.376593  0.781036\n",
      "4     4.0  0.566889  0.803139   0.391707  0.776435\n",
      "5     5.0  0.558650  0.812296   0.387520  0.770677\n",
      "6     6.0  0.568651  0.819908   0.394579  0.778357\n",
      "7     7.0  0.570222  0.833661   0.396944  0.786264\n",
      "8     8.0  0.566686  0.815324   0.392868  0.779937\n",
      "9     9.0  0.578668  0.824492   0.401467  0.784298\n",
      "10   10.0  0.574936  0.809430   0.397555  0.776271\n",
      "\n",
      "Average accuracy after k-fold = 0.5623529865510094\n",
      "Average recall after k-fold = 0.8227942810959308\n",
      "Average precision after k-fold = 0.39114379154756296\n",
      "Average ROC_AUC after k-fold = 0.7792401893775801\n",
      "--------------------------------------------------\n",
      "\n",
      "\n",
      "--------------------------------------------------\n",
      "--------------------------------------------------\n",
      "Finding Optimal Cutoff Point based on accuracy, recall, precision\n"
     ]
    },
    {
     "data": {
      "image/png": "[encoded data removed]",
      "text/plain": [
       "<Figure size 432x288 with 1 Axes>"
      ]
     },
     "metadata": {
      "needs_background": "light"
     },
     "output_type": "display_data"
    },
    {
     "name": "stdout",
     "output_type": "stream",
     "text": [
      "Optimum cutoff probability is 0.99\n",
      "Accuracy is 0.62\n",
      "Precision is 0.43\n",
      "Recall is 0.79\n",
      "ROC_AUC Score is 0.67\n",
      "\n",
      "Classification report\n",
      "               precision    recall  f1-score   support\n",
      "\n",
      "           0       0.86      0.55      0.67      5349\n",
      "           1       0.43      0.79      0.55      2293\n",
      "\n",
      "    accuracy                           0.62      7642\n",
      "   macro avg       0.64      0.67      0.61      7642\n",
      "weighted avg       0.73      0.62      0.63      7642\n",
      "\n",
      "confusion matrix \n",
      "\n",
      " [[2930 2419]\n",
      " [ 492 1801]]\n"
     ]
    }
   ],
   "source": [
    "from sklearn.naive_bayes import GaussianNB\n",
    "gnb = ['Naive Bayes Classifier',GaussianNB()]\n",
    "model_check(gnb,X,y,sampling_type='hybrid',down_sampling_type='nearmiss',cv_search=False,info=False)"
   ]
  },
  {
   "cell_type": "code",
   "execution_count": null,
   "metadata": {},
   "outputs": [],
   "source": []
  },
  {
   "cell_type": "code",
   "execution_count": 4,
   "metadata": {},
   "outputs": [
    {
     "data": {
      "text/html": [
       "<div>\n",
       "<style scoped>\n",
       "    .dataframe tbody tr th:only-of-type {\n",
       "        vertical-align: middle;\n",
       "    }\n",
       "\n",
       "    .dataframe tbody tr th {\n",
       "        vertical-align: top;\n",
       "    }\n",
       "\n",
       "    .dataframe thead th {\n",
       "        text-align: right;\n",
       "    }\n",
       "</style>\n",
       "<table border=\"1\" class=\"dataframe\">\n",
       "  <thead>\n",
       "    <tr style=\"text-align: right;\">\n",
       "      <th></th>\n",
       "      <th>Accuracy</th>\n",
       "      <th>Precision</th>\n",
       "      <th>Recall</th>\n",
       "      <th>AUC_ROC</th>\n",
       "    </tr>\n",
       "  </thead>\n",
       "  <tbody>\n",
       "    <tr>\n",
       "      <th>Naive Bayes Classifier</th>\n",
       "      <td>0.562353</td>\n",
       "      <td>0.391144</td>\n",
       "      <td>0.822794</td>\n",
       "      <td>0.77924</td>\n",
       "    </tr>\n",
       "  </tbody>\n",
       "</table>\n",
       "</div>"
      ],
      "text/plain": [
       "                        Accuracy  Precision    Recall  AUC_ROC\n",
       "Naive Bayes Classifier  0.562353   0.391144  0.822794  0.77924"
      ]
     },
     "execution_count": 4,
     "metadata": {},
     "output_type": "execute_result"
    }
   ],
   "source": [
    "result"
   ]
  },
  {
   "cell_type": "code",
   "execution_count": 5,
   "metadata": {},
   "outputs": [
    {
     "data": {
      "text/html": [
       "<div>\n",
       "<style scoped>\n",
       "    .dataframe tbody tr th:only-of-type {\n",
       "        vertical-align: middle;\n",
       "    }\n",
       "\n",
       "    .dataframe tbody tr th {\n",
       "        vertical-align: top;\n",
       "    }\n",
       "\n",
       "    .dataframe thead th {\n",
       "        text-align: right;\n",
       "    }\n",
       "</style>\n",
       "<table border=\"1\" class=\"dataframe\">\n",
       "  <thead>\n",
       "    <tr style=\"text-align: right;\">\n",
       "      <th></th>\n",
       "      <th>Accuracy</th>\n",
       "      <th>Precision</th>\n",
       "      <th>Recall</th>\n",
       "      <th>AUC_ROC</th>\n",
       "    </tr>\n",
       "  </thead>\n",
       "  <tbody>\n",
       "    <tr>\n",
       "      <th>Naive Bayes Classifier_OC</th>\n",
       "      <td>0.619079</td>\n",
       "      <td>0.426777</td>\n",
       "      <td>0.785434</td>\n",
       "      <td>0.6666</td>\n",
       "    </tr>\n",
       "  </tbody>\n",
       "</table>\n",
       "</div>"
      ],
      "text/plain": [
       "                           Accuracy  Precision    Recall  AUC_ROC\n",
       "Naive Bayes Classifier_OC  0.619079   0.426777  0.785434   0.6666"
      ]
     },
     "execution_count": 5,
     "metadata": {},
     "output_type": "execute_result"
    }
   ],
   "source": [
    "result_for_optimized"
   ]
  },
  {
   "cell_type": "code",
   "execution_count": 6,
   "metadata": {},
   "outputs": [
    {
     "data": {
      "image/png": "[encoded data removed]",
      "text/plain": [
       "<Figure size 576x720 with 1 Axes>"
      ]
     },
     "metadata": {
      "needs_background": "light"
     },
     "output_type": "display_data"
    }
   ],
   "source": [
    "plt.figure(figsize=(8, 10))\n",
    "\n",
    "ax = plt.subplot(111)\n",
    "\n",
    "models = result.index\n",
    "values = list(result['Accuracy'])\n",
    "model = np.arange(len(result))\n",
    "\n",
    "plt.bar(model, values, align='center', width = 0.1, color = 'red', label= 'accuracy')\n",
    "#----------------\n",
    "ax = plt.subplot(111)\n",
    "\n",
    "models = result.index\n",
    "values = list(result['Precision'])\n",
    "model = np.arange(len(result))\n",
    "\n",
    "plt.bar(model+0.1, values, align='center', width = 0.1, color = 'blue', label= 'precision')\n",
    "#----------------\n",
    "ax = plt.subplot(111)\n",
    "\n",
    "models = result.index\n",
    "values = list(result['Recall'])\n",
    "model = np.arange(len(result))\n",
    "\n",
    "plt.bar(model+0.2, values, align='center', width = 0.1, alpha=0.7, color = 'Green', label= 'recall')\n",
    "#----------------\n",
    "ax = plt.subplot(111)\n",
    "\n",
    "models = result.index\n",
    "values = list(result['AUC_ROC'])\n",
    "model = np.arange(len(result))\n",
    "\n",
    "plt.bar(model+0.3, values, align='center', width = 0.1, alpha=0.7, color = 'black', label= 'auc_roc')\n",
    "plt.xticks(model, models,rotation=50,size=10)\n",
    "plt.yticks(size=10)\n",
    "ax.set_ylim(top=1.15)\n",
    "#----------------\n",
    "ax = plt.subplot(111)\n",
    "\n",
    "ax.spines['right'].set_visible(False)\n",
    "ax.spines['top'].set_visible(False)\n",
    "ax.legend(loc = 1,prop={'size': 10})\n",
    "ax.grid(which='major',linestyle='--', linewidth='0.5', color='grey')\n",
    "\n",
    "plt.show() "
   ]
  },
  {
   "cell_type": "code",
   "execution_count": 7,
   "metadata": {},
   "outputs": [
    {
     "data": {
      "image/png": "[encoded data removed]",
      "text/plain": [
       "<Figure size 576x720 with 1 Axes>"
      ]
     },
     "metadata": {
      "needs_background": "light"
     },
     "output_type": "display_data"
    }
   ],
   "source": [
    "plt.figure(figsize=(8, 10))\n",
    "\n",
    "ax = plt.subplot(111)\n",
    "\n",
    "models = result_for_optimized.index\n",
    "values = list(result_for_optimized['Accuracy'])\n",
    "model = np.arange(len(result_for_optimized))\n",
    "\n",
    "plt.bar(model, values, align='center', width = 0.1, color = 'red', label= 'accuracy')\n",
    "#----------------\n",
    "ax = plt.subplot(111)\n",
    "\n",
    "models = result_for_optimized.index\n",
    "values = list(result_for_optimized['Precision'])\n",
    "model = np.arange(len(result_for_optimized))\n",
    "\n",
    "plt.bar(model+0.1, values, align='center', width = 0.1, color = 'blue', label= 'precision')\n",
    "#----------------\n",
    "ax = plt.subplot(111)\n",
    "\n",
    "models = result_for_optimized.index\n",
    "values = list(result_for_optimized['Recall'])\n",
    "model = np.arange(len(result_for_optimized))\n",
    "\n",
    "plt.bar(model+0.2, values, align='center', width = 0.1, alpha=0.7, color = 'Green', label= 'recall')\n",
    "#----------------\n",
    "ax = plt.subplot(111)\n",
    "\n",
    "models = result_for_optimized.index\n",
    "values = list(result_for_optimized['AUC_ROC'])\n",
    "model = np.arange(len(result_for_optimized))\n",
    "\n",
    "plt.bar(model+0.3, values, align='center', width = 0.1, alpha=0.7, color = 'black', label= 'auc_roc')\n",
    "plt.xticks(model, models,rotation=50,size=10)\n",
    "plt.yticks(size=10)\n",
    "ax.set_ylim(top=1.15)\n",
    "#----------------\n",
    "ax = plt.subplot(111)\n",
    "\n",
    "ax.spines['right'].set_visible(False)\n",
    "ax.spines['top'].set_visible(False)\n",
    "ax.legend(loc = 1,prop={'size': 10})\n",
    "ax.grid(which='major',linestyle='--', linewidth='0.5', color='grey')\n",
    "\n",
    "plt.show() "
   ]
  },
  {
   "cell_type": "code",
   "execution_count": null,
   "metadata": {},
   "outputs": [],
   "source": []
  },
  {
   "cell_type": "code",
   "execution_count": null,
   "metadata": {},
   "outputs": [],
   "source": []
  },
  {
   "cell_type": "code",
   "execution_count": 8,
   "metadata": {},
   "outputs": [],
   "source": [
    "X_rs,y_rs = re_sampling(X,y,sampling_type='hybrid',down_sampling_type='nearmiss',info=False)"
   ]
  },
  {
   "cell_type": "code",
   "execution_count": 9,
   "metadata": {
    "scrolled": false
   },
   "outputs": [
    {
     "data": {
      "image/png": "[encoded data removed]",
      "text/plain": [
       "<Figure size 432x288 with 1 Axes>"
      ]
     },
     "metadata": {
      "needs_background": "light"
     },
     "output_type": "display_data"
    },
    {
     "name": "stdout",
     "output_type": "stream",
     "text": [
      "best n_estimator based on bias error =  1\n"
     ]
    },
    {
     "data": {
      "image/png": "[encoded data removed]",
      "text/plain": [
       "<Figure size 432x288 with 1 Axes>"
      ]
     },
     "metadata": {
      "needs_background": "light"
     },
     "output_type": "display_data"
    },
    {
     "name": "stdout",
     "output_type": "stream",
     "text": [
      "best n_estimator based on variance error =  2\n"
     ]
    }
   ],
   "source": [
    "from sklearn import model_selection\n",
    "from sklearn.ensemble import BaggingClassifier\n",
    "from sklearn.preprocessing import StandardScaler\n",
    "\n",
    "\n",
    "Bag_bias=[]\n",
    "Bag_var=[]\n",
    "for val in np.arange(1,50):\n",
    "    Bag=BaggingClassifier(base_estimator=gnb[1],n_estimators=val,random_state=0)\n",
    "    kfold = model_selection.KFold(shuffle=True,n_splits=10,random_state=0)\n",
    "    cv_results = model_selection.cross_val_score(Bag, X_rs, y_rs,cv=kfold, scoring='roc_auc')\n",
    "    Bag_var.append(np.var(cv_results,ddof=1))\n",
    "    Bag_bias.append(1-np.mean(cv_results))\n",
    "    \n",
    "x_axis=np.arange(1,50)\n",
    "plt.plot(x_axis,Bag_bias)\n",
    "plt.title('Bias Error')\n",
    "plt.show()\n",
    "print('best n_estimator based on bias error = ',(np.argmin(Bag_bias)+1))\n",
    "plt.plot(x_axis,Bag_var)\n",
    "plt.title('Varience Error')\n",
    "plt.show()\n",
    "print('best n_estimator based on variance error = ',(np.argmin(Bag_var)+1))"
   ]
  },
  {
   "cell_type": "code",
   "execution_count": 10,
   "metadata": {},
   "outputs": [
    {
     "data": {
      "text/html": [
       "<div>\n",
       "<style scoped>\n",
       "    .dataframe tbody tr th:only-of-type {\n",
       "        vertical-align: middle;\n",
       "    }\n",
       "\n",
       "    .dataframe tbody tr th {\n",
       "        vertical-align: top;\n",
       "    }\n",
       "\n",
       "    .dataframe thead th {\n",
       "        text-align: right;\n",
       "    }\n",
       "</style>\n",
       "<table border=\"1\" class=\"dataframe\">\n",
       "  <thead>\n",
       "    <tr style=\"text-align: right;\">\n",
       "      <th></th>\n",
       "      <th>N-Estimators</th>\n",
       "      <th>Variance Error</th>\n",
       "      <th>Bias Error</th>\n",
       "    </tr>\n",
       "  </thead>\n",
       "  <tbody>\n",
       "    <tr>\n",
       "      <th>0</th>\n",
       "      <td>1</td>\n",
       "      <td>0.000070</td>\n",
       "      <td>0.218239</td>\n",
       "    </tr>\n",
       "    <tr>\n",
       "      <th>1</th>\n",
       "      <td>2</td>\n",
       "      <td>0.000065</td>\n",
       "      <td>0.219071</td>\n",
       "    </tr>\n",
       "    <tr>\n",
       "      <th>3</th>\n",
       "      <td>4</td>\n",
       "      <td>0.000068</td>\n",
       "      <td>0.219451</td>\n",
       "    </tr>\n",
       "    <tr>\n",
       "      <th>2</th>\n",
       "      <td>3</td>\n",
       "      <td>0.000067</td>\n",
       "      <td>0.219479</td>\n",
       "    </tr>\n",
       "    <tr>\n",
       "      <th>4</th>\n",
       "      <td>5</td>\n",
       "      <td>0.000070</td>\n",
       "      <td>0.219542</td>\n",
       "    </tr>\n",
       "  </tbody>\n",
       "</table>\n",
       "</div>"
      ],
      "text/plain": [
       "   N-Estimators  Variance Error  Bias Error\n",
       "0             1        0.000070    0.218239\n",
       "1             2        0.000065    0.219071\n",
       "3             4        0.000068    0.219451\n",
       "2             3        0.000067    0.219479\n",
       "4             5        0.000070    0.219542"
      ]
     },
     "execution_count": 10,
     "metadata": {},
     "output_type": "execute_result"
    }
   ],
   "source": [
    "Bag_result = pd.DataFrame()\n",
    "Bag_result['N-Estimators'] = np.arange(1,50)\n",
    "Bag_result['Variance Error'] = Bag_var\n",
    "Bag_result['Bias Error'] = Bag_bias\n",
    "Bag_result.sort_values('Bias Error').head()"
   ]
  },
  {
   "cell_type": "code",
   "execution_count": null,
   "metadata": {},
   "outputs": [],
   "source": []
  },
  {
   "cell_type": "code",
   "execution_count": 11,
   "metadata": {},
   "outputs": [
    {
     "data": {
      "text/plain": [
       "1"
      ]
     },
     "execution_count": 11,
     "metadata": {},
     "output_type": "execute_result"
    }
   ],
   "source": [
    "best_bag_est = int(Bag_result.sort_values('Bias Error').head(1)['N-Estimators'].values)\n",
    "best_bag_est"
   ]
  },
  {
   "cell_type": "code",
   "execution_count": 12,
   "metadata": {},
   "outputs": [],
   "source": [
    "Bagged_NB=['Bagged_NB',BaggingClassifier(base_estimator=gnb[1],n_estimators=best_bag_est,random_state=0)]"
   ]
  },
  {
   "cell_type": "code",
   "execution_count": 13,
   "metadata": {},
   "outputs": [
    {
     "name": "stdout",
     "output_type": "stream",
     "text": [
      "Bagged_NB\n",
      "--------------------------------------------------\n",
      "1 of KFold 10\n",
      "2 of KFold 10\n",
      "3 of KFold 10\n",
      "4 of KFold 10\n",
      "5 of KFold 10\n",
      "6 of KFold 10\n",
      "7 of KFold 10\n",
      "8 of KFold 10\n",
      "9 of KFold 10\n",
      "10 of KFold 10\n",
      "\n",
      "\n",
      "     kfold  accuracy    recall  precision   ROC_AUC\n",
      "1     1.0  0.522294  0.864440   0.372355  0.798214\n",
      "2     2.0  0.629935  0.834316   0.438554  0.812614\n",
      "3     3.0  0.533150  0.877044   0.379564  0.810140\n",
      "4     4.0  0.571008  0.840419   0.398079  0.807538\n",
      "5     5.0  0.543154  0.858077   0.383178  0.804653\n",
      "6     6.0  0.509527  0.880812   0.367486  0.800971\n",
      "7     7.0  0.463956  0.912246   0.349298  0.817218\n",
      "8     8.0  0.621489  0.835625   0.432249  0.812420\n",
      "9     9.0  0.569633  0.859201   0.399027  0.812110\n",
      "10   10.0  0.550383  0.850688   0.386607  0.800310\n",
      "\n",
      "Average accuracy after k-fold = 0.5514529328481349\n",
      "Average recall after k-fold = 0.861286766264788\n",
      "Average precision after k-fold = 0.39063980948573296\n",
      "Average ROC_AUC after k-fold = 0.807618808019362\n",
      "--------------------------------------------------\n",
      "\n",
      "\n",
      "--------------------------------------------------\n",
      "--------------------------------------------------\n",
      "Finding Optimal Cutoff Point based on accuracy, recall, precision\n"
     ]
    },
    {
     "data": {
      "image/png": "[encoded data removed]",
      "text/plain": [
       "<Figure size 432x288 with 1 Axes>"
      ]
     },
     "metadata": {
      "needs_background": "light"
     },
     "output_type": "display_data"
    },
    {
     "name": "stdout",
     "output_type": "stream",
     "text": [
      "Optimum cutoff probability is 0.99\n",
      "Accuracy is 0.61\n",
      "Precision is 0.42\n",
      "Recall is 0.81\n",
      "ROC_AUC Score is 0.67\n",
      "\n",
      "Classification report\n",
      "               precision    recall  f1-score   support\n",
      "\n",
      "           0       0.87      0.53      0.65      5349\n",
      "           1       0.42      0.81      0.56      2293\n",
      "\n",
      "    accuracy                           0.61      7642\n",
      "   macro avg       0.64      0.67      0.60      7642\n",
      "weighted avg       0.73      0.61      0.62      7642\n",
      "\n",
      "confusion matrix \n",
      "\n",
      " [[2817 2532]\n",
      " [ 439 1854]]\n"
     ]
    }
   ],
   "source": [
    "model_check(Bagged_NB,X,y,sampling_type='hybrid',down_sampling_type='nearmiss',test_size=0.15,cv_search=False,info=False)"
   ]
  },
  {
   "cell_type": "code",
   "execution_count": null,
   "metadata": {},
   "outputs": [],
   "source": []
  },
  {
   "cell_type": "code",
   "execution_count": null,
   "metadata": {},
   "outputs": [],
   "source": []
  },
  {
   "cell_type": "code",
   "execution_count": 14,
   "metadata": {},
   "outputs": [
    {
     "data": {
      "image/png": "[encoded data removed]",
      "text/plain": [
       "<Figure size 432x288 with 1 Axes>"
      ]
     },
     "metadata": {
      "needs_background": "light"
     },
     "output_type": "display_data"
    },
    {
     "name": "stdout",
     "output_type": "stream",
     "text": [
      "best n_estimator based on bias error =  1\n"
     ]
    },
    {
     "data": {
      "image/png": "[encoded data removed]",
      "text/plain": [
       "<Figure size 432x288 with 1 Axes>"
      ]
     },
     "metadata": {
      "needs_background": "light"
     },
     "output_type": "display_data"
    },
    {
     "name": "stdout",
     "output_type": "stream",
     "text": [
      "best n_estimator based on variance error =  1\n"
     ]
    }
   ],
   "source": [
    "from sklearn.ensemble import AdaBoostClassifier\n",
    "\n",
    "Ada_nb_bias=[]\n",
    "Ada_nb_var =[]\n",
    "for val in np.arange(1,50):\n",
    "    Ada_nb=AdaBoostClassifier(base_estimator=gnb,n_estimators=val,random_state=0)\n",
    "    kfold = model_selection.KFold(shuffle=True,n_splits=10,random_state=0)\n",
    "    cv_results = model_selection.cross_val_score(Ada_nb, X_rs, y_rs,cv=kfold, scoring='roc_auc')\n",
    "    Ada_nb_bias.append(1-np.mean(cv_results))\n",
    "    Ada_nb_var.append(np.var(cv_results,ddof=1))\n",
    "\n",
    "x_axis=np.arange(1,50)\n",
    "plt.plot(x_axis,Ada_nb_bias)\n",
    "plt.title('Bias Error')\n",
    "plt.show()\n",
    "print('best n_estimator based on bias error = ',(np.argmin(Ada_nb_bias)+1))\n",
    "plt.plot(x_axis,Ada_nb_var)\n",
    "plt.title('Varience Error')\n",
    "plt.show()\n",
    "print('best n_estimator based on variance error = ',(np.argmin(Ada_nb_var)+1))"
   ]
  },
  {
   "cell_type": "code",
   "execution_count": 15,
   "metadata": {},
   "outputs": [
    {
     "data": {
      "text/html": [
       "<div>\n",
       "<style scoped>\n",
       "    .dataframe tbody tr th:only-of-type {\n",
       "        vertical-align: middle;\n",
       "    }\n",
       "\n",
       "    .dataframe tbody tr th {\n",
       "        vertical-align: top;\n",
       "    }\n",
       "\n",
       "    .dataframe thead th {\n",
       "        text-align: right;\n",
       "    }\n",
       "</style>\n",
       "<table border=\"1\" class=\"dataframe\">\n",
       "  <thead>\n",
       "    <tr style=\"text-align: right;\">\n",
       "      <th></th>\n",
       "      <th>N-Estimators</th>\n",
       "      <th>Variance Error</th>\n",
       "      <th>Bias Error</th>\n",
       "    </tr>\n",
       "  </thead>\n",
       "  <tbody>\n",
       "    <tr>\n",
       "      <th>0</th>\n",
       "      <td>1</td>\n",
       "      <td>NaN</td>\n",
       "      <td>NaN</td>\n",
       "    </tr>\n",
       "    <tr>\n",
       "      <th>1</th>\n",
       "      <td>2</td>\n",
       "      <td>NaN</td>\n",
       "      <td>NaN</td>\n",
       "    </tr>\n",
       "    <tr>\n",
       "      <th>2</th>\n",
       "      <td>3</td>\n",
       "      <td>NaN</td>\n",
       "      <td>NaN</td>\n",
       "    </tr>\n",
       "    <tr>\n",
       "      <th>3</th>\n",
       "      <td>4</td>\n",
       "      <td>NaN</td>\n",
       "      <td>NaN</td>\n",
       "    </tr>\n",
       "    <tr>\n",
       "      <th>4</th>\n",
       "      <td>5</td>\n",
       "      <td>NaN</td>\n",
       "      <td>NaN</td>\n",
       "    </tr>\n",
       "  </tbody>\n",
       "</table>\n",
       "</div>"
      ],
      "text/plain": [
       "   N-Estimators  Variance Error  Bias Error\n",
       "0             1             NaN         NaN\n",
       "1             2             NaN         NaN\n",
       "2             3             NaN         NaN\n",
       "3             4             NaN         NaN\n",
       "4             5             NaN         NaN"
      ]
     },
     "execution_count": 15,
     "metadata": {},
     "output_type": "execute_result"
    }
   ],
   "source": [
    "Ada_nb_result = pd.DataFrame()\n",
    "Ada_nb_result['N-Estimators'] = np.arange(1,50)\n",
    "Ada_nb_result['Variance Error'] = Ada_nb_var\n",
    "Ada_nb_result['Bias Error'] = Ada_nb_bias\n",
    "Ada_nb_result.sort_values('Bias Error').head()"
   ]
  },
  {
   "cell_type": "code",
   "execution_count": null,
   "metadata": {},
   "outputs": [],
   "source": []
  },
  {
   "cell_type": "code",
   "execution_count": 16,
   "metadata": {},
   "outputs": [
    {
     "data": {
      "text/plain": [
       "1"
      ]
     },
     "execution_count": 16,
     "metadata": {},
     "output_type": "execute_result"
    }
   ],
   "source": [
    "best_boost_est = int(Ada_nb_result.sort_values('Bias Error').head(1)['N-Estimators'].values)\n",
    "best_boost_est"
   ]
  },
  {
   "cell_type": "code",
   "execution_count": 17,
   "metadata": {},
   "outputs": [],
   "source": [
    "boosted_NB=['boosted_NB',AdaBoostClassifier(base_estimator=gnb[1],n_estimators=best_boost_est,random_state=0)]"
   ]
  },
  {
   "cell_type": "code",
   "execution_count": 18,
   "metadata": {},
   "outputs": [
    {
     "name": "stdout",
     "output_type": "stream",
     "text": [
      "boosted_NB\n",
      "--------------------------------------------------\n",
      "1 of KFold 10\n",
      "2 of KFold 10\n",
      "3 of KFold 10\n",
      "4 of KFold 10\n",
      "5 of KFold 10\n",
      "6 of KFold 10\n",
      "7 of KFold 10\n",
      "8 of KFold 10\n",
      "9 of KFold 10\n",
      "10 of KFold 10\n",
      "\n",
      "\n",
      "     kfold  accuracy    recall  precision   ROC_AUC\n",
      "1     1.0  0.543508  0.849378   0.382483  0.801594\n",
      "2     2.0  0.602829  0.845449   0.419565  0.810727\n",
      "3     3.0  0.548843  0.869850   0.387642  0.810421\n",
      "4     4.0  0.591605  0.829300   0.410489  0.809092\n",
      "5     5.0  0.605532  0.835840   0.420671  0.803133\n",
      "6     6.0  0.593400  0.836280   0.412335  0.802806\n",
      "7     7.0  0.612257  0.859201   0.427222  0.821727\n",
      "8     8.0  0.605186  0.837590   0.420585  0.812364\n",
      "9     9.0  0.600275  0.842174   0.417532  0.811470\n",
      "10   10.0  0.595168  0.823183   0.412402  0.802987\n",
      "\n",
      "Average accuracy after k-fold = 0.5898601089823895\n",
      "Average recall after k-fold = 0.8428244937538093\n",
      "Average precision after k-fold = 0.4110926263341835\n",
      "Average ROC_AUC after k-fold = 0.8086319565773705\n",
      "--------------------------------------------------\n",
      "\n",
      "\n",
      "--------------------------------------------------\n",
      "--------------------------------------------------\n",
      "Finding Optimal Cutoff Point based on accuracy, recall, precision\n"
     ]
    },
    {
     "data": {
      "image/png": "[encoded data removed]",
      "text/plain": [
       "<Figure size 432x288 with 1 Axes>"
      ]
     },
     "metadata": {
      "needs_background": "light"
     },
     "output_type": "display_data"
    },
    {
     "name": "stdout",
     "output_type": "stream",
     "text": [
      "Optimum cutoff probability is 0.99\n",
      "Accuracy is 0.65\n",
      "Precision is 0.45\n",
      "Recall is 0.79\n",
      "ROC_AUC Score is 0.69\n",
      "\n",
      "Classification report\n",
      "               precision    recall  f1-score   support\n",
      "\n",
      "           0       0.87      0.59      0.70      5349\n",
      "           1       0.45      0.79      0.57      2293\n",
      "\n",
      "    accuracy                           0.65      7642\n",
      "   macro avg       0.66      0.69      0.64      7642\n",
      "weighted avg       0.74      0.65      0.66      7642\n",
      "\n",
      "confusion matrix \n",
      "\n",
      " [[3144 2205]\n",
      " [ 489 1804]]\n"
     ]
    }
   ],
   "source": [
    "model_check(boosted_NB,X,y,sampling_type='hybrid',down_sampling_type='nearmiss',test_size=0.15,cv_search=False,info=False)"
   ]
  }
 ],
 "metadata": {
  "kernelspec": {
   "display_name": "Python 3",
   "language": "python",
   "name": "python3"
  },
  "language_info": {
   "codemirror_mode": {
    "name": "ipython",
    "version": 3
   },
   "file_extension": ".py",
   "mimetype": "text/x-python",
   "name": "python",
   "nbconvert_exporter": "python",
   "pygments_lexer": "ipython3",
   "version": "3.8.3"
  }
 },
 "nbformat": 4,
 "nbformat_minor": 4
}
